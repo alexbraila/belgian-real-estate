{
  "cells": [
    {
      "metadata": {},
      "cell_type": "markdown",
      "source": "## Read in the data"
    },
    {
      "metadata": {
        "trusted": false
      },
      "cell_type": "code",
      "source": "%matplotlib inline\n\nimport numpy as np\nimport pandas as pd\nimport matplotlib.pyplot as plt\nfrom itertools import product\nfrom sklearn import linear_model\nfrom sklearn.preprocessing import MinMaxScaler\n#from fancyimpute import KNN\nfrom sklearn.ensemble import GradientBoostingRegressor\n#from xgboost import XGBRegressor",
      "execution_count": 1,
      "outputs": []
    },
    {
      "metadata": {
        "trusted": false
      },
      "cell_type": "code",
      "source": "'''\n# Read the data, which is spread accross multiple files\nreal_estate1 = pd.read_excel('immo_by_municipality_1980-1989.xlsx', dtype = {'CD_YEAR': np.int16, 'CD_REFNIS': str})\nreal_estate2 = pd.read_excel('immo_by_municipality_1990-1999.xlsx', dtype = {'CD_YEAR': np.int16, 'CD_REFNIS': str})\nreal_estate3 = pd.read_excel('immo_by_municipality_2000-2009.xlsx', dtype = {'CD_YEAR': np.int16, 'CD_REFNIS': str})\nreal_estate4 = pd.read_excel('immo_by_municipality_2010-2019.xlsx', dtype = {'CD_YEAR': np.int16, 'CD_REFNIS': str})\n\n# Concatenate the data frames\nreal_estate = pd.concat([real_estate1, real_estate2, real_estate3, real_estate4], axis = 0, copy = False)\ndel real_estate1, real_estate2, real_estate3, real_estate4\n'''",
      "execution_count": 6,
      "outputs": []
    },
    {
      "metadata": {},
      "cell_type": "markdown",
      "source": "## Exploratory Data Analysis"
    },
    {
      "metadata": {
        "trusted": false
      },
      "cell_type": "code",
      "source": "real_estate = pd.read_csv('real_estate_data_yearly.csv.gz', sep = \";\",  dtype = {'CD_REFNIS': str})",
      "execution_count": 3,
      "outputs": []
    },
    {
      "metadata": {
        "trusted": false
      },
      "cell_type": "code",
      "source": "real_estate.shape",
      "execution_count": 8,
      "outputs": [
        {
          "data": {
            "text/plain": "(509295, 17)"
          },
          "execution_count": 8,
          "metadata": {},
          "output_type": "execute_result"
        }
      ]
    },
    {
      "metadata": {
        "trusted": false
      },
      "cell_type": "code",
      "source": "real_estate.head(10)",
      "execution_count": 9,
      "outputs": [
        {
          "data": {
            "text/html": "<div>\n<style scoped>\n    .dataframe tbody tr th:only-of-type {\n        vertical-align: middle;\n    }\n\n    .dataframe tbody tr th {\n        vertical-align: top;\n    }\n\n    .dataframe thead th {\n        text-align: right;\n    }\n</style>\n<table border=\"1\" class=\"dataframe\">\n  <thead>\n    <tr style=\"text-align: right;\">\n      <th></th>\n      <th>CD_YEAR</th>\n      <th>CD_TYPE_NL</th>\n      <th>CD_TYPE_FR</th>\n      <th>CD_REFNIS</th>\n      <th>CD_REFNIS_NL</th>\n      <th>CD_REFNIS_FR</th>\n      <th>CD_PERIOD</th>\n      <th>CD_CLASS_SURFACE</th>\n      <th>MS_TOTAL_TRANSACTIONS</th>\n      <th>MS_TOTAL_PRICE</th>\n      <th>MS_TOTAL_SURFACE</th>\n      <th>MS_MEAN_PRICE</th>\n      <th>MS_P10</th>\n      <th>MS_P25</th>\n      <th>MS_P50</th>\n      <th>MS_P75</th>\n      <th>MS_P90</th>\n    </tr>\n  </thead>\n  <tbody>\n    <tr>\n      <th>0</th>\n      <td>1980</td>\n      <td>gewone woonhuizen</td>\n      <td>maisons d'habitation</td>\n      <td>11001</td>\n      <td>AARTSELAAR</td>\n      <td>AARTSELAAR</td>\n      <td>Q1</td>\n      <td>totaal / total</td>\n      <td>15</td>\n      <td>938053.0</td>\n      <td>4671.0</td>\n      <td>62536.866667</td>\n      <td>31945.000000</td>\n      <td>54537.0</td>\n      <td>62519.0</td>\n      <td>72936.0</td>\n      <td>91721.0</td>\n    </tr>\n    <tr>\n      <th>1</th>\n      <td>1980</td>\n      <td>gewone woonhuizen</td>\n      <td>maisons d'habitation</td>\n      <td>11001</td>\n      <td>AARTSELAAR</td>\n      <td>AARTSELAAR</td>\n      <td>Q2</td>\n      <td>totaal / total</td>\n      <td>18</td>\n      <td>1051097.0</td>\n      <td>4953.0</td>\n      <td>58394.277778</td>\n      <td>32226.000000</td>\n      <td>54537.0</td>\n      <td>60734.0</td>\n      <td>61973.0</td>\n      <td>76847.0</td>\n    </tr>\n    <tr>\n      <th>2</th>\n      <td>1980</td>\n      <td>gewone woonhuizen</td>\n      <td>maisons d'habitation</td>\n      <td>11001</td>\n      <td>AARTSELAAR</td>\n      <td>AARTSELAAR</td>\n      <td>Q3</td>\n      <td>totaal / total</td>\n      <td>11</td>\n      <td>569785.0</td>\n      <td>4116.0</td>\n      <td>51798.636364</td>\n      <td>39043.000000</td>\n      <td>42142.0</td>\n      <td>54537.0</td>\n      <td>63461.0</td>\n      <td>64452.0</td>\n    </tr>\n    <tr>\n      <th>3</th>\n      <td>1980</td>\n      <td>gewone woonhuizen</td>\n      <td>maisons d'habitation</td>\n      <td>11001</td>\n      <td>AARTSELAAR</td>\n      <td>AARTSELAAR</td>\n      <td>Q4</td>\n      <td>totaal / total</td>\n      <td>7</td>\n      <td>NaN</td>\n      <td>NaN</td>\n      <td>NaN</td>\n      <td>NaN</td>\n      <td>NaN</td>\n      <td>NaN</td>\n      <td>NaN</td>\n      <td>NaN</td>\n    </tr>\n    <tr>\n      <th>4</th>\n      <td>1980</td>\n      <td>gewone woonhuizen</td>\n      <td>maisons d'habitation</td>\n      <td>11001</td>\n      <td>AARTSELAAR</td>\n      <td>AARTSELAAR</td>\n      <td>S1</td>\n      <td>totaal / total</td>\n      <td>33</td>\n      <td>1989150.0</td>\n      <td>9624.0</td>\n      <td>60277.272727</td>\n      <td>32226.000000</td>\n      <td>54537.0</td>\n      <td>60734.0</td>\n      <td>69559.0</td>\n      <td>76847.0</td>\n    </tr>\n    <tr>\n      <th>5</th>\n      <td>1980</td>\n      <td>gewone woonhuizen</td>\n      <td>maisons d'habitation</td>\n      <td>11001</td>\n      <td>AARTSELAAR</td>\n      <td>AARTSELAAR</td>\n      <td>S2</td>\n      <td>totaal / total</td>\n      <td>18</td>\n      <td>939145.0</td>\n      <td>6969.0</td>\n      <td>52174.722222</td>\n      <td>14874.000000</td>\n      <td>42142.0</td>\n      <td>55565.5</td>\n      <td>63461.0</td>\n      <td>69931.0</td>\n    </tr>\n    <tr>\n      <th>6</th>\n      <td>1980</td>\n      <td>gewone woonhuizen</td>\n      <td>maisons d'habitation</td>\n      <td>11001</td>\n      <td>AARTSELAAR</td>\n      <td>AARTSELAAR</td>\n      <td>Y</td>\n      <td>totaal / total</td>\n      <td>51</td>\n      <td>2928295.0</td>\n      <td>16593.0</td>\n      <td>57417.549020</td>\n      <td>32226.000000</td>\n      <td>49579.0</td>\n      <td>59494.0</td>\n      <td>68419.0</td>\n      <td>73129.0</td>\n    </tr>\n    <tr>\n      <th>7</th>\n      <td>1980</td>\n      <td>gewone woonhuizen</td>\n      <td>maisons d'habitation</td>\n      <td>11002</td>\n      <td>ANTWERPEN</td>\n      <td>ANVERS</td>\n      <td>Q1</td>\n      <td>totaal / total</td>\n      <td>772</td>\n      <td>24732620.0</td>\n      <td>167196.0</td>\n      <td>32037.072539</td>\n      <td>9916.000000</td>\n      <td>16361.0</td>\n      <td>26165.5</td>\n      <td>42142.0</td>\n      <td>61973.0</td>\n    </tr>\n    <tr>\n      <th>8</th>\n      <td>1980</td>\n      <td>gewone woonhuizen</td>\n      <td>maisons d'habitation</td>\n      <td>11002</td>\n      <td>ANTWERPEN</td>\n      <td>ANVERS</td>\n      <td>Q2</td>\n      <td>totaal / total</td>\n      <td>878</td>\n      <td>27972998.0</td>\n      <td>160825.0</td>\n      <td>31859.906606</td>\n      <td>9693.692308</td>\n      <td>15700.0</td>\n      <td>26029.0</td>\n      <td>42142.0</td>\n      <td>61973.0</td>\n    </tr>\n    <tr>\n      <th>9</th>\n      <td>1980</td>\n      <td>gewone woonhuizen</td>\n      <td>maisons d'habitation</td>\n      <td>11002</td>\n      <td>ANTWERPEN</td>\n      <td>ANVERS</td>\n      <td>Q3</td>\n      <td>totaal / total</td>\n      <td>537</td>\n      <td>16950291.0</td>\n      <td>98896.0</td>\n      <td>31564.787710</td>\n      <td>9916.000000</td>\n      <td>16113.0</td>\n      <td>24789.0</td>\n      <td>40902.0</td>\n      <td>61973.0</td>\n    </tr>\n  </tbody>\n</table>\n</div>",
            "text/plain": "   CD_YEAR         CD_TYPE_NL            CD_TYPE_FR CD_REFNIS CD_REFNIS_NL  \\\n0     1980  gewone woonhuizen  maisons d'habitation     11001   AARTSELAAR   \n1     1980  gewone woonhuizen  maisons d'habitation     11001   AARTSELAAR   \n2     1980  gewone woonhuizen  maisons d'habitation     11001   AARTSELAAR   \n3     1980  gewone woonhuizen  maisons d'habitation     11001   AARTSELAAR   \n4     1980  gewone woonhuizen  maisons d'habitation     11001   AARTSELAAR   \n5     1980  gewone woonhuizen  maisons d'habitation     11001   AARTSELAAR   \n6     1980  gewone woonhuizen  maisons d'habitation     11001   AARTSELAAR   \n7     1980  gewone woonhuizen  maisons d'habitation     11002    ANTWERPEN   \n8     1980  gewone woonhuizen  maisons d'habitation     11002    ANTWERPEN   \n9     1980  gewone woonhuizen  maisons d'habitation     11002    ANTWERPEN   \n\n  CD_REFNIS_FR CD_PERIOD CD_CLASS_SURFACE  MS_TOTAL_TRANSACTIONS  \\\n0   AARTSELAAR        Q1   totaal / total                     15   \n1   AARTSELAAR        Q2   totaal / total                     18   \n2   AARTSELAAR        Q3   totaal / total                     11   \n3   AARTSELAAR        Q4   totaal / total                      7   \n4   AARTSELAAR        S1   totaal / total                     33   \n5   AARTSELAAR        S2   totaal / total                     18   \n6   AARTSELAAR         Y   totaal / total                     51   \n7       ANVERS        Q1   totaal / total                    772   \n8       ANVERS        Q2   totaal / total                    878   \n9       ANVERS        Q3   totaal / total                    537   \n\n   MS_TOTAL_PRICE  MS_TOTAL_SURFACE  MS_MEAN_PRICE        MS_P10   MS_P25  \\\n0        938053.0            4671.0   62536.866667  31945.000000  54537.0   \n1       1051097.0            4953.0   58394.277778  32226.000000  54537.0   \n2        569785.0            4116.0   51798.636364  39043.000000  42142.0   \n3             NaN               NaN            NaN           NaN      NaN   \n4       1989150.0            9624.0   60277.272727  32226.000000  54537.0   \n5        939145.0            6969.0   52174.722222  14874.000000  42142.0   \n6       2928295.0           16593.0   57417.549020  32226.000000  49579.0   \n7      24732620.0          167196.0   32037.072539   9916.000000  16361.0   \n8      27972998.0          160825.0   31859.906606   9693.692308  15700.0   \n9      16950291.0           98896.0   31564.787710   9916.000000  16113.0   \n\n    MS_P50   MS_P75   MS_P90  \n0  62519.0  72936.0  91721.0  \n1  60734.0  61973.0  76847.0  \n2  54537.0  63461.0  64452.0  \n3      NaN      NaN      NaN  \n4  60734.0  69559.0  76847.0  \n5  55565.5  63461.0  69931.0  \n6  59494.0  68419.0  73129.0  \n7  26165.5  42142.0  61973.0  \n8  26029.0  42142.0  61973.0  \n9  24789.0  40902.0  61973.0  "
          },
          "execution_count": 9,
          "metadata": {},
          "output_type": "execute_result"
        }
      ]
    },
    {
      "metadata": {
        "trusted": false
      },
      "cell_type": "code",
      "source": "#real_estate.CD_PERIOD.unique()",
      "execution_count": 10,
      "outputs": [
        {
          "data": {
            "text/plain": "array(['Q1', 'Q2', 'Q3', 'Q4', 'S1', 'S2', 'Y'], dtype=object)"
          },
          "execution_count": 10,
          "metadata": {},
          "output_type": "execute_result"
        }
      ]
    },
    {
      "metadata": {},
      "cell_type": "markdown",
      "source": "First, we can see that we have quarterly, biannual and yearly statistics. We will only consider the yearly ones in this project<br>\nSecond, we have some percentile and quantile information, that we do not need, so we can filter out those columns<br>\nThird, the column names are not very meaningful, rename them"
    },
    {
      "metadata": {
        "trusted": false
      },
      "cell_type": "code",
      "source": "#real_estate = real_estate[real_estate.CD_PERIOD == 'Y']\n\nreal_estate = real_estate[['CD_YEAR', 'CD_TYPE_FR', 'CD_REFNIS', 'CD_REFNIS_FR', 'MS_TOTAL_TRANSACTIONS',\n                           'MS_TOTAL_PRICE', 'MS_TOTAL_SURFACE', 'MS_MEAN_PRICE']]\n\nreal_estate.rename(columns = {'CD_YEAR': 'Year', 'CD_TYPE_FR': 'Property_Type', 'CD_REFNIS': 'REFNIS',\n                              'CD_REFNIS_FR': 'Municipality_Name', 'MS_TOTAL_TRANSACTIONS': 'Total_Transactions',\n                              'MS_TOTAL_PRICE': 'Total_Price', 'MS_TOTAL_SURFACE': 'Total_Area',\n                              'MS_MEAN_PRICE': 'Mean_Price'}, inplace = True)",
      "execution_count": 11,
      "outputs": []
    },
    {
      "metadata": {},
      "cell_type": "markdown",
      "source": "Find the number of unique values for each column, to understand what we have to deal with"
    },
    {
      "metadata": {
        "trusted": false
      },
      "cell_type": "code",
      "source": "real_estate.nunique()",
      "execution_count": 13,
      "outputs": [
        {
          "data": {
            "text/plain": "Year                     38\nProperty_Type             4\nREFNIS                  589\nMunicipality_Name       588\nTotal_Transactions     1112\nTotal_Price           58673\nTotal_Area            41125\nMean_Price            59102\ndtype: int64"
          },
          "execution_count": 13,
          "metadata": {},
          "output_type": "execute_result"
        }
      ]
    },
    {
      "metadata": {},
      "cell_type": "markdown",
      "source": "We have 38 years, from 1980 till 2017, so the Year count is as expected<br>\nThere are 4 property types, namely:"
    },
    {
      "metadata": {
        "trusted": false
      },
      "cell_type": "code",
      "source": "real_estate.Property_Type.unique()",
      "execution_count": 14,
      "outputs": [
        {
          "data": {
            "text/plain": "array([\"maisons d'habitation\", 'villas, bungalows, maisons de campagne',\n       'appartements, flats, studios', 'terrains à bâtir'], dtype=object)"
          },
          "execution_count": 14,
          "metadata": {},
          "output_type": "execute_result"
        }
      ]
    },
    {
      "metadata": {
        "trusted": false
      },
      "cell_type": "code",
      "source": "real_estate.groupby('Property_Type').agg('count').reset_index()",
      "execution_count": 15,
      "outputs": [
        {
          "data": {
            "text/html": "<div>\n<style scoped>\n    .dataframe tbody tr th:only-of-type {\n        vertical-align: middle;\n    }\n\n    .dataframe tbody tr th {\n        vertical-align: top;\n    }\n\n    .dataframe thead th {\n        text-align: right;\n    }\n</style>\n<table border=\"1\" class=\"dataframe\">\n  <thead>\n    <tr style=\"text-align: right;\">\n      <th></th>\n      <th>Property_Type</th>\n      <th>Year</th>\n      <th>REFNIS</th>\n      <th>Municipality_Name</th>\n      <th>Total_Transactions</th>\n      <th>Total_Price</th>\n      <th>Total_Area</th>\n      <th>Mean_Price</th>\n    </tr>\n  </thead>\n  <tbody>\n    <tr>\n      <th>0</th>\n      <td>appartements, flats, studios</td>\n      <td>16348</td>\n      <td>16348</td>\n      <td>16348</td>\n      <td>16348</td>\n      <td>9239</td>\n      <td>0</td>\n      <td>9239</td>\n    </tr>\n    <tr>\n      <th>1</th>\n      <td>maisons d'habitation</td>\n      <td>22354</td>\n      <td>22354</td>\n      <td>22354</td>\n      <td>22354</td>\n      <td>22101</td>\n      <td>22101</td>\n      <td>22101</td>\n    </tr>\n    <tr>\n      <th>2</th>\n      <td>terrains à bâtir</td>\n      <td>20507</td>\n      <td>20507</td>\n      <td>20507</td>\n      <td>20507</td>\n      <td>18435</td>\n      <td>18435</td>\n      <td>18435</td>\n    </tr>\n    <tr>\n      <th>3</th>\n      <td>villas, bungalows, maisons de campagne</td>\n      <td>19698</td>\n      <td>19698</td>\n      <td>19698</td>\n      <td>19698</td>\n      <td>9426</td>\n      <td>9426</td>\n      <td>9426</td>\n    </tr>\n  </tbody>\n</table>\n</div>",
            "text/plain": "                            Property_Type   Year  REFNIS  Municipality_Name  \\\n0            appartements, flats, studios  16348   16348              16348   \n1                    maisons d'habitation  22354   22354              22354   \n2                        terrains à bâtir  20507   20507              20507   \n3  villas, bungalows, maisons de campagne  19698   19698              19698   \n\n   Total_Transactions  Total_Price  Total_Area  Mean_Price  \n0               16348         9239           0        9239  \n1               22354        22101       22101       22101  \n2               20507        18435       18435       18435  \n3               19698         9426        9426        9426  "
          },
          "execution_count": 15,
          "metadata": {},
          "output_type": "execute_result"
        }
      ]
    },
    {
      "metadata": {
        "trusted": false
      },
      "cell_type": "code",
      "source": "real_estate.groupby('Property_Type').agg('sum').reset_index()",
      "execution_count": 16,
      "outputs": [
        {
          "data": {
            "text/html": "<div>\n<style scoped>\n    .dataframe tbody tr th:only-of-type {\n        vertical-align: middle;\n    }\n\n    .dataframe tbody tr th {\n        vertical-align: top;\n    }\n\n    .dataframe thead th {\n        text-align: right;\n    }\n</style>\n<table border=\"1\" class=\"dataframe\">\n  <thead>\n    <tr style=\"text-align: right;\">\n      <th></th>\n      <th>Property_Type</th>\n      <th>Year</th>\n      <th>Total_Transactions</th>\n      <th>Total_Price</th>\n      <th>Total_Area</th>\n      <th>Mean_Price</th>\n    </tr>\n  </thead>\n  <tbody>\n    <tr>\n      <th>0</th>\n      <td>appartements, flats, studios</td>\n      <td>32705865.0</td>\n      <td>1106400</td>\n      <td>1.415378e+11</td>\n      <td>0.000000e+00</td>\n      <td>1.163915e+09</td>\n    </tr>\n    <tr>\n      <th>1</th>\n      <td>maisons d'habitation</td>\n      <td>44674437.0</td>\n      <td>2505623</td>\n      <td>2.497702e+11</td>\n      <td>1.603081e+09</td>\n      <td>2.241651e+09</td>\n    </tr>\n    <tr>\n      <th>2</th>\n      <td>terrains à bâtir</td>\n      <td>40952556.0</td>\n      <td>971912</td>\n      <td>4.648803e+10</td>\n      <td>1.154819e+09</td>\n      <td>9.911973e+05</td>\n    </tr>\n    <tr>\n      <th>3</th>\n      <td>villas, bungalows, maisons de campagne</td>\n      <td>39389378.0</td>\n      <td>361986</td>\n      <td>9.549157e+10</td>\n      <td>5.550089e+08</td>\n      <td>2.462367e+09</td>\n    </tr>\n  </tbody>\n</table>\n</div>",
            "text/plain": "                            Property_Type        Year  Total_Transactions  \\\n0            appartements, flats, studios  32705865.0             1106400   \n1                    maisons d'habitation  44674437.0             2505623   \n2                        terrains à bâtir  40952556.0              971912   \n3  villas, bungalows, maisons de campagne  39389378.0              361986   \n\n    Total_Price    Total_Area    Mean_Price  \n0  1.415378e+11  0.000000e+00  1.163915e+09  \n1  2.497702e+11  1.603081e+09  2.241651e+09  \n2  4.648803e+10  1.154819e+09  9.911973e+05  \n3  9.549157e+10  5.550089e+08  2.462367e+09  "
          },
          "execution_count": 16,
          "metadata": {},
          "output_type": "execute_result"
        }
      ]
    },
    {
      "metadata": {},
      "cell_type": "markdown",
      "source": "There are comparable number of transactions for all 4 property types, whereas there are 2.3 million house transactions, about a million each apartment and plot transactions and 300 k villa transactions. These seem reasonable differences<br>\nHowever, we have 589 unique REFNIS values (which is to be expected, since there are 589 Belgian municipalities), but only 588 municipality names. Let us find out why"
    },
    {
      "metadata": {
        "trusted": false
      },
      "cell_type": "code",
      "source": "temp = real_estate.drop_duplicates(subset = ['REFNIS', 'Municipality_Name']).groupby('Municipality_Name').size()\ntemp[temp == 2]",
      "execution_count": 17,
      "outputs": [
        {
          "data": {
            "text/plain": "Municipality_Name\nSAINT-NICOLAS    2\ndtype: int64"
          },
          "execution_count": 17,
          "metadata": {},
          "output_type": "execute_result"
        }
      ]
    },
    {
      "metadata": {
        "scrolled": true,
        "trusted": false
      },
      "cell_type": "code",
      "source": "real_estate.loc[real_estate.Municipality_Name == 'SAINT-NICOLAS', 'REFNIS'].unique()",
      "execution_count": 18,
      "outputs": [
        {
          "data": {
            "text/plain": "array(['46021', '62093'], dtype=object)"
          },
          "execution_count": 18,
          "metadata": {},
          "output_type": "execute_result"
        }
      ]
    },
    {
      "metadata": {},
      "cell_type": "markdown",
      "source": "A simple search on Google for 'Belgian municipality SAINT-NICOLAS' shows that there are 2 Belgian municipalities with this name, one in the Province of East Flanders and another one in the Province of Liège. Mystery solved<br><br>\nLet us check if the amount of data varies over time. This is in theory something we do not expect. While there are definitely more transactions in the recent years, due to population growth, the data consist of consolidated information, whose volume should be constant"
    },
    {
      "metadata": {
        "trusted": false
      },
      "cell_type": "code",
      "source": "temp = real_estate.groupby('Year').size().reset_index(name = 'Nr_Records')\ntemp.plot.bar(x = 'Year', y = 'Nr_Records', figsize = (9, 5));",
      "execution_count": 19,
      "outputs": [
        {
          "data": {
            "image/png": "[encoded data removed]",
            "text/plain": "<Figure size 648x360 with 1 Axes>"
          },
          "metadata": {
            "needs_background": "light"
          },
          "output_type": "display_data"
        }
      ]
    },
    {
      "metadata": {},
      "cell_type": "markdown",
      "source": "There seems to be an increasing amount of data as time goes by, however, as of 2015, there is a sharp drop"
    },
    {
      "metadata": {
        "trusted": false
      },
      "cell_type": "code",
      "source": "real_estate.loc[real_estate.Year >= 2015, 'Property_Type'].unique()",
      "execution_count": 20,
      "outputs": [
        {
          "data": {
            "text/plain": "array([\"maisons d'habitation\", 'villas, bungalows, maisons de campagne',\n       'appartements, flats, studios'], dtype=object)"
          },
          "execution_count": 20,
          "metadata": {},
          "output_type": "execute_result"
        }
      ]
    },
    {
      "metadata": {},
      "cell_type": "markdown",
      "source": "It seems that statistics about plots are no longer gathered or communicated as of 2015. We could drop this property type for all years, but instead let us only keep the data for 2014 and earlier, when all 4 property types are available"
    },
    {
      "metadata": {
        "trusted": false
      },
      "cell_type": "code",
      "source": "real_estate = real_estate[real_estate.Year <= 2014]",
      "execution_count": 21,
      "outputs": []
    },
    {
      "metadata": {},
      "cell_type": "markdown",
      "source": "We still need to investigate the reason for having more data as time goes by. If we had data for all years, all property types and all municipalities, we would have"
    },
    {
      "metadata": {
        "trusted": false
      },
      "cell_type": "code",
      "source": "35 * 4 * 589",
      "execution_count": 22,
      "outputs": [
        {
          "data": {
            "text/plain": "82460"
          },
          "execution_count": 22,
          "metadata": {},
          "output_type": "execute_result"
        }
      ]
    },
    {
      "metadata": {},
      "cell_type": "markdown",
      "source": "records, however we only have"
    },
    {
      "metadata": {
        "trusted": false
      },
      "cell_type": "code",
      "source": "real_estate.shape[0]",
      "execution_count": 23,
      "outputs": [
        {
          "data": {
            "text/plain": "73801"
          },
          "execution_count": 23,
          "metadata": {},
          "output_type": "execute_result"
        }
      ]
    },
    {
      "metadata": {
        "trusted": false
      },
      "cell_type": "code",
      "source": "print(real_estate.Total_Transactions.min(), real_estate.Total_Transactions.max())",
      "execution_count": 24,
      "outputs": [
        {
          "name": "stdout",
          "output_type": "stream",
          "text": "1 5699\n"
        }
      ]
    },
    {
      "metadata": {},
      "cell_type": "markdown",
      "source": "It looks like 0's are not reported and we are bound to have years when there are no transactions for some property types for the smaller municipalities<br>\nWe will need to add these 0's because the machine learning algorithm has to be aware of them<br>\nBefore doing that, let us check for correlation between year and price/area"
    },
    {
      "metadata": {
        "trusted": false
      },
      "cell_type": "code",
      "source": "temp = real_estate.groupby('Year').agg('sum').reset_index()\nfig, axes = plt.subplots(nrows = 2, ncols = 2, figsize = (12, 6))\n\nfor ycol, ax in zip(['Total_Transactions', 'Total_Price', 'Total_Area', 'Mean_Price'], axes.reshape(4, )):\n    temp.plot.scatter(x = 'Year', y = ycol, ax = ax)",
      "execution_count": 25,
      "outputs": [
        {
          "data": {
            "image/png": "[encoded data removed]",
            "text/plain": "<Figure size 864x432 with 4 Axes>"
          },
          "metadata": {
            "needs_background": "light"
          },
          "output_type": "display_data"
        }
      ]
    },
    {
      "metadata": {},
      "cell_type": "markdown",
      "source": "The number of transactions went down first, then sharply up for a few years and then it fluctuated with only a slight upward tendency<br>\nThe total area went followed the same pattern initially (i.e. first down and then sharply up), however, there is a clear downward tendency since 1990<br>\nThe price (both total and mean) went slightly down first and then steadily up, except for a period of a few years around 2005 when it went sharply up<br>\nThe computed correlations reflect these findings"
    },
    {
      "metadata": {
        "trusted": false
      },
      "cell_type": "code",
      "source": "temp.corr().iloc[0]",
      "execution_count": 26,
      "outputs": [
        {
          "data": {
            "text/plain": "Year                  1.000000\nTotal_Transactions    0.752870\nTotal_Price           0.952937\nTotal_Area            0.181720\nMean_Price            0.948791\nName: Year, dtype: float64"
          },
          "execution_count": 26,
          "metadata": {},
          "output_type": "execute_result"
        }
      ]
    },
    {
      "metadata": {
        "trusted": false
      },
      "cell_type": "code",
      "source": "fig, axes = plt.subplots(nrows = 2, ncols = 2, figsize = (12, 6))\n\nfor xcol, ax in zip(['Total_Transactions', 'Total_Price', 'Total_Area', 'Mean_Price'], axes.reshape(4, )):\n    real_estate.boxplot(column = xcol, by = 'Property_Type', ax = ax)\n    ax.set_xticklabels(['appartments', 'maisons', 'terrain', 'villas'])\n    ax.set_xlabel(None)",
      "execution_count": 27,
      "outputs": [
        {
          "data": {
            "image/png": "[encoded data removed]",
            "text/plain": "<Figure size 864x432 with 4 Axes>"
          },
          "metadata": {
            "needs_background": "light"
          },
          "output_type": "display_data"
        }
      ]
    },
    {
      "metadata": {},
      "cell_type": "markdown",
      "source": "The number of transactions and total price have way more spread for apartments and houses than for plots and villas, which makes sense, since the high values must come from municipalities which are part of big cities, where there are a lot more apartments and houses than plots and villas<br>\nThe total area has more or less the same spread across all property types (except for apartments, for which it is not given). However, since there are fewer transactions for plots than there are for houses and even fewer for villas, this means that the average area of villas is higher than that of plots which is higher than that of houses, a perfectly reasonable finding<br>\nThe average price has the most spread for villas, which is normal, since there are some municipalities with very expensive properties, like those at the North Sea and some Brussels municipalities. For plots, there seems to be very little spread, we will investigate why in the following section"
    },
    {
      "metadata": {},
      "cell_type": "markdown",
      "source": "## Missing Data and Data Consistency"
    },
    {
      "metadata": {
        "trusted": false
      },
      "cell_type": "code",
      "source": "real_estate.isnull().sum()",
      "execution_count": 28,
      "outputs": [
        {
          "data": {
            "text/plain": "Year                      0\nProperty_Type             0\nREFNIS                    0\nMunicipality_Name         0\nTotal_Transactions        0\nTotal_Price           18705\nTotal_Area            26932\nMean_Price            18705\ndtype: int64"
          },
          "execution_count": 28,
          "metadata": {},
          "output_type": "execute_result"
        }
      ]
    },
    {
      "metadata": {},
      "cell_type": "markdown",
      "source": "We've got quite a few records with missing price and even more with missing area"
    },
    {
      "metadata": {
        "trusted": false
      },
      "cell_type": "code",
      "source": "real_estate[real_estate.Total_Price.isnull()].head()",
      "execution_count": 30,
      "outputs": [
        {
          "data": {
            "text/html": "<div>\n<style scoped>\n    .dataframe tbody tr th:only-of-type {\n        vertical-align: middle;\n    }\n\n    .dataframe tbody tr th {\n        vertical-align: top;\n    }\n\n    .dataframe thead th {\n        text-align: right;\n    }\n</style>\n<table border=\"1\" class=\"dataframe\">\n  <thead>\n    <tr style=\"text-align: right;\">\n      <th></th>\n      <th>Year</th>\n      <th>Property_Type</th>\n      <th>REFNIS</th>\n      <th>Municipality_Name</th>\n      <th>Total_Transactions</th>\n      <th>Total_Price</th>\n      <th>Total_Area</th>\n      <th>Mean_Price</th>\n    </tr>\n  </thead>\n  <tbody>\n    <tr>\n      <th>1075</th>\n      <td>1980</td>\n      <td>maisons d'habitation</td>\n      <td>24137</td>\n      <td>GLABBEEK</td>\n      <td>7</td>\n      <td>NaN</td>\n      <td>NaN</td>\n      <td>NaN</td>\n    </tr>\n    <tr>\n      <th>1382</th>\n      <td>1980</td>\n      <td>maisons d'habitation</td>\n      <td>33016</td>\n      <td>MESSINES</td>\n      <td>6</td>\n      <td>NaN</td>\n      <td>NaN</td>\n      <td>NaN</td>\n    </tr>\n    <tr>\n      <th>2095</th>\n      <td>1980</td>\n      <td>maisons d'habitation</td>\n      <td>45062</td>\n      <td>HOREBEKE</td>\n      <td>6</td>\n      <td>NaN</td>\n      <td>NaN</td>\n      <td>NaN</td>\n    </tr>\n    <tr>\n      <th>2940</th>\n      <td>1980</td>\n      <td>maisons d'habitation</td>\n      <td>63001</td>\n      <td>AMBLEVE</td>\n      <td>7</td>\n      <td>NaN</td>\n      <td>NaN</td>\n      <td>NaN</td>\n    </tr>\n    <tr>\n      <th>3056</th>\n      <td>1980</td>\n      <td>maisons d'habitation</td>\n      <td>63067</td>\n      <td>SAINT-VITH</td>\n      <td>8</td>\n      <td>NaN</td>\n      <td>NaN</td>\n      <td>NaN</td>\n    </tr>\n  </tbody>\n</table>\n</div>",
            "text/plain": "      Year         Property_Type REFNIS Municipality_Name  Total_Transactions  \\\n1075  1980  maisons d'habitation  24137          GLABBEEK                   7   \n1382  1980  maisons d'habitation  33016          MESSINES                   6   \n2095  1980  maisons d'habitation  45062          HOREBEKE                   6   \n2940  1980  maisons d'habitation  63001           AMBLEVE                   7   \n3056  1980  maisons d'habitation  63067        SAINT-VITH                   8   \n\n      Total_Price  Total_Area  Mean_Price  \n1075          NaN         NaN         NaN  \n1382          NaN         NaN         NaN  \n2095          NaN         NaN         NaN  \n2940          NaN         NaN         NaN  \n3056          NaN         NaN         NaN  "
          },
          "execution_count": 30,
          "metadata": {},
          "output_type": "execute_result"
        }
      ]
    },
    {
      "metadata": {},
      "cell_type": "markdown",
      "source": "It seems that price and area are not reported when the number of transactions is small"
    },
    {
      "metadata": {
        "trusted": false
      },
      "cell_type": "code",
      "source": "print(real_estate[real_estate.Total_Price.isnull()].Total_Transactions.unique())\nprint(real_estate[real_estate.Total_Price.isnull()].shape[0])",
      "execution_count": 31,
      "outputs": [
        {
          "name": "stdout",
          "output_type": "stream",
          "text": "[7 6 8 9 5 1 2 3 4]\n18705\n"
        }
      ]
    },
    {
      "metadata": {},
      "cell_type": "markdown",
      "source": "The limit is 10. When there are fewer than 10 transactions, there is no price or area. We will need to impute these values somehow (done in the Data Imputation section)<br>\nWe already saw in the previous section that the area is never provided for apartments, let us make sure that it is always provided for the other property types, when the price exists"
    },
    {
      "metadata": {
        "trusted": false
      },
      "cell_type": "code",
      "source": "len(real_estate[(real_estate.Property_Type != 'appartements, flats, studios') & (real_estate.Total_Price.notnull())\n                      & (real_estate.Total_Area.isnull())])",
      "execution_count": 32,
      "outputs": [
        {
          "data": {
            "text/plain": "0"
          },
          "execution_count": 32,
          "metadata": {},
          "output_type": "execute_result"
        }
      ]
    },
    {
      "metadata": {},
      "cell_type": "markdown",
      "source": "Ok, so the appartments never have an area, while the other property types always have an area, provided there are 10 or more transactions. It probably makes sense to add a feature which specifies this<br>\nLet us check now if the mean price is always as expected"
    },
    {
      "metadata": {
        "trusted": false
      },
      "cell_type": "code",
      "source": "real_estate[(real_estate.Mean_Price.notnull())\n            & (np.round(real_estate.Mean_Price) != np.round(real_estate.Total_Price / real_estate.Total_Transactions))].head()",
      "execution_count": 33,
      "outputs": [
        {
          "data": {
            "text/html": "<div>\n<style scoped>\n    .dataframe tbody tr th:only-of-type {\n        vertical-align: middle;\n    }\n\n    .dataframe tbody tr th {\n        vertical-align: top;\n    }\n\n    .dataframe thead th {\n        text-align: right;\n    }\n</style>\n<table border=\"1\" class=\"dataframe\">\n  <thead>\n    <tr style=\"text-align: right;\">\n      <th></th>\n      <th>Year</th>\n      <th>Property_Type</th>\n      <th>REFNIS</th>\n      <th>Municipality_Name</th>\n      <th>Total_Transactions</th>\n      <th>Total_Price</th>\n      <th>Total_Area</th>\n      <th>Mean_Price</th>\n    </tr>\n  </thead>\n  <tbody>\n    <tr>\n      <th>7868</th>\n      <td>1980</td>\n      <td>terrains à bâtir</td>\n      <td>11001</td>\n      <td>AARTSELAAR</td>\n      <td>91</td>\n      <td>2034217.0</td>\n      <td>67912.0</td>\n      <td>29.953719</td>\n    </tr>\n    <tr>\n      <th>7875</th>\n      <td>1980</td>\n      <td>terrains à bâtir</td>\n      <td>11002</td>\n      <td>ANVERS</td>\n      <td>339</td>\n      <td>13125867.0</td>\n      <td>247050.0</td>\n      <td>53.130407</td>\n    </tr>\n    <tr>\n      <th>7882</th>\n      <td>1980</td>\n      <td>terrains à bâtir</td>\n      <td>11004</td>\n      <td>BOECHOUT</td>\n      <td>51</td>\n      <td>1385191.0</td>\n      <td>58141.0</td>\n      <td>23.824685</td>\n    </tr>\n    <tr>\n      <th>7896</th>\n      <td>1980</td>\n      <td>terrains à bâtir</td>\n      <td>11007</td>\n      <td>BORSBEEK</td>\n      <td>42</td>\n      <td>926291.0</td>\n      <td>24985.0</td>\n      <td>37.073884</td>\n    </tr>\n    <tr>\n      <th>7903</th>\n      <td>1980</td>\n      <td>terrains à bâtir</td>\n      <td>11008</td>\n      <td>BRASSCHAAT</td>\n      <td>112</td>\n      <td>3918831.0</td>\n      <td>149572.0</td>\n      <td>26.200298</td>\n    </tr>\n  </tbody>\n</table>\n</div>",
            "text/plain": "      Year     Property_Type REFNIS Municipality_Name  Total_Transactions  \\\n7868  1980  terrains à bâtir  11001        AARTSELAAR                  91   \n7875  1980  terrains à bâtir  11002            ANVERS                 339   \n7882  1980  terrains à bâtir  11004          BOECHOUT                  51   \n7896  1980  terrains à bâtir  11007          BORSBEEK                  42   \n7903  1980  terrains à bâtir  11008        BRASSCHAAT                 112   \n\n      Total_Price  Total_Area  Mean_Price  \n7868    2034217.0     67912.0   29.953719  \n7875   13125867.0    247050.0   53.130407  \n7882    1385191.0     58141.0   23.824685  \n7896     926291.0     24985.0   37.073884  \n7903    3918831.0    149572.0   26.200298  "
          },
          "execution_count": 33,
          "metadata": {},
          "output_type": "execute_result"
        }
      ]
    },
    {
      "metadata": {
        "trusted": false
      },
      "cell_type": "code",
      "source": "real_estate[(real_estate.Mean_Price.notnull())\n            & (np.round(real_estate.Mean_Price) != np.round(real_estate.Total_Price / real_estate.Total_Transactions))].Property_Type.value_counts()",
      "execution_count": 34,
      "outputs": [
        {
          "data": {
            "text/plain": "terrains à bâtir    18435\nName: Property_Type, dtype: int64"
          },
          "execution_count": 34,
          "metadata": {},
          "output_type": "execute_result"
        }
      ]
    },
    {
      "metadata": {
        "trusted": false
      },
      "cell_type": "code",
      "source": "2034217.0 / 67912.0",
      "execution_count": 35,
      "outputs": [
        {
          "data": {
            "text/plain": "29.95371951937802"
          },
          "execution_count": 35,
          "metadata": {},
          "output_type": "execute_result"
        }
      ]
    },
    {
      "metadata": {},
      "cell_type": "markdown",
      "source": "The mean price for plots is the mean price per square metre, while for the other property types, it is the mean price per property. We will unify the meaning of the columns"
    },
    {
      "metadata": {
        "trusted": false
      },
      "cell_type": "code",
      "source": "real_estate['Mean_Price'] = real_estate.Total_Price / real_estate.Total_Transactions\nreal_estate['Mean_Area'] = real_estate.Total_Area / real_estate.Total_Transactions",
      "execution_count": 36,
      "outputs": []
    },
    {
      "metadata": {},
      "cell_type": "markdown",
      "source": "We need now to create the missing records, those for which the number of transactions is 0 and which are not present in the data"
    },
    {
      "metadata": {
        "trusted": false
      },
      "cell_type": "code",
      "source": "# We store the municiality names. Even though they are not really needed for machine learning,\n# they make the data much more user-friendly\nmun_data = real_estate.drop_duplicates(subset = ['REFNIS', 'Municipality_Name'])[['REFNIS', 'Municipality_Name']]",
      "execution_count": 37,
      "outputs": []
    },
    {
      "metadata": {
        "trusted": false
      },
      "cell_type": "code",
      "source": "# Generate all possible values for year, property type and municipality\nall_years = real_estate.Year.unique()\nall_prop_types = real_estate.Property_Type.unique()\nall_muns = real_estate.REFNIS.unique()",
      "execution_count": 38,
      "outputs": []
    },
    {
      "metadata": {
        "trusted": false
      },
      "cell_type": "code",
      "source": "# Create the cartesian product\ngrid = np.array(list(product(*[all_years, all_prop_types, all_muns])))\n# Create the full data frame\ngrid = pd.DataFrame(np.vstack(grid), columns = ['Year', 'Property_Type', 'REFNIS'])\ngrid.Year = grid.Year.astype(np.int64)\n# Merge the data with the full frame\nreal_estate = grid.merge(real_estate, on = ['Year', 'Property_Type', 'REFNIS'], how = 'left')",
      "execution_count": 39,
      "outputs": []
    },
    {
      "metadata": {
        "trusted": false
      },
      "cell_type": "code",
      "source": "# Add the municipality names as a new column\nreal_estate = real_estate.merge(mun_data, on = 'REFNIS', suffixes = ('', '_y'), copy = False)",
      "execution_count": 40,
      "outputs": []
    },
    {
      "metadata": {
        "trusted": false
      },
      "cell_type": "code",
      "source": "# Update the municipality names\nreal_estate['Municipality_Name'] = real_estate['Municipality_Name_y']\nreal_estate.drop('Municipality_Name_y', axis = 1, inplace = True)\n# Fill the newly added rows with 0's. We cannot mass replace with 0, as there are existing NA's that we need to handle\nreal_estate.loc[real_estate.Total_Transactions.isnull(), 'Total_Transactions'] = 0\nreal_estate.Total_Transactions = real_estate.Total_Transactions.astype(np.int64)\nreal_estate.loc[real_estate.Total_Transactions == 0, 'Total_Price'] = 0\nreal_estate.loc[real_estate.Total_Transactions == 0, 'Total_Area'] = 0\nreal_estate.loc[real_estate.Total_Transactions == 0, 'Mean_Price'] = 0\nreal_estate.loc[real_estate.Total_Transactions == 0, 'Mean_Area'] = 0",
      "execution_count": 41,
      "outputs": []
    },
    {
      "metadata": {},
      "cell_type": "markdown",
      "source": "## Basic Feature Engineering"
    },
    {
      "metadata": {
        "trusted": false
      },
      "cell_type": "code",
      "source": "# Create a feature to distinguish imputed prices\nreal_estate['Is_Price_Imputed'] = 0\nreal_estate.loc[real_estate.Total_Price.isnull(), 'Is_Price_Imputed'] = 1",
      "execution_count": 42,
      "outputs": []
    },
    {
      "metadata": {
        "trusted": false
      },
      "cell_type": "code",
      "source": "# The area is always missing for apartments, create a feature for this\nreal_estate['Is_Area_Missing'] = 0\nreal_estate.loc[real_estate.Property_Type == 'appartements, flats, studios', 'Is_Area_Missing'] = 1\n# Set the total and mean areas to 0 for apartments, in order to eliminate the NA's\nreal_estate.loc[real_estate.Property_Type == 'appartements, flats, studios', 'Total_Area'] = 0\nreal_estate.loc[real_estate.Property_Type == 'appartements, flats, studios', 'Mean_Area'] = 0",
      "execution_count": 43,
      "outputs": []
    },
    {
      "metadata": {
        "trusted": false
      },
      "cell_type": "code",
      "source": "# Create a feature to distinguish the imputed areas\nreal_estate['Is_Area_Imputed'] = 0\nreal_estate.loc[real_estate.Total_Price.isnull() &\n                (real_estate.Property_Type != 'appartements, flats, studios'), 'Is_Area_Imputed'] = 1",
      "execution_count": 44,
      "outputs": []
    },
    {
      "metadata": {},
      "cell_type": "markdown",
      "source": "## Data Imputation"
    },
    {
      "metadata": {},
      "cell_type": "markdown",
      "source": "We need to impute the price and area for the records with fewer than 10 transactions. While we could do it based on the current data, there is not much information for the imputation algorithm. It could work based on year/municipality, but it is likely to yield poor results, since it would be unable to find similar municipalities within the same year<br>\nWe will add the district, province and region for each municipality, since municipalities under the same district, province or region are likely to have similar real estate prices<br>\nWe will also add population and tax information, since municipalities with similar populations and/or similar income are likely to have similar real estate prices<br>\nLet us add population information first"
    },
    {
      "metadata": {
        "trusted": false
      },
      "cell_type": "code",
      "source": "# Create a base data frame with the municipality IDs\npop_data = pd.DataFrame(data = real_estate.REFNIS.unique(), columns = ['REFNIS'])",
      "execution_count": 46,
      "outputs": []
    },
    {
      "metadata": {
        "trusted": false
      },
      "cell_type": "code",
      "source": "# Read the population data as a dictionary of data frames\npop_data_temp = pd.read_excel('Population_de_droit_au_1_janvier,_par_commune,_par_sexe_2011_2017.xls', sheet_name = None,\n                              skiprows = 1, usecols = 'A, E', dtype = {' code INS': str})",
      "execution_count": 47,
      "outputs": []
    },
    {
      "metadata": {
        "trusted": false
      },
      "cell_type": "code",
      "source": "pop_data_temp.keys()",
      "execution_count": 48,
      "outputs": [
        {
          "data": {
            "text/plain": "odict_keys(['Population de droit en 2018', 'Population de droit en 2017', 'Population de droit en 2016', 'population de droit en 2015', 'Population de droit en 2014', 'Population de droit en 2013', 'Population de droit en 2012', 'Population de droit en 2011'])"
          },
          "execution_count": 48,
          "metadata": {},
          "output_type": "execute_result"
        }
      ]
    },
    {
      "metadata": {
        "trusted": false
      },
      "cell_type": "code",
      "source": "# Convert the data from separate data frames into a single one\nfor key, value in pop_data_temp.items():\n    value.rename(columns = {' code INS': 'REFNIS', 'Total': key[-4:]}, inplace = True)\n    pop_data = pop_data.merge(value, on = 'REFNIS', copy = False)",
      "execution_count": 49,
      "outputs": []
    },
    {
      "metadata": {
        "trusted": false
      },
      "cell_type": "code",
      "source": "pop_data.head()",
      "execution_count": 50,
      "outputs": [
        {
          "data": {
            "text/html": "<div>\n<style scoped>\n    .dataframe tbody tr th:only-of-type {\n        vertical-align: middle;\n    }\n\n    .dataframe tbody tr th {\n        vertical-align: top;\n    }\n\n    .dataframe thead th {\n        text-align: right;\n    }\n</style>\n<table border=\"1\" class=\"dataframe\">\n  <thead>\n    <tr style=\"text-align: right;\">\n      <th></th>\n      <th>REFNIS</th>\n      <th>2018</th>\n      <th>2017</th>\n      <th>2016</th>\n      <th>2015</th>\n      <th>2014</th>\n      <th>2013</th>\n      <th>2012</th>\n      <th>2011</th>\n    </tr>\n  </thead>\n  <tbody>\n    <tr>\n      <th>0</th>\n      <td>11001</td>\n      <td>14304.0</td>\n      <td>14222.0</td>\n      <td>14262.0</td>\n      <td>14157.0</td>\n      <td>14207.0</td>\n      <td>14226.0</td>\n      <td>14281.0</td>\n      <td>14311.0</td>\n    </tr>\n    <tr>\n      <th>1</th>\n      <td>11002</td>\n      <td>523248.0</td>\n      <td>520504.0</td>\n      <td>517042.0</td>\n      <td>513570.0</td>\n      <td>510610.0</td>\n      <td>507911.0</td>\n      <td>502604.0</td>\n      <td>493517.0</td>\n    </tr>\n    <tr>\n      <th>2</th>\n      <td>11004</td>\n      <td>13120.0</td>\n      <td>12908.0</td>\n      <td>12844.0</td>\n      <td>12792.0</td>\n      <td>12804.0</td>\n      <td>12774.0</td>\n      <td>12724.0</td>\n      <td>12728.0</td>\n    </tr>\n    <tr>\n      <th>3</th>\n      <td>11005</td>\n      <td>17970.0</td>\n      <td>17788.0</td>\n      <td>17737.0</td>\n      <td>17559.0</td>\n      <td>17231.0</td>\n      <td>17227.0</td>\n      <td>17166.0</td>\n      <td>16989.0</td>\n    </tr>\n    <tr>\n      <th>4</th>\n      <td>11007</td>\n      <td>10685.0</td>\n      <td>10581.0</td>\n      <td>10540.0</td>\n      <td>10465.0</td>\n      <td>10451.0</td>\n      <td>10278.0</td>\n      <td>10233.0</td>\n      <td>10207.0</td>\n    </tr>\n  </tbody>\n</table>\n</div>",
            "text/plain": "  REFNIS      2018      2017      2016      2015      2014      2013  \\\n0  11001   14304.0   14222.0   14262.0   14157.0   14207.0   14226.0   \n1  11002  523248.0  520504.0  517042.0  513570.0  510610.0  507911.0   \n2  11004   13120.0   12908.0   12844.0   12792.0   12804.0   12774.0   \n3  11005   17970.0   17788.0   17737.0   17559.0   17231.0   17227.0   \n4  11007   10685.0   10581.0   10540.0   10465.0   10451.0   10278.0   \n\n       2012      2011  \n0   14281.0   14311.0  \n1  502604.0  493517.0  \n2   12724.0   12728.0  \n3   17166.0   16989.0  \n4   10233.0   10207.0  "
          },
          "execution_count": 50,
          "metadata": {},
          "output_type": "execute_result"
        }
      ]
    },
    {
      "metadata": {
        "trusted": false
      },
      "cell_type": "code",
      "source": "# Transform the data from horizontal to vertical\npop_data = pd.melt(pop_data, id_vars = 'REFNIS', value_vars = ['2018', '2017', '2016', '2015', '2014', '2013', '2012', '2011'],\n       var_name = 'Year', value_name = 'Population')\npop_data.Population = pop_data.Population.astype(np.int64)\npop_data.Year = pop_data.Year.astype(np.int64)",
      "execution_count": 51,
      "outputs": []
    },
    {
      "metadata": {
        "trusted": false
      },
      "cell_type": "code",
      "source": "pop_data.head()",
      "execution_count": 52,
      "outputs": [
        {
          "data": {
            "text/html": "<div>\n<style scoped>\n    .dataframe tbody tr th:only-of-type {\n        vertical-align: middle;\n    }\n\n    .dataframe tbody tr th {\n        vertical-align: top;\n    }\n\n    .dataframe thead th {\n        text-align: right;\n    }\n</style>\n<table border=\"1\" class=\"dataframe\">\n  <thead>\n    <tr style=\"text-align: right;\">\n      <th></th>\n      <th>REFNIS</th>\n      <th>Year</th>\n      <th>Population</th>\n    </tr>\n  </thead>\n  <tbody>\n    <tr>\n      <th>0</th>\n      <td>11001</td>\n      <td>2018</td>\n      <td>14304</td>\n    </tr>\n    <tr>\n      <th>1</th>\n      <td>11002</td>\n      <td>2018</td>\n      <td>523248</td>\n    </tr>\n    <tr>\n      <th>2</th>\n      <td>11004</td>\n      <td>2018</td>\n      <td>13120</td>\n    </tr>\n    <tr>\n      <th>3</th>\n      <td>11005</td>\n      <td>2018</td>\n      <td>17970</td>\n    </tr>\n    <tr>\n      <th>4</th>\n      <td>11007</td>\n      <td>2018</td>\n      <td>10685</td>\n    </tr>\n  </tbody>\n</table>\n</div>",
            "text/plain": "  REFNIS  Year  Population\n0  11001  2018       14304\n1  11002  2018      523248\n2  11004  2018       13120\n3  11005  2018       17970\n4  11007  2018       10685"
          },
          "execution_count": 52,
          "metadata": {},
          "output_type": "execute_result"
        }
      ]
    },
    {
      "metadata": {},
      "cell_type": "markdown",
      "source": "We only have data from 2011 onwards. We need to estimate the values for the previous years. While it is most likely not the best method and the assumptions do not hold, we will use linear regression for simplicity's sake"
    },
    {
      "metadata": {
        "trusted": false
      },
      "cell_type": "code",
      "source": "pop_data.hist(column = 'Population', by = 'Year', bins = 30, figsize = (14, 7), xrot = 30);",
      "execution_count": 53,
      "outputs": [
        {
          "data": {
            "image/png": "[encoded data removed]",
            "text/plain": "<Figure size 1008x504 with 9 Axes>"
          },
          "metadata": {
            "needs_background": "light"
          },
          "output_type": "display_data"
        }
      ]
    },
    {
      "metadata": {},
      "cell_type": "markdown",
      "source": "The data is highly right skewed. We will log transform it to reduce skewness, even though the assumptions of linearity will still not hold"
    },
    {
      "metadata": {
        "trusted": false
      },
      "cell_type": "code",
      "source": "# Create a copy of the initial data, as we will need to dummify it\n# Order it first, as this will be needed when getting the predictions\npop_data.sort_values(by = ['Year', 'REFNIS'], ascending = [False, True], inplace = True)\npopulations = pop_data.copy()",
      "execution_count": 54,
      "outputs": []
    },
    {
      "metadata": {
        "trusted": false
      },
      "cell_type": "code",
      "source": "pop_data.Population = np.log(pop_data.Population)",
      "execution_count": 55,
      "outputs": []
    },
    {
      "metadata": {
        "trusted": false
      },
      "cell_type": "code",
      "source": "pop_data.hist(column = 'Population', by = 'Year', bins = 30, figsize = (14, 7), xrot = 30);",
      "execution_count": 56,
      "outputs": [
        {
          "data": {
            "image/png": "[encoded data removed]",
            "text/plain": "<Figure size 1008x504 with 9 Axes>"
          },
          "metadata": {
            "needs_background": "light"
          },
          "output_type": "display_data"
        }
      ]
    },
    {
      "metadata": {
        "trusted": false
      },
      "cell_type": "code",
      "source": "pop_data = pd.get_dummies(pop_data, columns = ['REFNIS'], prefix = ['Mun'])",
      "execution_count": 57,
      "outputs": []
    },
    {
      "metadata": {},
      "cell_type": "markdown",
      "source": "We will create a regressor for all municipalities in a go instead of for each one individualy, as we only have data for 8 years and there are municipalities whose population goes up and down during this time, which might create a regressor with negative slope"
    },
    {
      "metadata": {
        "trusted": false
      },
      "cell_type": "code",
      "source": "linreg = linear_model.LinearRegression(normalize = True)\nX = pop_data[pop_data.columns[pop_data.columns != 'Population']]\ny = pop_data.Population\nlinreg.fit(X, y)",
      "execution_count": 58,
      "outputs": [
        {
          "data": {
            "text/plain": "LinearRegression(copy_X=True, fit_intercept=True, n_jobs=1, normalize=True)"
          },
          "execution_count": 58,
          "metadata": {},
          "output_type": "execute_result"
        }
      ]
    },
    {
      "metadata": {},
      "cell_type": "markdown",
      "source": "In order to make predictions for the years 1980 until 2010, we make a copy of the data for the year 2011, subtract 1, predict and repeat"
    },
    {
      "metadata": {
        "trusted": false
      },
      "cell_type": "code",
      "source": "temp_pop = pop_data.loc[pop_data.Year == 2011, [col for col in pop_data.columns if col != 'Population']].copy()\nfor i in range(2010 - 1980 + 1):\n    temp_pop.Year = temp_pop.Year - 1\n    preds = linreg.predict(temp_pop)\n    temp_pop1 = pd.DataFrame({'Year': (2010 - i), 'REFNIS': populations.loc[populations.Year == 2018, 'REFNIS'],\n                              'Population': np.round(np.exp(preds))})\n    populations = pd.concat([populations, temp_pop1], axis = 0, copy = False)\npopulations.Population = populations.Population.astype(np.int64)",
      "execution_count": 59,
      "outputs": []
    },
    {
      "metadata": {
        "trusted": false
      },
      "cell_type": "code",
      "source": "real_estate = real_estate.merge(populations, on = ['Year', 'REFNIS'], copy = False)",
      "execution_count": 60,
      "outputs": []
    },
    {
      "metadata": {},
      "cell_type": "markdown",
      "source": "Let us add tax information now"
    },
    {
      "metadata": {
        "trusted": false
      },
      "cell_type": "code",
      "source": "tax_struct = pd.read_excel('TF_PSNL_INC_TAX_MUNTY.xlsx',\n                           names = ['Year', 'REFNIS', 'Total_Income', 'Number_of_Incomes', 'Number_Of_Residents',\n                                    'DSTR_REFNIS', 'PROV_REFNIS', 'RGN_REFNIS'],\n                           usecols = 'A, B, F, G, AE, AH, AK, AN',\n                           dtype = {'CD_YEAR': np.int, 'MS_NBR_TOT_NET_INC': np.int, 'MS_TOT_RESIDENTS': np.int,\n                                    'CD_MUNTY_REFNIS': str, 'CD_DSTR_REFNIS': str, 'CD_PROV_REFNIS': str, 'CD_RGN_REFNIS': str})",
      "execution_count": 61,
      "outputs": []
    },
    {
      "metadata": {
        "trusted": false
      },
      "cell_type": "code",
      "source": "# Brussels municipalities dot not have a province, so create an artificial one\ntax_struct.loc[tax_struct.PROV_REFNIS == 'nan', 'PROV_REFNIS'] = '100000'",
      "execution_count": 62,
      "outputs": []
    },
    {
      "metadata": {
        "trusted": false
      },
      "cell_type": "code",
      "source": "# Create 2 extra columns, the income per taxpayer and the income per resident\ntax_struct['Income_Per_Taxpayer'] = tax_struct.Total_Income / tax_struct.Number_of_Incomes\ntax_struct['Income_Per_Resident'] = tax_struct.Total_Income / tax_struct.Number_Of_Residents",
      "execution_count": 63,
      "outputs": []
    },
    {
      "metadata": {
        "trusted": false
      },
      "cell_type": "code",
      "source": "# Do not use the number or residents to predict, as that is not available for all years\n# We do not need to predict it, as it is the population we already predicted\ntax_struct.drop(labels = 'Number_Of_Residents', axis = 1, inplace = True)",
      "execution_count": 64,
      "outputs": []
    },
    {
      "metadata": {},
      "cell_type": "markdown",
      "source": "As for the population data, we do not have the tax information for all years (only from 2005 until 2015), so we need to estimate it. We wil also use linear regression. The steps are very similar to the population data regression"
    },
    {
      "metadata": {
        "trusted": false
      },
      "cell_type": "code",
      "source": "# Create a copy of the initial data, as we will need to dummify it\n# Order it first, as this will be needed when getting the predictions\ntax_struct.sort_values(by = ['Year', 'REFNIS'], ascending = [False, True], inplace = True)\ntax_preds = tax_struct.copy()\n#tax_preds = tax_struct[['Year', 'REFNIS', 'Total_Income', 'Number_of_Incomes', 'Income_Per_Taxpayer', 'Income_Per_Resident']]",
      "execution_count": 65,
      "outputs": []
    },
    {
      "metadata": {
        "trusted": false
      },
      "cell_type": "code",
      "source": "# Log transform the data\ntax_struct.Total_Income = np.log(tax_struct.Total_Income)\ntax_struct.Number_of_Incomes = np.log(tax_struct.Number_of_Incomes)\ntax_struct.Income_Per_Taxpayer = np.log(tax_struct.Income_Per_Taxpayer)\ntax_struct.Income_Per_Resident = np.log(tax_struct.Income_Per_Resident)",
      "execution_count": 66,
      "outputs": []
    },
    {
      "metadata": {
        "trusted": false
      },
      "cell_type": "code",
      "source": "tax_struct = pd.get_dummies(tax_struct, columns = ['REFNIS', 'DSTR_REFNIS', 'PROV_REFNIS', 'RGN_REFNIS'],\n                            prefix = ['Mun', 'Dstr', 'Prov', 'Reg'])",
      "execution_count": 67,
      "outputs": []
    },
    {
      "metadata": {
        "trusted": false
      },
      "cell_type": "code",
      "source": "linreg = linear_model.LinearRegression(normalize = True)\nX = tax_struct[tax_struct.columns[~tax_struct.columns.isin(['Total_Income', 'Number_of_Incomes', 'Income_Per_Taxpayer',\n                                                            'Income_Per_Resident'])]]\ny = tax_struct[tax_struct.columns[tax_struct.columns.isin(['Total_Income', 'Number_of_Incomes', 'Income_Per_Taxpayer',\n                                                           'Income_Per_Resident'])]]\nlinreg.fit(X, y)",
      "execution_count": 68,
      "outputs": [
        {
          "data": {
            "text/plain": "LinearRegression(copy_X=True, fit_intercept=True, n_jobs=1, normalize=True)"
          },
          "execution_count": 68,
          "metadata": {},
          "output_type": "execute_result"
        }
      ]
    },
    {
      "metadata": {},
      "cell_type": "markdown",
      "source": "In order to make predictions for the years 1980 until 2004, we make a copy of the data for the year 2005, subtract 1, predict and repeat"
    },
    {
      "metadata": {
        "trusted": false
      },
      "cell_type": "code",
      "source": "temp_tax = tax_struct.loc[tax_struct.Year == 2005, X.columns].copy()",
      "execution_count": 69,
      "outputs": []
    },
    {
      "metadata": {
        "trusted": false
      },
      "cell_type": "code",
      "source": "for i in range(2005 - 1980 + 1):\n    temp_tax.Year = temp_tax.Year - 1\n    preds = linreg.predict(temp_tax)\n    temp_tax1 = pd.DataFrame({'Year': (2004 - i), 'REFNIS': tax_preds.loc[tax_preds.Year == 2015, 'REFNIS'],\n                              'DSTR_REFNIS': tax_preds.loc[tax_preds.Year == 2015, 'DSTR_REFNIS'],\n                              'PROV_REFNIS': tax_preds.loc[tax_preds.Year == 2015, 'PROV_REFNIS'],\n                              'RGN_REFNIS': tax_preds.loc[tax_preds.Year == 2015, 'RGN_REFNIS'],\n                              'Total_Income': np.exp(preds[:,0]), 'Number_of_Incomes': np.exp(preds[:,1]),\n                              'Income_Per_Taxpayer': np.exp(preds[:,2]), 'Income_Per_Resident': np.exp(preds[:,3])})\n    tax_preds = pd.concat([tax_preds, temp_tax1], axis = 0, copy = False)",
      "execution_count": 70,
      "outputs": []
    },
    {
      "metadata": {},
      "cell_type": "markdown",
      "source": "In order to make predictions for the years 2016 and 2017, we make a copy of the data for the year 2015, add 1, predict and repeat"
    },
    {
      "metadata": {
        "trusted": false
      },
      "cell_type": "code",
      "source": "temp_tax = tax_struct.loc[tax_struct.Year == 2015, X.columns].copy()",
      "execution_count": 71,
      "outputs": []
    },
    {
      "metadata": {
        "trusted": false
      },
      "cell_type": "code",
      "source": "for i in range(2017 - 2016 + 1):\n    temp_tax.Year = temp_tax.Year + 1\n    preds = linreg.predict(temp_tax)\n    temp_tax1 = pd.DataFrame({'Year': (2016 + i), 'REFNIS': tax_preds.loc[tax_preds.Year == 2015, 'REFNIS'],\n                              'DSTR_REFNIS': tax_preds.loc[tax_preds.Year == 2015, 'DSTR_REFNIS'],\n                              'PROV_REFNIS': tax_preds.loc[tax_preds.Year == 2015, 'PROV_REFNIS'],\n                              'RGN_REFNIS': tax_preds.loc[tax_preds.Year == 2015, 'RGN_REFNIS'],\n                              'Total_Income': np.exp(preds[:,0]), 'Number_of_Incomes': np.round(np.exp(preds[:,1])),\n                              'Income_Per_Taxpayer': np.exp(preds[:,2]), 'Income_Per_Resident': np.exp(preds[:,3])})\n    tax_preds = pd.concat([tax_preds, temp_tax1], axis = 0, copy = False)\ntax_preds.Number_of_Incomes = tax_preds.Number_of_Incomes.astype(np.int64)",
      "execution_count": 72,
      "outputs": []
    },
    {
      "metadata": {
        "trusted": false
      },
      "cell_type": "code",
      "source": "# Merge the tax information in the original data frame\nreal_estate = real_estate.merge(tax_preds, on = ['Year', 'REFNIS'], copy = False)",
      "execution_count": 73,
      "outputs": []
    },
    {
      "metadata": {
        "trusted": false
      },
      "cell_type": "code",
      "source": "# Reorder the columns\ncols = list(real_estate.columns)\n#real_estate = real_estate[cols[:2] + [cols[3]] + [cols[2]] + cols[13:16] + cols[4:13] + cols[16:]]\nreal_estate = real_estate[cols[:2] + [cols[3]] + [cols[2]] + [cols[13]] + cols[17:19] + cols[4:13] + cols[14:17] + cols[19:]]",
      "execution_count": 74,
      "outputs": []
    },
    {
      "metadata": {
        "trusted": false
      },
      "cell_type": "code",
      "source": "real_estate.columns",
      "execution_count": 75,
      "outputs": [
        {
          "data": {
            "text/plain": "Index(['Year', 'Property_Type', 'Municipality_Name', 'REFNIS', 'DSTR_REFNIS',\n       'PROV_REFNIS', 'RGN_REFNIS', 'Total_Transactions', 'Total_Price',\n       'Total_Area', 'Mean_Price', 'Mean_Area', 'Is_Price_Imputed',\n       'Is_Area_Missing', 'Is_Area_Imputed', 'Population',\n       'Income_Per_Resident', 'Income_Per_Taxpayer', 'Number_of_Incomes',\n       'Total_Income'],\n      dtype='object')"
          },
          "execution_count": 75,
          "metadata": {},
          "output_type": "execute_result"
        }
      ]
    },
    {
      "metadata": {},
      "cell_type": "markdown",
      "source": "Ok, so now that we have quite a bit of information for each municipality, we can impute the missing price and area for the records with fewer than 10 transactions. We will do it per property type, first because it does not make sense to do it for heterogeneous data, and second because we cannot easily and meaningfully define a distance between property types. We will use KNN for defining the distance between records. Also, we will not include the records with no transactions in the imputation algorithm"
    },
    {
      "metadata": {
        "trusted": false
      },
      "cell_type": "code",
      "source": "# Order the data first, in order to have the records with the same proprty type grouped together\nreal_estate.sort_values(by = ['Property_Type', 'REFNIS', 'Year'], inplace = True)",
      "execution_count": 76,
      "outputs": []
    },
    {
      "metadata": {
        "trusted": false
      },
      "cell_type": "code",
      "source": "# Create a copy of the initial data, as we will need to dummify it\ntemp_real_estate = real_estate[real_estate.Total_Transactions > 0].copy()",
      "execution_count": 77,
      "outputs": []
    },
    {
      "metadata": {
        "trusted": false
      },
      "cell_type": "code",
      "source": "temp_real_estate = pd.get_dummies(temp_real_estate, columns = ['REFNIS', 'DSTR_REFNIS', 'PROV_REFNIS', 'RGN_REFNIS'],\n                                  prefix = ['Mun', 'Dstr', 'Prov', 'Reg'])",
      "execution_count": 78,
      "outputs": []
    },
    {
      "metadata": {
        "trusted": false
      },
      "cell_type": "code",
      "source": "# Create an empty array for holding the imputed price and area\n# We only impute the mean values and compute the total values based on the number of transactions\nimputed_values = np.empty((temp_real_estate.shape[0], 2))\nlast_index = 0\n# We min max scale the columns, in order for all of them to have the same weight\n# We do not scale the dummified columns, neither the ones which are not used in the prediction\ncols_to_scale = list(set(temp_real_estate.columns) -\n                     set([col for col in temp_real_estate.columns if col.startswith(('Mun', 'Dstr', 'Prov', 'Reg'))]) -\n                     set(['Property_Type', 'Is_Price_Imputed', 'Is_Area_Imputed', 'Is_Area_Missing', 'Total_Price',\n                          'Total_Area', 'Mean_Price', 'Mean_Area']))\nfor prop_type in temp_real_estate.Property_Type.unique():\n    # Select only the numeric columns\n    temp_prop = temp_real_estate[temp_real_estate.Property_Type == prop_type].select_dtypes(include = ['number'])\n    # Filter out the columns which will not be predicted or are not relevant for predicting\n    temp_prop = temp_prop[[col for col in temp_prop.columns if col not in ['Total_Price', 'Total_Area', 'Is_Price_Imputed',\n                                                                           'Is_Area_Missing', 'Is_Area_Imputed']]]\n    # Scale the data\n    scaler = MinMaxScaler()\n    temp_prop[cols_to_scale] = scaler.fit_transform(temp_prop[cols_to_scale])\n    # Impute the missing information\n    temp_prop = KNN(3).fit_transform(temp_prop)\n    #temp_prop = IterativeImputer().fit_transform(temp_prop)\n    # Save the mean price and area in the main array\n    imputed_values[last_index:(last_index + temp_prop.shape[0]), :] = temp_prop[:, [2, 3]]\n    last_index += temp_prop.shape[0]\nreal_estate.loc[real_estate.Total_Transactions > 0, ['Mean_Price', 'Mean_Area']] = imputed_values\n# Compute the total values\nreal_estate.Total_Price = real_estate.Mean_Price * real_estate.Total_Transactions\nreal_estate.Total_Area = real_estate.Mean_Area * real_estate.Total_Transactions",
      "execution_count": 111,
      "outputs": [
        {
          "name": "stderr",
          "output_type": "stream",
          "text": "D:\\Games\\Anaconda\\lib\\site-packages\\sklearn\\preprocessing\\data.py:323: DataConversionWarning: Data with input dtype int64, float64 were all converted to float64 by MinMaxScaler.\n  return self.partial_fit(X, y)\n"
        },
        {
          "name": "stdout",
          "output_type": "stream",
          "text": "Imputing row 1/16348 with 0 missing, elapsed time: 981.242\nImputing row 101/16348 with 0 missing, elapsed time: 981.242\nImputing row 201/16348 with 0 missing, elapsed time: 981.242\nImputing row 301/16348 with 0 missing, elapsed time: 981.258\nImputing row 401/16348 with 0 missing, elapsed time: 981.258\nImputing row 501/16348 with 0 missing, elapsed time: 981.258\nImputing row 601/16348 with 0 missing, elapsed time: 981.258\nImputing row 701/16348 with 0 missing, elapsed time: 981.258\nImputing row 801/16348 with 0 missing, elapsed time: 981.273\nImputing row 901/16348 with 0 missing, elapsed time: 981.273\nImputing row 1001/16348 with 1 missing, elapsed time: 981.273\nImputing row 1101/16348 with 0 missing, elapsed time: 981.273\nImputing row 1201/16348 with 0 missing, elapsed time: 981.289\nImputing row 1301/16348 with 0 missing, elapsed time: 981.289\nImputing row 1401/16348 with 1 missing, elapsed time: 981.289\nImputing row 1501/16348 with 0 missing, elapsed time: 981.305\nImputing row 1601/16348 with 1 missing, elapsed time: 981.305\nImputing row 1701/16348 with 0 missing, elapsed time: 981.305\nImputing row 1801/16348 with 1 missing, elapsed time: 981.320\nImputing row 1901/16348 with 1 missing, elapsed time: 981.320\nImputing row 2001/16348 with 0 missing, elapsed time: 981.336\nImputing row 2101/16348 with 0 missing, elapsed time: 981.336\nImputing row 2201/16348 with 0 missing, elapsed time: 981.352\nImputing row 2301/16348 with 0 missing, elapsed time: 981.352\nImputing row 2401/16348 with 0 missing, elapsed time: 981.352\nImputing row 2501/16348 with 0 missing, elapsed time: 981.352\nImputing row 2601/16348 with 0 missing, elapsed time: 981.352\nImputing row 2701/16348 with 0 missing, elapsed time: 981.367\nImputing row 2801/16348 with 0 missing, elapsed time: 981.367\nImputing row 2901/16348 with 0 missing, elapsed time: 981.367\nImputing row 3001/16348 with 0 missing, elapsed time: 981.367\nImputing row 3101/16348 with 0 missing, elapsed time: 981.367\nImputing row 3201/16348 with 0 missing, elapsed time: 981.367\nImputing row 3301/16348 with 0 missing, elapsed time: 981.383\nImputing row 3401/16348 with 0 missing, elapsed time: 981.383\nImputing row 3501/16348 with 1 missing, elapsed time: 981.398\nImputing row 3601/16348 with 0 missing, elapsed time: 981.398\nImputing row 3701/16348 with 0 missing, elapsed time: 981.398\nImputing row 3801/16348 with 0 missing, elapsed time: 981.414\nImputing row 3901/16348 with 1 missing, elapsed time: 981.414\nImputing row 4001/16348 with 1 missing, elapsed time: 981.430\nImputing row 4101/16348 with 0 missing, elapsed time: 981.430\nImputing row 4201/16348 with 0 missing, elapsed time: 981.430\nImputing row 4301/16348 with 1 missing, elapsed time: 981.445\nImputing row 4401/16348 with 0 missing, elapsed time: 981.461\nImputing row 4501/16348 with 1 missing, elapsed time: 981.461\nImputing row 4601/16348 with 0 missing, elapsed time: 981.477\nImputing row 4701/16348 with 0 missing, elapsed time: 981.477\nImputing row 4801/16348 with 0 missing, elapsed time: 981.492\nImputing row 4901/16348 with 1 missing, elapsed time: 981.492\nImputing row 5001/16348 with 1 missing, elapsed time: 981.492\nImputing row 5101/16348 with 1 missing, elapsed time: 981.508\nImputing row 5201/16348 with 1 missing, elapsed time: 981.523\nImputing row 5301/16348 with 1 missing, elapsed time: 981.523\nImputing row 5401/16348 with 0 missing, elapsed time: 981.539\nImputing row 5501/16348 with 0 missing, elapsed time: 981.539\nImputing row 5601/16348 with 0 missing, elapsed time: 981.539\nImputing row 5701/16348 with 0 missing, elapsed time: 981.555\nImputing row 5801/16348 with 0 missing, elapsed time: 981.555\nImputing row 5901/16348 with 1 missing, elapsed time: 981.570\nImputing row 6001/16348 with 0 missing, elapsed time: 981.570\nImputing row 6101/16348 with 0 missing, elapsed time: 981.586\nImputing row 6201/16348 with 0 missing, elapsed time: 981.586\nImputing row 6301/16348 with 0 missing, elapsed time: 981.586\nImputing row 6401/16348 with 1 missing, elapsed time: 981.602\nImputing row 6501/16348 with 1 missing, elapsed time: 981.617\nImputing row 6601/16348 with 0 missing, elapsed time: 981.617\nImputing row 6701/16348 with 0 missing, elapsed time: 981.617\nImputing row 6801/16348 with 0 missing, elapsed time: 981.633\nImputing row 6901/16348 with 0 missing, elapsed time: 981.633\nImputing row 7001/16348 with 0 missing, elapsed time: 981.633\nImputing row 7101/16348 with 0 missing, elapsed time: 981.648\nImputing row 7201/16348 with 1 missing, elapsed time: 981.648\nImputing row 7301/16348 with 1 missing, elapsed time: 981.664\nImputing row 7401/16348 with 0 missing, elapsed time: 981.664\nImputing row 7501/16348 with 1 missing, elapsed time: 981.680\nImputing row 7601/16348 with 0 missing, elapsed time: 981.695\nImputing row 7701/16348 with 0 missing, elapsed time: 981.695\nImputing row 7801/16348 with 0 missing, elapsed time: 981.695\nImputing row 7901/16348 with 0 missing, elapsed time: 981.695\nImputing row 8001/16348 with 0 missing, elapsed time: 981.711\nImputing row 8101/16348 with 0 missing, elapsed time: 981.711\nImputing row 8201/16348 with 1 missing, elapsed time: 981.727\nImputing row 8301/16348 with 1 missing, elapsed time: 981.727\nImputing row 8401/16348 with 1 missing, elapsed time: 981.742\nImputing row 8501/16348 with 0 missing, elapsed time: 981.742\nImputing row 8601/16348 with 0 missing, elapsed time: 981.742\nImputing row 8701/16348 with 1 missing, elapsed time: 981.758\nImputing row 8801/16348 with 0 missing, elapsed time: 981.758\nImputing row 8901/16348 with 0 missing, elapsed time: 981.773\nImputing row 9001/16348 with 1 missing, elapsed time: 981.773\nImputing row 9101/16348 with 0 missing, elapsed time: 981.789\nImputing row 9201/16348 with 0 missing, elapsed time: 981.805\nImputing row 9301/16348 with 0 missing, elapsed time: 981.805\nImputing row 9401/16348 with 1 missing, elapsed time: 981.820\nImputing row 9501/16348 with 0 missing, elapsed time: 981.820\nImputing row 9601/16348 with 0 missing, elapsed time: 981.836\nImputing row 9701/16348 with 0 missing, elapsed time: 981.836\nImputing row 9801/16348 with 1 missing, elapsed time: 981.852\nImputing row 9901/16348 with 1 missing, elapsed time: 981.852\nImputing row 10001/16348 with 1 missing, elapsed time: 981.867\nImputing row 10101/16348 with 1 missing, elapsed time: 981.867\nImputing row 10201/16348 with 1 missing, elapsed time: 981.883\nImputing row 10301/16348 with 1 missing, elapsed time: 981.898\nImputing row 10401/16348 with 1 missing, elapsed time: 981.914\nImputing row 10501/16348 with 1 missing, elapsed time: 981.914\nImputing row 10601/16348 with 0 missing, elapsed time: 981.930\nImputing row 10701/16348 with 1 missing, elapsed time: 981.930\nImputing row 10801/16348 with 1 missing, elapsed time: 981.945\nImputing row 10901/16348 with 1 missing, elapsed time: 981.945\nImputing row 11001/16348 with 1 missing, elapsed time: 981.961\nImputing row 11101/16348 with 1 missing, elapsed time: 981.977\nImputing row 11201/16348 with 1 missing, elapsed time: 981.977\nImputing row 11301/16348 with 1 missing, elapsed time: 981.992\nImputing row 11401/16348 with 0 missing, elapsed time: 982.008\nImputing row 11501/16348 with 1 missing, elapsed time: 982.023\nImputing row 11601/16348 with 1 missing, elapsed time: 982.023\nImputing row 11701/16348 with 0 missing, elapsed time: 982.039\nImputing row 11801/16348 with 1 missing, elapsed time: 982.055\nImputing row 11901/16348 with 1 missing, elapsed time: 982.055\nImputing row 12001/16348 with 1 missing, elapsed time: 982.070\nImputing row 12101/16348 with 1 missing, elapsed time: 982.070\nImputing row 12201/16348 with 1 missing, elapsed time: 982.070\nImputing row 12301/16348 with 0 missing, elapsed time: 982.086\nImputing row 12401/16348 with 1 missing, elapsed time: 982.102\nImputing row 12501/16348 with 1 missing, elapsed time: 982.102\nImputing row 12601/16348 with 1 missing, elapsed time: 982.117\nImputing row 12701/16348 with 1 missing, elapsed time: 982.117\nImputing row 12801/16348 with 1 missing, elapsed time: 982.133\nImputing row 12901/16348 with 1 missing, elapsed time: 982.133\nImputing row 13001/16348 with 0 missing, elapsed time: 982.148\nImputing row 13101/16348 with 1 missing, elapsed time: 982.164\nImputing row 13201/16348 with 1 missing, elapsed time: 982.180\nImputing row 13301/16348 with 0 missing, elapsed time: 982.180\nImputing row 13401/16348 with 0 missing, elapsed time: 982.196\nImputing row 13501/16348 with 0 missing, elapsed time: 982.198\nImputing row 13601/16348 with 0 missing, elapsed time: 982.198\nImputing row 13701/16348 with 0 missing, elapsed time: 982.214\nImputing row 13801/16348 with 0 missing, elapsed time: 982.214\nImputing row 13901/16348 with 0 missing, elapsed time: 982.229\nImputing row 14001/16348 with 1 missing, elapsed time: 982.229\nImputing row 14101/16348 with 1 missing, elapsed time: 982.229\nImputing row 14201/16348 with 1 missing, elapsed time: 982.245\nImputing row 14301/16348 with 1 missing, elapsed time: 982.245\n"
        },
        {
          "name": "stdout",
          "output_type": "stream",
          "text": "Imputing row 14401/16348 with 0 missing, elapsed time: 982.261\nImputing row 14501/16348 with 1 missing, elapsed time: 982.261\nImputing row 14601/16348 with 0 missing, elapsed time: 982.276\nImputing row 14701/16348 with 0 missing, elapsed time: 982.276\nImputing row 14801/16348 with 1 missing, elapsed time: 982.276\nImputing row 14901/16348 with 0 missing, elapsed time: 982.292\nImputing row 15001/16348 with 0 missing, elapsed time: 982.292\nImputing row 15101/16348 with 0 missing, elapsed time: 982.308\nImputing row 15201/16348 with 1 missing, elapsed time: 982.323\nImputing row 15301/16348 with 1 missing, elapsed time: 982.339\nImputing row 15401/16348 with 1 missing, elapsed time: 982.354\nImputing row 15501/16348 with 1 missing, elapsed time: 982.354\nImputing row 15601/16348 with 0 missing, elapsed time: 982.370\nImputing row 15701/16348 with 1 missing, elapsed time: 982.386\nImputing row 15801/16348 with 1 missing, elapsed time: 982.401\nImputing row 15901/16348 with 1 missing, elapsed time: 982.401\nImputing row 16001/16348 with 1 missing, elapsed time: 982.417\nImputing row 16101/16348 with 1 missing, elapsed time: 982.417\nImputing row 16201/16348 with 1 missing, elapsed time: 982.433\nImputing row 16301/16348 with 1 missing, elapsed time: 982.448\n"
        },
        {
          "name": "stderr",
          "output_type": "stream",
          "text": "D:\\Games\\Anaconda\\lib\\site-packages\\sklearn\\preprocessing\\data.py:323: DataConversionWarning: Data with input dtype int64, float64 were all converted to float64 by MinMaxScaler.\n  return self.partial_fit(X, y)\n"
        },
        {
          "ename": "KeyboardInterrupt",
          "evalue": "",
          "output_type": "error",
          "traceback": [
            "\u001b[1;31m---------------------------------------------------------------------------\u001b[0m",
            "\u001b[1;31mKeyboardInterrupt\u001b[0m                         Traceback (most recent call last)",
            "\u001b[1;32m<ipython-input-111-490de73510aa>\u001b[0m in \u001b[0;36m<module>\u001b[1;34m()\u001b[0m\n\u001b[0;32m      4\u001b[0m     \u001b[0mscaler\u001b[0m \u001b[1;33m=\u001b[0m \u001b[0mMinMaxScaler\u001b[0m\u001b[1;33m(\u001b[0m\u001b[1;33m)\u001b[0m\u001b[1;33m\u001b[0m\u001b[0m\n\u001b[0;32m      5\u001b[0m     \u001b[0mtemp_prop\u001b[0m\u001b[1;33m[\u001b[0m\u001b[0mcols_to_scale\u001b[0m\u001b[1;33m]\u001b[0m \u001b[1;33m=\u001b[0m \u001b[0mscaler\u001b[0m\u001b[1;33m.\u001b[0m\u001b[0mfit_transform\u001b[0m\u001b[1;33m(\u001b[0m\u001b[0mtemp_prop\u001b[0m\u001b[1;33m[\u001b[0m\u001b[0mcols_to_scale\u001b[0m\u001b[1;33m]\u001b[0m\u001b[1;33m)\u001b[0m\u001b[1;33m\u001b[0m\u001b[0m\n\u001b[1;32m----> 6\u001b[1;33m     \u001b[0mtemp_prop\u001b[0m \u001b[1;33m=\u001b[0m \u001b[0mKNN\u001b[0m\u001b[1;33m(\u001b[0m\u001b[1;36m3\u001b[0m\u001b[1;33m)\u001b[0m\u001b[1;33m.\u001b[0m\u001b[0mfit_transform\u001b[0m\u001b[1;33m(\u001b[0m\u001b[0mtemp_prop\u001b[0m\u001b[1;33m)\u001b[0m\u001b[1;33m\u001b[0m\u001b[0m\n\u001b[0m\u001b[0;32m      7\u001b[0m     \u001b[1;31m#temp_prop = IterativeImputer().fit_transform(temp_prop)\u001b[0m\u001b[1;33m\u001b[0m\u001b[1;33m\u001b[0m\u001b[0m\n\u001b[0;32m      8\u001b[0m     \u001b[0mimputed_values\u001b[0m\u001b[1;33m[\u001b[0m\u001b[0mlast_index\u001b[0m\u001b[1;33m:\u001b[0m\u001b[1;33m(\u001b[0m\u001b[0mlast_index\u001b[0m \u001b[1;33m+\u001b[0m \u001b[0mtemp_prop\u001b[0m\u001b[1;33m.\u001b[0m\u001b[0mshape\u001b[0m\u001b[1;33m[\u001b[0m\u001b[1;36m0\u001b[0m\u001b[1;33m]\u001b[0m\u001b[1;33m)\u001b[0m\u001b[1;33m,\u001b[0m \u001b[1;33m:\u001b[0m\u001b[1;33m]\u001b[0m \u001b[1;33m=\u001b[0m \u001b[0mtemp_prop\u001b[0m\u001b[1;33m[\u001b[0m\u001b[1;33m:\u001b[0m\u001b[1;33m,\u001b[0m \u001b[1;33m[\u001b[0m\u001b[1;36m2\u001b[0m\u001b[1;33m,\u001b[0m \u001b[1;36m3\u001b[0m\u001b[1;33m]\u001b[0m\u001b[1;33m]\u001b[0m\u001b[1;33m\u001b[0m\u001b[0m\n",
            "\u001b[1;32mD:\\Games\\Anaconda\\lib\\site-packages\\fancyimpute\\solver.py\u001b[0m in \u001b[0;36mfit_transform\u001b[1;34m(self, X, y)\u001b[0m\n\u001b[0;32m    187\u001b[0m                     type(X_filled)))\n\u001b[0;32m    188\u001b[0m \u001b[1;33m\u001b[0m\u001b[0m\n\u001b[1;32m--> 189\u001b[1;33m         \u001b[0mX_result\u001b[0m \u001b[1;33m=\u001b[0m \u001b[0mself\u001b[0m\u001b[1;33m.\u001b[0m\u001b[0msolve\u001b[0m\u001b[1;33m(\u001b[0m\u001b[0mX_filled\u001b[0m\u001b[1;33m,\u001b[0m \u001b[0mmissing_mask\u001b[0m\u001b[1;33m)\u001b[0m\u001b[1;33m\u001b[0m\u001b[0m\n\u001b[0m\u001b[0;32m    190\u001b[0m         \u001b[1;32mif\u001b[0m \u001b[1;32mnot\u001b[0m \u001b[0misinstance\u001b[0m\u001b[1;33m(\u001b[0m\u001b[0mX_result\u001b[0m\u001b[1;33m,\u001b[0m \u001b[0mnp\u001b[0m\u001b[1;33m.\u001b[0m\u001b[0mndarray\u001b[0m\u001b[1;33m)\u001b[0m\u001b[1;33m:\u001b[0m\u001b[1;33m\u001b[0m\u001b[0m\n\u001b[0;32m    191\u001b[0m             raise TypeError(\n",
            "\u001b[1;32mD:\\Games\\Anaconda\\lib\\site-packages\\fancyimpute\\knn.py\u001b[0m in \u001b[0;36msolve\u001b[1;34m(self, X, missing_mask)\u001b[0m\n\u001b[0;32m    102\u001b[0m             \u001b[0mk\u001b[0m\u001b[1;33m=\u001b[0m\u001b[0mself\u001b[0m\u001b[1;33m.\u001b[0m\u001b[0mk\u001b[0m\u001b[1;33m,\u001b[0m\u001b[1;33m\u001b[0m\u001b[0m\n\u001b[0;32m    103\u001b[0m             \u001b[0mverbose\u001b[0m\u001b[1;33m=\u001b[0m\u001b[0mself\u001b[0m\u001b[1;33m.\u001b[0m\u001b[0mverbose\u001b[0m\u001b[1;33m,\u001b[0m\u001b[1;33m\u001b[0m\u001b[0m\n\u001b[1;32m--> 104\u001b[1;33m             print_interval=self.print_interval)\n\u001b[0m\u001b[0;32m    105\u001b[0m \u001b[1;33m\u001b[0m\u001b[0m\n\u001b[0;32m    106\u001b[0m         \u001b[0mfailed_to_impute\u001b[0m \u001b[1;33m=\u001b[0m \u001b[0mnp\u001b[0m\u001b[1;33m.\u001b[0m\u001b[0misnan\u001b[0m\u001b[1;33m(\u001b[0m\u001b[0mX_imputed\u001b[0m\u001b[1;33m)\u001b[0m\u001b[1;33m\u001b[0m\u001b[0m\n",
            "\u001b[1;32mD:\\Games\\Anaconda\\lib\\site-packages\\knnimpute\\few_observed_entries.py\u001b[0m in \u001b[0;36mknn_impute_few_observed\u001b[1;34m(X, missing_mask, k, verbose, print_interval)\u001b[0m\n\u001b[0;32m     49\u001b[0m     \u001b[0mX_column_major\u001b[0m \u001b[1;33m=\u001b[0m \u001b[0mX\u001b[0m\u001b[1;33m.\u001b[0m\u001b[0mcopy\u001b[0m\u001b[1;33m(\u001b[0m\u001b[0morder\u001b[0m\u001b[1;33m=\u001b[0m\u001b[1;34m\"F\"\u001b[0m\u001b[1;33m)\u001b[0m\u001b[1;33m\u001b[0m\u001b[0m\n\u001b[0;32m     50\u001b[0m     \u001b[0mX_row_major\u001b[0m\u001b[1;33m,\u001b[0m \u001b[0mD\u001b[0m\u001b[1;33m,\u001b[0m \u001b[0meffective_infinity\u001b[0m \u001b[1;33m=\u001b[0m\u001b[0;31m \u001b[0m\u001b[0;31m\\\u001b[0m\u001b[1;33m\u001b[0m\u001b[0m\n\u001b[1;32m---> 51\u001b[1;33m         \u001b[0mknn_initialize\u001b[0m\u001b[1;33m(\u001b[0m\u001b[0mX\u001b[0m\u001b[1;33m,\u001b[0m \u001b[0mmissing_mask\u001b[0m\u001b[1;33m,\u001b[0m \u001b[0mverbose\u001b[0m\u001b[1;33m=\u001b[0m\u001b[0mverbose\u001b[0m\u001b[1;33m)\u001b[0m\u001b[1;33m\u001b[0m\u001b[0m\n\u001b[0m\u001b[0;32m     52\u001b[0m     \u001b[1;31m# get rid of infinities, replace them with a very large number\u001b[0m\u001b[1;33m\u001b[0m\u001b[1;33m\u001b[0m\u001b[0m\n\u001b[0;32m     53\u001b[0m     \u001b[0mD_sorted\u001b[0m \u001b[1;33m=\u001b[0m \u001b[0mnp\u001b[0m\u001b[1;33m.\u001b[0m\u001b[0margsort\u001b[0m\u001b[1;33m(\u001b[0m\u001b[0mD\u001b[0m\u001b[1;33m,\u001b[0m \u001b[0maxis\u001b[0m\u001b[1;33m=\u001b[0m\u001b[1;36m1\u001b[0m\u001b[1;33m)\u001b[0m\u001b[1;33m\u001b[0m\u001b[0m\n",
            "\u001b[1;32mD:\\Games\\Anaconda\\lib\\site-packages\\knnimpute\\common.py\u001b[0m in \u001b[0;36mknn_initialize\u001b[1;34m(X, missing_mask, verbose, min_dist, max_dist_multiplier)\u001b[0m\n\u001b[0;32m     37\u001b[0m         \u001b[1;31m# to put NaN's back in the data matrix for the distances function\u001b[0m\u001b[1;33m\u001b[0m\u001b[1;33m\u001b[0m\u001b[0m\n\u001b[0;32m     38\u001b[0m         \u001b[0mX_row_major\u001b[0m\u001b[1;33m[\u001b[0m\u001b[0mmissing_mask\u001b[0m\u001b[1;33m]\u001b[0m \u001b[1;33m=\u001b[0m \u001b[0mnp\u001b[0m\u001b[1;33m.\u001b[0m\u001b[0mnan\u001b[0m\u001b[1;33m\u001b[0m\u001b[0m\n\u001b[1;32m---> 39\u001b[1;33m     \u001b[0mD\u001b[0m \u001b[1;33m=\u001b[0m \u001b[0mall_pairs_normalized_distances\u001b[0m\u001b[1;33m(\u001b[0m\u001b[0mX_row_major\u001b[0m\u001b[1;33m)\u001b[0m\u001b[1;33m\u001b[0m\u001b[0m\n\u001b[0m\u001b[0;32m     40\u001b[0m     \u001b[0mD_finite_flat\u001b[0m \u001b[1;33m=\u001b[0m \u001b[0mD\u001b[0m\u001b[1;33m[\u001b[0m\u001b[0mnp\u001b[0m\u001b[1;33m.\u001b[0m\u001b[0misfinite\u001b[0m\u001b[1;33m(\u001b[0m\u001b[0mD\u001b[0m\u001b[1;33m)\u001b[0m\u001b[1;33m]\u001b[0m\u001b[1;33m\u001b[0m\u001b[0m\n\u001b[0;32m     41\u001b[0m     \u001b[1;32mif\u001b[0m \u001b[0mlen\u001b[0m\u001b[1;33m(\u001b[0m\u001b[0mD_finite_flat\u001b[0m\u001b[1;33m)\u001b[0m \u001b[1;33m>\u001b[0m \u001b[1;36m0\u001b[0m\u001b[1;33m:\u001b[0m\u001b[1;33m\u001b[0m\u001b[0m\n",
            "\u001b[1;32mD:\\Games\\Anaconda\\lib\\site-packages\\knnimpute\\normalized_distance.py\u001b[0m in \u001b[0;36mall_pairs_normalized_distances\u001b[1;34m(X)\u001b[0m\n\u001b[0;32m     73\u001b[0m         \u001b[1;32mif\u001b[0m \u001b[0mrow_overlaps_every_other_row\u001b[0m\u001b[1;33m[\u001b[0m\u001b[0mi\u001b[0m\u001b[1;33m]\u001b[0m\u001b[1;33m:\u001b[0m\u001b[1;33m\u001b[0m\u001b[0m\n\u001b[0;32m     74\u001b[0m             \u001b[1;31m# add up all the non-missing squared differences\u001b[0m\u001b[1;33m\u001b[0m\u001b[1;33m\u001b[0m\u001b[0m\n\u001b[1;32m---> 75\u001b[1;33m             \u001b[0mdiffs\u001b[0m\u001b[1;33m.\u001b[0m\u001b[0msum\u001b[0m\u001b[1;33m(\u001b[0m\u001b[0maxis\u001b[0m\u001b[1;33m=\u001b[0m\u001b[1;36m1\u001b[0m\u001b[1;33m,\u001b[0m \u001b[0mout\u001b[0m\u001b[1;33m=\u001b[0m\u001b[0mD\u001b[0m\u001b[1;33m[\u001b[0m\u001b[0mi\u001b[0m\u001b[1;33m,\u001b[0m \u001b[1;33m:\u001b[0m\u001b[1;33m]\u001b[0m\u001b[1;33m)\u001b[0m\u001b[1;33m\u001b[0m\u001b[0m\n\u001b[0m\u001b[0;32m     76\u001b[0m             \u001b[0mD\u001b[0m\u001b[1;33m[\u001b[0m\u001b[0mi\u001b[0m\u001b[1;33m,\u001b[0m \u001b[1;33m:\u001b[0m\u001b[1;33m]\u001b[0m \u001b[1;33m/=\u001b[0m \u001b[0mobserved_counts_per_row\u001b[0m\u001b[1;33m\u001b[0m\u001b[0m\n\u001b[0;32m     77\u001b[0m         \u001b[1;32melse\u001b[0m\u001b[1;33m:\u001b[0m\u001b[1;33m\u001b[0m\u001b[0m\n",
            "\u001b[1;32mD:\\Games\\Anaconda\\lib\\site-packages\\numpy\\core\\_methods.py\u001b[0m in \u001b[0;36m_sum\u001b[1;34m(a, axis, dtype, out, keepdims, initial)\u001b[0m\n\u001b[0;32m     34\u001b[0m def _sum(a, axis=None, dtype=None, out=None, keepdims=False,\n\u001b[0;32m     35\u001b[0m          initial=_NoValue):\n\u001b[1;32m---> 36\u001b[1;33m     \u001b[1;32mreturn\u001b[0m \u001b[0mumr_sum\u001b[0m\u001b[1;33m(\u001b[0m\u001b[0ma\u001b[0m\u001b[1;33m,\u001b[0m \u001b[0maxis\u001b[0m\u001b[1;33m,\u001b[0m \u001b[0mdtype\u001b[0m\u001b[1;33m,\u001b[0m \u001b[0mout\u001b[0m\u001b[1;33m,\u001b[0m \u001b[0mkeepdims\u001b[0m\u001b[1;33m,\u001b[0m \u001b[0minitial\u001b[0m\u001b[1;33m)\u001b[0m\u001b[1;33m\u001b[0m\u001b[0m\n\u001b[0m\u001b[0;32m     37\u001b[0m \u001b[1;33m\u001b[0m\u001b[0m\n\u001b[0;32m     38\u001b[0m def _prod(a, axis=None, dtype=None, out=None, keepdims=False,\n",
            "\u001b[1;31mKeyboardInterrupt\u001b[0m: "
          ]
        }
      ]
    },
    {
      "metadata": {
        "trusted": false
      },
      "cell_type": "code",
      "source": "# Drop the columns used for imputation only\nreal_estate.drop(['Population', 'Total_Income', 'Number_of_Incomes', 'Income_Per_Taxpayer', 'Income_Per_Resident'],\n                 axis = 1, inplace = True)",
      "execution_count": 79,
      "outputs": []
    },
    {
      "metadata": {
        "trusted": true
      },
      "cell_type": "code",
      "source": "import numpy as np\nimport pandas as pd\nimport matplotlib.pyplot as plt\nfrom itertools import product\nfrom sklearn import linear_model\nfrom sklearn.preprocessing import MinMaxScaler\n#from fancyimpute import KNN\nfrom sklearn.ensemble import GradientBoostingRegressor\n#from xgboost import XGBRegressor\nreal_estate = pd.read_csv('temp.csv',  dtype = {'Year': np.int16, 'REFNIS': str, 'DSTR_REFNIS': str, 'PROV_REFNIS': str, 'RGN_REFNIS': str,\n                                               'Is_Price_Imputed': np.int8, 'Is_Area_Missing': np.int8, 'Is_Area_Imputed': np.int8})",
      "execution_count": 38,
      "outputs": []
    },
    {
      "metadata": {},
      "cell_type": "markdown",
      "source": "## Advanced Feature Engineering"
    },
    {
      "metadata": {},
      "cell_type": "markdown",
      "source": "Since we have a sort of a time series, we cannot use features from the same record to predict, as these will not be available at the time of the prediction. We need to use features from the previous records and we need to generate these features<br>\nWe have the transactions, price and area that we can use, but let us generate more<br>\nWe can group by:<br>\n1. single grouping: property type, municipality, district, province, region\n2. double grouping: property type and district, property type and province, property type and region"
    },
    {
      "metadata": {
        "trusted": true
      },
      "cell_type": "code",
      "source": "# Single grouping\n# Generate total and mean number of transactions, total price, total area\n# Do not generate the mean price and area, as these will be non-weighted\nfor type_id in ['Property_Type', 'REFNIS', 'DSTR_REFNIS', 'PROV_REFNIS', 'RGN_REFNIS']:\n    for column_id, aggregator, aggtype in [('Total_Transactions', np.sum, 'sum'), ('Total_Transactions', np.mean, 'avg'),\n                                           ('Total_Price', np.sum, 'sum'), ('Total_Area', np.sum, 'sum')]:\n        mean_df = real_estate[['Year', type_id, column_id]].groupby(['Year', type_id]).aggregate(aggregator).reset_index()\n        mean_df.columns = ['Year', type_id, type_id + '_' + aggtype + '_' + column_id]\n        real_estate = real_estate.merge(mean_df, on = ['Year', type_id], how = 'left')",
      "execution_count": 39,
      "outputs": []
    },
    {
      "metadata": {
        "trusted": true
      },
      "cell_type": "code",
      "source": "# Generate the weighted mean price and area\n# We might have no transactions for some groups, which will generate NaN values. Fill them with 0\nfor type_id in ['Property_Type', 'REFNIS', 'DSTR_REFNIS', 'PROV_REFNIS', 'RGN_REFNIS']:\n    for column_id in ['Total_Price', 'Total_Area']:\n        total_col = type_id + '_sum_' + column_id\n        trans_col = type_id + '_sum_Total_Transactions'\n        avg_col = type_id + '_avg_' + column_id\n        real_estate[avg_col] = real_estate[total_col] / real_estate[trans_col]\n        real_estate.loc[real_estate[trans_col] == 0, avg_col] = 0",
      "execution_count": 40,
      "outputs": []
    },
    {
      "metadata": {
        "trusted": true
      },
      "cell_type": "code",
      "source": "# Double grouping\n# Generate total and mean number of transactions, total price, total area\n# Do not generate the mean price and area, as these will be non-weighted\nfor type_id in [['Property_Type', 'DSTR_REFNIS'], ['Property_Type', 'PROV_REFNIS'], ['Property_Type', 'RGN_REFNIS']]:\n    for column_id, aggregator, aggtype in [('Total_Transactions', np.sum, 'sum'), ('Total_Transactions', np.mean, 'avg'),\n                                           ('Total_Price', np.sum, 'sum'), ('Total_Area', np.sum, 'sum')]:\n        mean_df = real_estate[['Year'] + type_id + [column_id]].groupby(['Year'] + type_id).aggregate(aggregator).reset_index()\n        mean_df.columns = ['Year'] + type_id + ['_'.join(type_id) + '_' + aggtype + '_' + column_id]\n        real_estate = real_estate.merge(mean_df, on = ['Year'] + type_id, how = 'left')",
      "execution_count": 41,
      "outputs": []
    },
    {
      "metadata": {
        "trusted": true
      },
      "cell_type": "code",
      "source": "# Generate the weighted mean price and area\n# We might have no transactions for some groups, which will generate NaN values. Fill them with 0\nfor type_id in [['Property_Type', 'DSTR_REFNIS'], ['Property_Type', 'PROV_REFNIS'], ['Property_Type', 'RGN_REFNIS']]:\n    for column_id in ['Total_Price', 'Total_Area']:\n        total_col = '_'.join(type_id) + '_sum_' + column_id\n        trans_col = '_'.join(type_id) + '_sum_Total_Transactions'\n        avg_col = '_'.join(type_id) + '_avg_' + column_id\n        real_estate[avg_col] = real_estate[total_col] / real_estate[trans_col]\n        real_estate.loc[real_estate[trans_col] == 0, avg_col] = 0",
      "execution_count": 42,
      "outputs": []
    },
    {
      "metadata": {},
      "cell_type": "markdown",
      "source": "We have normal and aggregate values, we can generate lagged features (values for the same municipality and property type x years before, for example the number of transactions 1 year before). On top of that, we can generate lagged values for Is_Price_Imputed and Is_Area_Imputed, in order to inform the algorithm to rely less on such records"
    },
    {
      "metadata": {
        "trusted": true
      },
      "cell_type": "code",
      "source": "# Define the list of columns for which to create lags\ncols_for_lag = list(set(real_estate.columns) -\n                    set(['Year', 'Property_Type', 'REFNIS', 'DSTR_REFNIS', 'PROV_REFNIS', 'RGN_REFNIS', 'Municipality_Name',\n                         'Is_Area_Missing', 'Population', 'Total_Income', 'Number_of_Incomes', 'Income_Per_Taxpayer',\n                         'Income_Per_Resident']))",
      "execution_count": 43,
      "outputs": []
    },
    {
      "metadata": {
        "trusted": true
      },
      "cell_type": "code",
      "source": "# Generate lagged features for a lag of 1, 2, 3, 5 and 10 years\n#lags = [0, 1, 2, 3, 5, 10]\nlags = [0, 1, 2, 3]\n\nreal_estate_new_df = real_estate[['Year', 'Property_Type', 'REFNIS'] + cols_for_lag].copy()\n\nfor index in range(1, len(lags)):\n    col_names = [col + '_lag_' + str(lags[index]) for col in cols_for_lag]\n    real_estate_new_df['Year'] += (lags[index] - lags[index - 1])\n    real_estate_new_df.columns = ['Year', 'Property_Type', 'REFNIS'] + col_names\n    real_estate = real_estate.merge(real_estate_new_df, on = ['Year', 'Property_Type', 'REFNIS'], how = 'left')",
      "execution_count": 44,
      "outputs": []
    },
    {
      "metadata": {},
      "cell_type": "markdown",
      "source": "We can also generate rolling features (aggregate values for the same municipality and property type for the previous x years, for example the total number of transactions for the previous 2 years)"
    },
    {
      "metadata": {
        "trusted": true
      },
      "cell_type": "code",
      "source": "# Define the list of columns for which to create rolls\n# Only the sums make sense, creating aggregate features for means is a little far fetched\ncols_for_rol = ['Total_Transactions', 'Total_Price', 'Total_Area'] + \\\n                [col for col in real_estate.columns if '_sum_' in col and '_lag_' not in col]\n# For transactions, we can compute the sum and and mean\n# For price and area, we can compute the sum, as the mean would be non-weighted\naggregations_trans = {'sum': np.sum, 'avg': np.mean}\naggregations_price_area = {'sum': np.sum}",
      "execution_count": 45,
      "outputs": []
    },
    {
      "metadata": {
        "trusted": true
      },
      "cell_type": "code",
      "source": "real_estate_new_df = real_estate[['Property_Type', 'REFNIS'] + cols_for_rol].copy()\ngrouped_sales = real_estate.groupby(['Property_Type', 'REFNIS'], sort = False)\n# We need to shift by 1, as the rolling function includes the current row\ngrouped_shifted_sales = grouped_sales[cols_for_rol].shift(1)",
      "execution_count": 46,
      "outputs": []
    },
    {
      "metadata": {
        "trusted": true
      },
      "cell_type": "code",
      "source": "# Generate rolled features for a roll of 2, 3, 4, 5 and 10 years\n#rolls = [2, 3, 4, 5, 10]\nrolls = [2, 3, 4]\n\nfor index in range(len(rolls)):\n    rolled_sales = grouped_shifted_sales.rolling(window = rolls[index])\n    agg_rolled_sales = rolled_sales.aggregate(list(aggregations_trans.values())).rename(columns = {'mean': 'avg'})\n    for col in cols_for_rol:\n        if '_Transactions' in col:\n            for key, value in aggregations_trans.items():\n                real_estate[col + '_' + key + '_rol_' + str(rolls[index])] = agg_rolled_sales[col][key]\n        else:\n            for key, value in aggregations_price_area.items():\n                real_estate[col + '_' + key + '_rol_' + str(rolls[index])] = agg_rolled_sales[col][key]",
      "execution_count": 47,
      "outputs": []
    },
    {
      "metadata": {
        "trusted": true
      },
      "cell_type": "code",
      "source": "# Generate the weighted mean price and area rolls\n# We might have no transactions for some rolls, which will generate NaN values when dividing. Fill them with 0\nfor col in [col for col in cols_for_rol if '_Transactions' not in col]:\n    for index in range(len(rolls)):\n        total_col = col + '_sum_rol_' + str(rolls[index])\n        trans_col = col[:col.find('_', -6)] + '_Transactions_sum_rol_' + str(rolls[index])\n        avg_col = col + '_avg_rol_' + str(rolls[index])\n        real_estate[avg_col] = real_estate[total_col] / real_estate[trans_col]\n        real_estate.loc[real_estate[trans_col] == 0, avg_col] = 0",
      "execution_count": 49,
      "outputs": []
    },
    {
      "metadata": {},
      "cell_type": "markdown",
      "source": "Some records will contain NA values, since the lags and rolls cannot be computed for the oldest years. We need to drop these records, as they cannot be used for machine learning"
    },
    {
      "metadata": {
        "trusted": true
      },
      "cell_type": "code",
      "source": "real_estate = real_estate[real_estate.Year >= (1980 + np.max(rolls))]",
      "execution_count": 50,
      "outputs": []
    },
    {
      "metadata": {
        "trusted": true
      },
      "cell_type": "code",
      "source": "a = real_estate.isnull().sum()\na[a > 0]",
      "execution_count": 55,
      "outputs": [
        {
          "output_type": "execute_result",
          "execution_count": 55,
          "data": {
            "text/plain": "Series([], dtype: int64)"
          },
          "metadata": {}
        }
      ]
    },
    {
      "metadata": {
        "trusted": true
      },
      "cell_type": "code",
      "source": "# Downcast the columns which are sums of transactions\nfor col in real_estate.columns:\n    if 'Transactions' in col and 'avg' not in col:\n        real_estate[col] = real_estate[col].astype(np.int64)",
      "execution_count": 52,
      "outputs": [
        {
          "output_type": "stream",
          "text": "/home/nbuser/anaconda3_501/lib/python3.6/site-packages/ipykernel/__main__.py:4: SettingWithCopyWarning: \nA value is trying to be set on a copy of a slice from a DataFrame.\nTry using .loc[row_indexer,col_indexer] = value instead\n\nSee the caveats in the documentation: http://pandas.pydata.org/pandas-docs/stable/indexing.html#indexing-view-versus-copy\n",
          "name": "stderr"
        }
      ]
    },
    {
      "metadata": {
        "trusted": true
      },
      "cell_type": "code",
      "source": "real_estate.head()",
      "execution_count": 17,
      "outputs": [
        {
          "output_type": "execute_result",
          "execution_count": 17,
          "data": {
            "text/html": "<div>\n<style scoped>\n    .dataframe tbody tr th:only-of-type {\n        vertical-align: middle;\n    }\n\n    .dataframe tbody tr th {\n        vertical-align: top;\n    }\n\n    .dataframe thead th {\n        text-align: right;\n    }\n</style>\n<table border=\"1\" class=\"dataframe\">\n  <thead>\n    <tr style=\"text-align: right;\">\n      <th></th>\n      <th>Year</th>\n      <th>Property_Type</th>\n      <th>Municipality_Name</th>\n      <th>REFNIS</th>\n      <th>DSTR_REFNIS</th>\n      <th>PROV_REFNIS</th>\n      <th>RGN_REFNIS</th>\n      <th>Total_Transactions</th>\n      <th>Total_Price</th>\n      <th>Total_Area</th>\n      <th>...</th>\n      <th>Property_Type_PROV_REFNIS_sum_Total_Price_avg_rol_4</th>\n      <th>Property_Type_PROV_REFNIS_sum_Total_Area_avg_rol_2</th>\n      <th>Property_Type_PROV_REFNIS_sum_Total_Area_avg_rol_3</th>\n      <th>Property_Type_PROV_REFNIS_sum_Total_Area_avg_rol_4</th>\n      <th>Property_Type_RGN_REFNIS_sum_Total_Price_avg_rol_2</th>\n      <th>Property_Type_RGN_REFNIS_sum_Total_Price_avg_rol_3</th>\n      <th>Property_Type_RGN_REFNIS_sum_Total_Price_avg_rol_4</th>\n      <th>Property_Type_RGN_REFNIS_sum_Total_Area_avg_rol_2</th>\n      <th>Property_Type_RGN_REFNIS_sum_Total_Area_avg_rol_3</th>\n      <th>Property_Type_RGN_REFNIS_sum_Total_Area_avg_rol_4</th>\n    </tr>\n  </thead>\n  <tbody>\n    <tr>\n      <th>4</th>\n      <td>1984.0</td>\n      <td>appartements, flats, studios</td>\n      <td>AARTSELAAR</td>\n      <td>11001</td>\n      <td>11000</td>\n      <td>10000</td>\n      <td>2000</td>\n      <td>36.0</td>\n      <td>1219049.0</td>\n      <td>0.0</td>\n      <td>...</td>\n      <td>33067.039818</td>\n      <td>0.0</td>\n      <td>0.0</td>\n      <td>0.0</td>\n      <td>36306.578862</td>\n      <td>36564.670771</td>\n      <td>37129.335156</td>\n      <td>0.0</td>\n      <td>0.0</td>\n      <td>0.0</td>\n    </tr>\n    <tr>\n      <th>5</th>\n      <td>1985.0</td>\n      <td>appartements, flats, studios</td>\n      <td>AARTSELAAR</td>\n      <td>11001</td>\n      <td>11000</td>\n      <td>10000</td>\n      <td>2000</td>\n      <td>20.0</td>\n      <td>743995.0</td>\n      <td>0.0</td>\n      <td>...</td>\n      <td>32625.081479</td>\n      <td>0.0</td>\n      <td>0.0</td>\n      <td>0.0</td>\n      <td>37185.715284</td>\n      <td>36904.199094</td>\n      <td>36956.822397</td>\n      <td>0.0</td>\n      <td>0.0</td>\n      <td>0.0</td>\n    </tr>\n    <tr>\n      <th>6</th>\n      <td>1986.0</td>\n      <td>appartements, flats, studios</td>\n      <td>AARTSELAAR</td>\n      <td>11001</td>\n      <td>11000</td>\n      <td>10000</td>\n      <td>2000</td>\n      <td>56.0</td>\n      <td>2223560.0</td>\n      <td>0.0</td>\n      <td>...</td>\n      <td>33378.617857</td>\n      <td>0.0</td>\n      <td>0.0</td>\n      <td>0.0</td>\n      <td>38220.794135</td>\n      <td>37603.266085</td>\n      <td>37297.311888</td>\n      <td>0.0</td>\n      <td>0.0</td>\n      <td>0.0</td>\n    </tr>\n    <tr>\n      <th>7</th>\n      <td>1987.0</td>\n      <td>appartements, flats, studios</td>\n      <td>AARTSELAAR</td>\n      <td>11001</td>\n      <td>11000</td>\n      <td>10000</td>\n      <td>2000</td>\n      <td>52.0</td>\n      <td>2302703.0</td>\n      <td>0.0</td>\n      <td>...</td>\n      <td>34369.976935</td>\n      <td>0.0</td>\n      <td>0.0</td>\n      <td>0.0</td>\n      <td>39978.221058</td>\n      <td>39410.688131</td>\n      <td>38714.726075</td>\n      <td>0.0</td>\n      <td>0.0</td>\n      <td>0.0</td>\n    </tr>\n    <tr>\n      <th>8</th>\n      <td>1988.0</td>\n      <td>appartements, flats, studios</td>\n      <td>AARTSELAAR</td>\n      <td>11001</td>\n      <td>11000</td>\n      <td>10000</td>\n      <td>2000</td>\n      <td>60.0</td>\n      <td>2888962.0</td>\n      <td>0.0</td>\n      <td>...</td>\n      <td>35991.387814</td>\n      <td>0.0</td>\n      <td>0.0</td>\n      <td>0.0</td>\n      <td>43273.937257</td>\n      <td>41880.429071</td>\n      <td>41074.846912</td>\n      <td>0.0</td>\n      <td>0.0</td>\n      <td>0.0</td>\n    </tr>\n  </tbody>\n</table>\n<p>5 rows × 390 columns</p>\n</div>",
            "text/plain": "     Year                 Property_Type Municipality_Name REFNIS DSTR_REFNIS  \\\n4  1984.0  appartements, flats, studios        AARTSELAAR  11001       11000   \n5  1985.0  appartements, flats, studios        AARTSELAAR  11001       11000   \n6  1986.0  appartements, flats, studios        AARTSELAAR  11001       11000   \n7  1987.0  appartements, flats, studios        AARTSELAAR  11001       11000   \n8  1988.0  appartements, flats, studios        AARTSELAAR  11001       11000   \n\n  PROV_REFNIS RGN_REFNIS  Total_Transactions  Total_Price  Total_Area  \\\n4       10000       2000                36.0    1219049.0         0.0   \n5       10000       2000                20.0     743995.0         0.0   \n6       10000       2000                56.0    2223560.0         0.0   \n7       10000       2000                52.0    2302703.0         0.0   \n8       10000       2000                60.0    2888962.0         0.0   \n\n                         ...                          \\\n4                        ...                           \n5                        ...                           \n6                        ...                           \n7                        ...                           \n8                        ...                           \n\n   Property_Type_PROV_REFNIS_sum_Total_Price_avg_rol_4  \\\n4                                       33067.039818     \n5                                       32625.081479     \n6                                       33378.617857     \n7                                       34369.976935     \n8                                       35991.387814     \n\n   Property_Type_PROV_REFNIS_sum_Total_Area_avg_rol_2  \\\n4                                                0.0    \n5                                                0.0    \n6                                                0.0    \n7                                                0.0    \n8                                                0.0    \n\n   Property_Type_PROV_REFNIS_sum_Total_Area_avg_rol_3  \\\n4                                                0.0    \n5                                                0.0    \n6                                                0.0    \n7                                                0.0    \n8                                                0.0    \n\n   Property_Type_PROV_REFNIS_sum_Total_Area_avg_rol_4  \\\n4                                                0.0    \n5                                                0.0    \n6                                                0.0    \n7                                                0.0    \n8                                                0.0    \n\n   Property_Type_RGN_REFNIS_sum_Total_Price_avg_rol_2  \\\n4                                       36306.578862    \n5                                       37185.715284    \n6                                       38220.794135    \n7                                       39978.221058    \n8                                       43273.937257    \n\n   Property_Type_RGN_REFNIS_sum_Total_Price_avg_rol_3  \\\n4                                       36564.670771    \n5                                       36904.199094    \n6                                       37603.266085    \n7                                       39410.688131    \n8                                       41880.429071    \n\n   Property_Type_RGN_REFNIS_sum_Total_Price_avg_rol_4  \\\n4                                       37129.335156    \n5                                       36956.822397    \n6                                       37297.311888    \n7                                       38714.726075    \n8                                       41074.846912    \n\n   Property_Type_RGN_REFNIS_sum_Total_Area_avg_rol_2  \\\n4                                                0.0   \n5                                                0.0   \n6                                                0.0   \n7                                                0.0   \n8                                                0.0   \n\n   Property_Type_RGN_REFNIS_sum_Total_Area_avg_rol_3  \\\n4                                                0.0   \n5                                                0.0   \n6                                                0.0   \n7                                                0.0   \n8                                                0.0   \n\n   Property_Type_RGN_REFNIS_sum_Total_Area_avg_rol_4  \n4                                                0.0  \n5                                                0.0  \n6                                                0.0  \n7                                                0.0  \n8                                                0.0  \n\n[5 rows x 390 columns]"
          },
          "metadata": {}
        }
      ]
    },
    {
      "metadata": {},
      "cell_type": "markdown",
      "source": "## Machine Learning"
    },
    {
      "metadata": {},
      "cell_type": "markdown",
      "source": "There are a number of good algorithms we could use. For this project, we settle for XGBoost (Gradient Bossted Trees), as it provides a very good performance without much tweaking and its usage is quite straightforward<br>\nWe predict the value of the total price, as this can be used for an estimate of the property tax, for instance<br>\nWe hold out 2014's data for making predictions"
    },
    {
      "metadata": {
        "trusted": true
      },
      "cell_type": "code",
      "source": "#We cannot use most of the features for the same year, as such values are not available for making predictions\nfeatures_to_exclude = [col for col in real_estate.columns if 'lag' not in col and 'rol' not in col\n                       and col not in ['Year', 'Property_Type', 'REFNIS', 'DSTR_REFNIS', 'PROV_REFNIS', 'RGN_REFNIS',\n                                       'Is_Area_Missing']]",
      "execution_count": 56,
      "outputs": []
    },
    {
      "metadata": {
        "trusted": true
      },
      "cell_type": "code",
      "source": "# We need to dummify the non-numeric columns, as XGBoost only works with numeric features\nX = real_estate.loc[real_estate.Year < 2014, [col for col in real_estate.columns if col not in features_to_exclude]]\nX = pd.get_dummies(X, columns = ['Property_Type', 'REFNIS', 'DSTR_REFNIS', 'PROV_REFNIS', 'RGN_REFNIS'],\n                            prefix = ['Prop', 'Mun', 'Dstr', 'Prov', 'Reg'])\ny = real_estate.Total_Price[real_estate.Year < 2014]",
      "execution_count": 57,
      "outputs": []
    },
    {
      "metadata": {
        "trusted": true
      },
      "cell_type": "code",
      "source": "gbr = GradientBoostingRegressor(random_state = 0)\ngbr.fit(X, y)",
      "execution_count": 59,
      "outputs": [
        {
          "output_type": "execute_result",
          "execution_count": 59,
          "data": {
            "text/plain": "GradientBoostingRegressor(alpha=0.9, criterion='friedman_mse', init=None,\n             learning_rate=0.1, loss='ls', max_depth=3, max_features=None,\n             max_leaf_nodes=None, min_impurity_decrease=0.0,\n             min_impurity_split=None, min_samples_leaf=1,\n             min_samples_split=2, min_weight_fraction_leaf=0.0,\n             n_estimators=100, presort='auto', random_state=0,\n             subsample=1.0, verbose=0, warm_start=False)"
          },
          "metadata": {}
        }
      ]
    },
    {
      "metadata": {
        "trusted": false
      },
      "cell_type": "code",
      "source": "real_estate = real_estate[real_estate.columns[:20]]",
      "execution_count": 146,
      "outputs": []
    },
    {
      "metadata": {
        "trusted": false
      },
      "cell_type": "code",
      "source": "real_estate.Year.unique()",
      "execution_count": 161,
      "outputs": [
        {
          "data": {
            "text/plain": "array([1980, 1981, 1982, 1983, 1984, 1985, 1986, 1987, 1988, 1989, 1990,\n       1991, 1992, 1993, 1994, 1995, 1996, 1997, 1998, 1999, 2000, 2001,\n       2002, 2003, 2004, 2005, 2006, 2007, 2008, 2009, 2010, 2011, 2012,\n       2013, 2014])"
          },
          "execution_count": 161,
          "metadata": {},
          "output_type": "execute_result"
        }
      ]
    },
    {
      "metadata": {
        "collapsed": true,
        "trusted": false
      },
      "cell_type": "code",
      "source": "aa =real_estate.groupby('Property_Type').agg({'Total_Transactions': np.sum, 'Total_Price': np.sum}).reset_index()",
      "execution_count": 114,
      "outputs": []
    },
    {
      "metadata": {
        "collapsed": true,
        "trusted": false
      },
      "cell_type": "code",
      "source": "aa['Mean_Price'] = aa.Total_Price / aa.Total_Transactions",
      "execution_count": 115,
      "outputs": []
    },
    {
      "metadata": {
        "trusted": false
      },
      "cell_type": "code",
      "source": "aa",
      "execution_count": 116,
      "outputs": [
        {
          "data": {
            "text/html": "<div>\n<style scoped>\n    .dataframe tbody tr th:only-of-type {\n        vertical-align: middle;\n    }\n\n    .dataframe tbody tr th {\n        vertical-align: top;\n    }\n\n    .dataframe thead th {\n        text-align: right;\n    }\n</style>\n<table border=\"1\" class=\"dataframe\">\n  <thead>\n    <tr style=\"text-align: right;\">\n      <th></th>\n      <th>Property_Type</th>\n      <th>Total_Transactions</th>\n      <th>Total_Price</th>\n      <th>Mean_Price</th>\n    </tr>\n  </thead>\n  <tbody>\n    <tr>\n      <th>0</th>\n      <td>appartements, flats, studios</td>\n      <td>991348.0</td>\n      <td>1.163399e+11</td>\n      <td>117355.215775</td>\n    </tr>\n    <tr>\n      <th>1</th>\n      <td>maisons d'habitation</td>\n      <td>2325603.0</td>\n      <td>2.115683e+11</td>\n      <td>90973.536113</td>\n    </tr>\n    <tr>\n      <th>2</th>\n      <td>terrains à bâtir</td>\n      <td>971912.0</td>\n      <td>4.648803e+10</td>\n      <td>47831.520397</td>\n    </tr>\n    <tr>\n      <th>3</th>\n      <td>villas, bungalows, maisons de campagne</td>\n      <td>308397.0</td>\n      <td>7.720146e+10</td>\n      <td>250331.431654</td>\n    </tr>\n  </tbody>\n</table>\n</div>",
            "text/plain": "                            Property_Type  Total_Transactions   Total_Price  \\\n0            appartements, flats, studios            991348.0  1.163399e+11   \n1                    maisons d'habitation           2325603.0  2.115683e+11   \n2                        terrains à bâtir            971912.0  4.648803e+10   \n3  villas, bungalows, maisons de campagne            308397.0  7.720146e+10   \n\n      Mean_Price  \n0  117355.215775  \n1   90973.536113  \n2   47831.520397  \n3  250331.431654  "
          },
          "execution_count": 116,
          "metadata": {},
          "output_type": "execute_result"
        }
      ]
    },
    {
      "metadata": {
        "trusted": false
      },
      "cell_type": "code",
      "source": "real_estate.shape",
      "execution_count": 174,
      "outputs": [
        {
          "data": {
            "text/plain": "(82460, 20)"
          },
          "execution_count": 174,
          "metadata": {},
          "output_type": "execute_result"
        }
      ]
    },
    {
      "metadata": {
        "trusted": false
      },
      "cell_type": "code",
      "source": "#usecols = 'B, AH, AK, AN'\n#parse_cols\n# Read the tax data, but only extract the district, province and region for now\ntax_struct = pd.read_excel('TF_PSNL_INC_TAX_MUNTY.xlsx', usecols = 'B, AH, AK, AN',\n                           dtype = {'CD_MUNTY_REFNIS': str, 'CD_DSTR_REFNIS': str, 'CD_PROV_REFNIS': str,'CD_RGN_REFNIS': str})",
      "execution_count": 139,
      "outputs": []
    },
    {
      "metadata": {
        "trusted": false
      },
      "cell_type": "code",
      "source": "# Rename the columns to align with the current data\ntax_struct.rename(columns = {'CD_MUNTY_REFNIS': 'REFNIS', 'CD_DSTR_REFNIS': 'DSTR_REFNIS', 'CD_PROV_REFNIS': 'PROV_REFNIS', 'CD_RGN_REFNIS': 'RGN_REFNIS'}, inplace = True)",
      "execution_count": 140,
      "outputs": []
    },
    {
      "metadata": {
        "trusted": false
      },
      "cell_type": "code",
      "source": "tax_struct.PROV_REFNIS.unique()",
      "execution_count": 141,
      "outputs": [
        {
          "data": {
            "text/plain": "array(['10000', 'nan', '20001', '20002', '30000', '40000', '50000',\n       '60000', '70000', '80000', '90000'], dtype=object)"
          },
          "execution_count": 141,
          "metadata": {},
          "output_type": "execute_result"
        }
      ]
    },
    {
      "metadata": {
        "trusted": false
      },
      "cell_type": "code",
      "source": "tax_struct.loc[tax_struct.PROV_REFNIS == 'nan', 'PROV_REFNIS'] = '100000'",
      "execution_count": 142,
      "outputs": []
    },
    {
      "metadata": {
        "trusted": false
      },
      "cell_type": "code",
      "source": "tax_struct = tax_struct.groupby(['REFNIS', 'DSTR_REFNIS', 'PROV_REFNIS', 'RGN_REFNIS']).agg('count').reset_index()",
      "execution_count": 143,
      "outputs": []
    },
    {
      "metadata": {
        "trusted": false
      },
      "cell_type": "code",
      "source": "real_estate = real_estate.merge(tax_struct, on = 'REFNIS', copy = False)",
      "execution_count": 144,
      "outputs": []
    },
    {
      "metadata": {
        "trusted": false
      },
      "cell_type": "code",
      "source": "real_estate.head()",
      "execution_count": 145,
      "outputs": [
        {
          "data": {
            "text/html": "<div>\n<style scoped>\n    .dataframe tbody tr th:only-of-type {\n        vertical-align: middle;\n    }\n\n    .dataframe tbody tr th {\n        vertical-align: top;\n    }\n\n    .dataframe thead th {\n        text-align: right;\n    }\n</style>\n<table border=\"1\" class=\"dataframe\">\n  <thead>\n    <tr style=\"text-align: right;\">\n      <th></th>\n      <th>Year</th>\n      <th>Property_Type</th>\n      <th>REFNIS</th>\n      <th>Is_Price_Imputed</th>\n      <th>Is_Area_Missing</th>\n      <th>Is_Area_Imputed</th>\n      <th>DSTR_REFNIS_y</th>\n      <th>PROV_REFNIS_y</th>\n      <th>RGN_REFNIS_y</th>\n      <th>DSTR_REFNIS_x</th>\n      <th>...</th>\n      <th>RGN_REFNIS_x</th>\n      <th>Municipality_Name</th>\n      <th>Total_Transactions</th>\n      <th>Total_Price</th>\n      <th>Total_Area</th>\n      <th>Mean_Price</th>\n      <th>Mean_Area</th>\n      <th>DSTR_REFNIS</th>\n      <th>PROV_REFNIS</th>\n      <th>RGN_REFNIS</th>\n    </tr>\n  </thead>\n  <tbody>\n    <tr>\n      <th>0</th>\n      <td>1980</td>\n      <td>maisons d'habitation</td>\n      <td>11001</td>\n      <td>0</td>\n      <td>0</td>\n      <td>0</td>\n      <td>11000</td>\n      <td>10000</td>\n      <td>02000</td>\n      <td>11000</td>\n      <td>...</td>\n      <td>02000</td>\n      <td>AARTSELAAR</td>\n      <td>51</td>\n      <td>2928295.0</td>\n      <td>16593.0</td>\n      <td>57417.549020</td>\n      <td>325.352941</td>\n      <td>11000</td>\n      <td>10000</td>\n      <td>02000</td>\n    </tr>\n    <tr>\n      <th>1</th>\n      <td>1980</td>\n      <td>villas, bungalows, maisons de campagne</td>\n      <td>11001</td>\n      <td>1</td>\n      <td>0</td>\n      <td>1</td>\n      <td>11000</td>\n      <td>10000</td>\n      <td>02000</td>\n      <td>11000</td>\n      <td>...</td>\n      <td>02000</td>\n      <td>AARTSELAAR</td>\n      <td>8</td>\n      <td>NaN</td>\n      <td>NaN</td>\n      <td>NaN</td>\n      <td>NaN</td>\n      <td>11000</td>\n      <td>10000</td>\n      <td>02000</td>\n    </tr>\n    <tr>\n      <th>2</th>\n      <td>1980</td>\n      <td>appartements, flats, studios</td>\n      <td>11001</td>\n      <td>0</td>\n      <td>1</td>\n      <td>0</td>\n      <td>11000</td>\n      <td>10000</td>\n      <td>02000</td>\n      <td>11000</td>\n      <td>...</td>\n      <td>02000</td>\n      <td>AARTSELAAR</td>\n      <td>22</td>\n      <td>901144.0</td>\n      <td>0.0</td>\n      <td>40961.090909</td>\n      <td>0.000000</td>\n      <td>11000</td>\n      <td>10000</td>\n      <td>02000</td>\n    </tr>\n    <tr>\n      <th>3</th>\n      <td>1980</td>\n      <td>terrains à bâtir</td>\n      <td>11001</td>\n      <td>0</td>\n      <td>0</td>\n      <td>0</td>\n      <td>11000</td>\n      <td>10000</td>\n      <td>02000</td>\n      <td>11000</td>\n      <td>...</td>\n      <td>02000</td>\n      <td>AARTSELAAR</td>\n      <td>91</td>\n      <td>2034217.0</td>\n      <td>67912.0</td>\n      <td>22354.032967</td>\n      <td>746.285714</td>\n      <td>11000</td>\n      <td>10000</td>\n      <td>02000</td>\n    </tr>\n    <tr>\n      <th>4</th>\n      <td>1981</td>\n      <td>maisons d'habitation</td>\n      <td>11001</td>\n      <td>0</td>\n      <td>0</td>\n      <td>0</td>\n      <td>11000</td>\n      <td>10000</td>\n      <td>02000</td>\n      <td>11000</td>\n      <td>...</td>\n      <td>02000</td>\n      <td>AARTSELAAR</td>\n      <td>58</td>\n      <td>2796698.0</td>\n      <td>18505.0</td>\n      <td>48218.931034</td>\n      <td>319.051724</td>\n      <td>11000</td>\n      <td>10000</td>\n      <td>02000</td>\n    </tr>\n  </tbody>\n</table>\n<p>5 rows × 21 columns</p>\n</div>",
            "text/plain": "   Year                           Property_Type REFNIS  Is_Price_Imputed  \\\n0  1980                    maisons d'habitation  11001                 0   \n1  1980  villas, bungalows, maisons de campagne  11001                 1   \n2  1980            appartements, flats, studios  11001                 0   \n3  1980                        terrains à bâtir  11001                 0   \n4  1981                    maisons d'habitation  11001                 0   \n\n   Is_Area_Missing  Is_Area_Imputed DSTR_REFNIS_y PROV_REFNIS_y RGN_REFNIS_y  \\\n0                0                0         11000         10000        02000   \n1                0                1         11000         10000        02000   \n2                1                0         11000         10000        02000   \n3                0                0         11000         10000        02000   \n4                0                0         11000         10000        02000   \n\n  DSTR_REFNIS_x    ...     RGN_REFNIS_x Municipality_Name Total_Transactions  \\\n0         11000    ...            02000        AARTSELAAR                 51   \n1         11000    ...            02000        AARTSELAAR                  8   \n2         11000    ...            02000        AARTSELAAR                 22   \n3         11000    ...            02000        AARTSELAAR                 91   \n4         11000    ...            02000        AARTSELAAR                 58   \n\n   Total_Price  Total_Area    Mean_Price   Mean_Area  DSTR_REFNIS PROV_REFNIS  \\\n0    2928295.0     16593.0  57417.549020  325.352941        11000       10000   \n1          NaN         NaN           NaN         NaN        11000       10000   \n2     901144.0         0.0  40961.090909    0.000000        11000       10000   \n3    2034217.0     67912.0  22354.032967  746.285714        11000       10000   \n4    2796698.0     18505.0  48218.931034  319.051724        11000       10000   \n\n  RGN_REFNIS  \n0      02000  \n1      02000  \n2      02000  \n3      02000  \n4      02000  \n\n[5 rows x 21 columns]"
          },
          "execution_count": 145,
          "metadata": {},
          "output_type": "execute_result"
        }
      ]
    },
    {
      "metadata": {
        "trusted": false
      },
      "cell_type": "code",
      "source": "real_estate = real_estate[list(real_estate.columns[:3]) + list(real_estate.columns[12:]) + list(real_estate.columns[3:12])]",
      "execution_count": 146,
      "outputs": []
    },
    {
      "metadata": {
        "scrolled": true,
        "trusted": false
      },
      "cell_type": "code",
      "source": "pop_data = pop_data.merge(tax_struct, on = 'REFNIS', copy = False)",
      "execution_count": 39,
      "outputs": [
        {
          "ename": "NameError",
          "evalue": "name 'pop_data' is not defined",
          "output_type": "error",
          "traceback": [
            "\u001b[0;31m---------------------------------------------------------------------------\u001b[0m",
            "\u001b[0;31mNameError\u001b[0m                                 Traceback (most recent call last)",
            "\u001b[0;32m<ipython-input-39-861ebc551df9>\u001b[0m in \u001b[0;36m<module>\u001b[0;34m\u001b[0m\n\u001b[0;32m----> 1\u001b[0;31m \u001b[0mpop_data\u001b[0m \u001b[0;34m=\u001b[0m \u001b[0mpop_data\u001b[0m\u001b[0;34m.\u001b[0m\u001b[0mmerge\u001b[0m\u001b[0;34m(\u001b[0m\u001b[0mtax_struct\u001b[0m\u001b[0;34m,\u001b[0m \u001b[0mon\u001b[0m \u001b[0;34m=\u001b[0m \u001b[0;34m'REFNIS'\u001b[0m\u001b[0;34m,\u001b[0m \u001b[0mcopy\u001b[0m \u001b[0;34m=\u001b[0m \u001b[0;32mFalse\u001b[0m\u001b[0;34m)\u001b[0m\u001b[0;34m\u001b[0m\u001b[0m\n\u001b[0m",
            "\u001b[0;31mNameError\u001b[0m: name 'pop_data' is not defined"
          ]
        }
      ]
    },
    {
      "metadata": {
        "scrolled": true,
        "trusted": false
      },
      "cell_type": "code",
      "source": "pop_data.head()",
      "execution_count": 148,
      "outputs": [
        {
          "data": {
            "text/html": "<div>\n<style scoped>\n    .dataframe tbody tr th:only-of-type {\n        vertical-align: middle;\n    }\n\n    .dataframe tbody tr th {\n        vertical-align: top;\n    }\n\n    .dataframe thead th {\n        text-align: right;\n    }\n</style>\n<table border=\"1\" class=\"dataframe\">\n  <thead>\n    <tr style=\"text-align: right;\">\n      <th></th>\n      <th>REFNIS</th>\n      <th>DSTR_REFNIS</th>\n      <th>PROV_REFNIS</th>\n      <th>RGN_REFNIS</th>\n    </tr>\n  </thead>\n  <tbody>\n    <tr>\n      <th>0</th>\n      <td>11001</td>\n      <td>11000</td>\n      <td>10000</td>\n      <td>02000</td>\n    </tr>\n    <tr>\n      <th>1</th>\n      <td>11002</td>\n      <td>11000</td>\n      <td>10000</td>\n      <td>02000</td>\n    </tr>\n    <tr>\n      <th>2</th>\n      <td>11004</td>\n      <td>11000</td>\n      <td>10000</td>\n      <td>02000</td>\n    </tr>\n    <tr>\n      <th>3</th>\n      <td>11005</td>\n      <td>11000</td>\n      <td>10000</td>\n      <td>02000</td>\n    </tr>\n    <tr>\n      <th>4</th>\n      <td>11007</td>\n      <td>11000</td>\n      <td>10000</td>\n      <td>02000</td>\n    </tr>\n  </tbody>\n</table>\n</div>",
            "text/plain": "  REFNIS DSTR_REFNIS PROV_REFNIS RGN_REFNIS\n0  11001       11000       10000      02000\n1  11002       11000       10000      02000\n2  11004       11000       10000      02000\n3  11005       11000       10000      02000\n4  11007       11000       10000      02000"
          },
          "execution_count": 148,
          "metadata": {},
          "output_type": "execute_result"
        }
      ]
    },
    {
      "metadata": {
        "collapsed": true,
        "trusted": false
      },
      "cell_type": "code",
      "source": "",
      "execution_count": null,
      "outputs": []
    }
  ],
  "metadata": {
    "kernelspec": {
      "name": "python36",
      "display_name": "Python 3.6",
      "language": "python"
    },
    "language_info": {
      "mimetype": "text/x-python",
      "nbconvert_exporter": "python",
      "name": "python",
      "pygments_lexer": "ipython3",
      "version": "3.6.6",
      "file_extension": ".py",
      "codemirror_mode": {
        "version": 3,
        "name": "ipython"
      }
    }
  },
  "nbformat": 4,
  "nbformat_minor": 1
}