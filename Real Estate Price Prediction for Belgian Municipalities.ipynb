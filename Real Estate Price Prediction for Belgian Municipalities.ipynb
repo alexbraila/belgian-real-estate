{
  "cells": [
    {
      "metadata": {},
      "cell_type": "markdown",
      "source": "## Read in the data"
    },
    {
      "metadata": {
        "trusted": false
      },
      "cell_type": "code",
      "source": "%matplotlib inline\n\nimport numpy as np\nimport pandas as pd\nimport matplotlib.pyplot as plt\nfrom itertools import product\nfrom sklearn import linear_model\nfrom sklearn.preprocessing import MinMaxScaler\nfrom fancyimpute import KNN\nfrom xgboost import XGBRegressor\nfrom sklearn.metrics import mean_squared_error\nfrom math import sqrt\nfrom statsmodels.tsa.ar_model import AR\nfrom statsmodels.graphics.tsaplots import plot_acf",
      "execution_count": 1,
      "outputs": [
        {
          "name": "stderr",
          "output_type": "stream",
          "text": "D:\\Games\\Anaconda\\lib\\site-packages\\numpy\\core\\__init__.py:29: UserWarning: loaded more than 1 DLL from .libs:\nD:\\Games\\Anaconda\\lib\\site-packages\\numpy\\.libs\\libopenblas.BNVRK7633HSX7YVO2TADGR4A5KEKXJAW.gfortran-win_amd64.dll\nD:\\Games\\Anaconda\\lib\\site-packages\\numpy\\.libs\\libopenblas.IPBC74C7KURV7CB2PKT5Z5FNR3SIBV4J.gfortran-win_amd64.dll\n  stacklevel=1)\nD:\\Games\\Anaconda\\lib\\site-packages\\h5py\\__init__.py:34: FutureWarning: Conversion of the second argument of issubdtype from `float` to `np.floating` is deprecated. In future, it will be treated as `np.float64 == np.dtype(float).type`.\n  from ._conv import register_converters as _register_converters\nUsing TensorFlow backend.\n"
        }
      ]
    },
    {
      "metadata": {
        "collapsed": true,
        "trusted": false
      },
      "cell_type": "code",
      "source": "# Read the data, which is spread accross multiple files\nreal_estate1 = pd.read_excel('./data/immo_by_municipality_1980-1989.xlsx',\n                             dtype = {'CD_YEAR': np.int16, 'CD_REFNIS': str})\nreal_estate2 = pd.read_excel('./data/immo_by_municipality_1990-1999.xlsx',\n                             dtype = {'CD_YEAR': np.int16, 'CD_REFNIS': str})\nreal_estate3 = pd.read_excel('./data/immo_by_municipality_2000-2009.xlsx',\n                             dtype = {'CD_YEAR': np.int16, 'CD_REFNIS': str})\nreal_estate4 = pd.read_excel('./data/immo_by_municipality_2010-2019.xlsx',\n                             dtype = {'CD_YEAR': np.int16, 'CD_REFNIS': str})\n\n# Concatenate the data frames\nreal_estate = pd.concat([real_estate1, real_estate2, real_estate3, real_estate4], axis = 0,\n                        copy = False)\ndel real_estate1, real_estate2, real_estate3, real_estate4",
      "execution_count": 2,
      "outputs": []
    },
    {
      "metadata": {},
      "cell_type": "markdown",
      "source": "## Exploratory Data Analysis"
    },
    {
      "metadata": {
        "trusted": false
      },
      "cell_type": "code",
      "source": "real_estate.shape",
      "execution_count": 3,
      "outputs": [
        {
          "data": {
            "text/plain": "(509295, 17)"
          },
          "execution_count": 3,
          "metadata": {},
          "output_type": "execute_result"
        }
      ]
    },
    {
      "metadata": {
        "trusted": false
      },
      "cell_type": "code",
      "source": "real_estate.head()",
      "execution_count": 4,
      "outputs": [
        {
          "data": {
            "text/html": "<div>\n<style scoped>\n    .dataframe tbody tr th:only-of-type {\n        vertical-align: middle;\n    }\n\n    .dataframe tbody tr th {\n        vertical-align: top;\n    }\n\n    .dataframe thead th {\n        text-align: right;\n    }\n</style>\n<table border=\"1\" class=\"dataframe\">\n  <thead>\n    <tr style=\"text-align: right;\">\n      <th></th>\n      <th>CD_YEAR</th>\n      <th>CD_TYPE_NL</th>\n      <th>CD_TYPE_FR</th>\n      <th>CD_REFNIS</th>\n      <th>CD_REFNIS_NL</th>\n      <th>CD_REFNIS_FR</th>\n      <th>CD_PERIOD</th>\n      <th>CD_CLASS_SURFACE</th>\n      <th>MS_TOTAL_TRANSACTIONS</th>\n      <th>MS_TOTAL_PRICE</th>\n      <th>MS_TOTAL_SURFACE</th>\n      <th>MS_MEAN_PRICE</th>\n      <th>MS_P10</th>\n      <th>MS_P25</th>\n      <th>MS_P50</th>\n      <th>MS_P75</th>\n      <th>MS_P90</th>\n    </tr>\n  </thead>\n  <tbody>\n    <tr>\n      <th>0</th>\n      <td>1980</td>\n      <td>gewone woonhuizen</td>\n      <td>maisons d'habitation</td>\n      <td>11001</td>\n      <td>AARTSELAAR</td>\n      <td>AARTSELAAR</td>\n      <td>Q1</td>\n      <td>totaal / total</td>\n      <td>15</td>\n      <td>938053.0</td>\n      <td>4671.0</td>\n      <td>62536.866667</td>\n      <td>31945.0</td>\n      <td>54537.0</td>\n      <td>62519.0</td>\n      <td>72936.0</td>\n      <td>91721.0</td>\n    </tr>\n    <tr>\n      <th>1</th>\n      <td>1980</td>\n      <td>gewone woonhuizen</td>\n      <td>maisons d'habitation</td>\n      <td>11001</td>\n      <td>AARTSELAAR</td>\n      <td>AARTSELAAR</td>\n      <td>Q2</td>\n      <td>totaal / total</td>\n      <td>18</td>\n      <td>1051097.0</td>\n      <td>4953.0</td>\n      <td>58394.277778</td>\n      <td>32226.0</td>\n      <td>54537.0</td>\n      <td>60734.0</td>\n      <td>61973.0</td>\n      <td>76847.0</td>\n    </tr>\n    <tr>\n      <th>2</th>\n      <td>1980</td>\n      <td>gewone woonhuizen</td>\n      <td>maisons d'habitation</td>\n      <td>11001</td>\n      <td>AARTSELAAR</td>\n      <td>AARTSELAAR</td>\n      <td>Q3</td>\n      <td>totaal / total</td>\n      <td>11</td>\n      <td>569785.0</td>\n      <td>4116.0</td>\n      <td>51798.636364</td>\n      <td>39043.0</td>\n      <td>42142.0</td>\n      <td>54537.0</td>\n      <td>63461.0</td>\n      <td>64452.0</td>\n    </tr>\n    <tr>\n      <th>3</th>\n      <td>1980</td>\n      <td>gewone woonhuizen</td>\n      <td>maisons d'habitation</td>\n      <td>11001</td>\n      <td>AARTSELAAR</td>\n      <td>AARTSELAAR</td>\n      <td>Q4</td>\n      <td>totaal / total</td>\n      <td>7</td>\n      <td>NaN</td>\n      <td>NaN</td>\n      <td>NaN</td>\n      <td>NaN</td>\n      <td>NaN</td>\n      <td>NaN</td>\n      <td>NaN</td>\n      <td>NaN</td>\n    </tr>\n    <tr>\n      <th>4</th>\n      <td>1980</td>\n      <td>gewone woonhuizen</td>\n      <td>maisons d'habitation</td>\n      <td>11001</td>\n      <td>AARTSELAAR</td>\n      <td>AARTSELAAR</td>\n      <td>S1</td>\n      <td>totaal / total</td>\n      <td>33</td>\n      <td>1989150.0</td>\n      <td>9624.0</td>\n      <td>60277.272727</td>\n      <td>32226.0</td>\n      <td>54537.0</td>\n      <td>60734.0</td>\n      <td>69559.0</td>\n      <td>76847.0</td>\n    </tr>\n  </tbody>\n</table>\n</div>",
            "text/plain": "   CD_YEAR         CD_TYPE_NL            CD_TYPE_FR CD_REFNIS CD_REFNIS_NL  \\\n0     1980  gewone woonhuizen  maisons d'habitation     11001   AARTSELAAR   \n1     1980  gewone woonhuizen  maisons d'habitation     11001   AARTSELAAR   \n2     1980  gewone woonhuizen  maisons d'habitation     11001   AARTSELAAR   \n3     1980  gewone woonhuizen  maisons d'habitation     11001   AARTSELAAR   \n4     1980  gewone woonhuizen  maisons d'habitation     11001   AARTSELAAR   \n\n  CD_REFNIS_FR CD_PERIOD CD_CLASS_SURFACE  MS_TOTAL_TRANSACTIONS  \\\n0   AARTSELAAR        Q1   totaal / total                     15   \n1   AARTSELAAR        Q2   totaal / total                     18   \n2   AARTSELAAR        Q3   totaal / total                     11   \n3   AARTSELAAR        Q4   totaal / total                      7   \n4   AARTSELAAR        S1   totaal / total                     33   \n\n   MS_TOTAL_PRICE  MS_TOTAL_SURFACE  MS_MEAN_PRICE   MS_P10   MS_P25   MS_P50  \\\n0        938053.0            4671.0   62536.866667  31945.0  54537.0  62519.0   \n1       1051097.0            4953.0   58394.277778  32226.0  54537.0  60734.0   \n2        569785.0            4116.0   51798.636364  39043.0  42142.0  54537.0   \n3             NaN               NaN            NaN      NaN      NaN      NaN   \n4       1989150.0            9624.0   60277.272727  32226.0  54537.0  60734.0   \n\n    MS_P75   MS_P90  \n0  72936.0  91721.0  \n1  61973.0  76847.0  \n2  63461.0  64452.0  \n3      NaN      NaN  \n4  69559.0  76847.0  "
          },
          "execution_count": 4,
          "metadata": {},
          "output_type": "execute_result"
        }
      ]
    },
    {
      "metadata": {
        "trusted": false
      },
      "cell_type": "code",
      "source": "real_estate.CD_PERIOD.unique()",
      "execution_count": 5,
      "outputs": [
        {
          "data": {
            "text/plain": "array(['Q1', 'Q2', 'Q3', 'Q4', 'S1', 'S2', 'Y'], dtype=object)"
          },
          "execution_count": 5,
          "metadata": {},
          "output_type": "execute_result"
        }
      ]
    },
    {
      "metadata": {},
      "cell_type": "markdown",
      "source": "First, we can see that we have quarterly, biannual and yearly statistics. We will only consider the yearly ones in this project<br>\nSecond, we have some percentile and quantile information, that we do not need, so we can filter out those columns<br>\nThird, the column names are not very meaningful, rename them"
    },
    {
      "metadata": {
        "collapsed": true,
        "trusted": false
      },
      "cell_type": "code",
      "source": "real_estate = real_estate[real_estate.CD_PERIOD == 'Y']\n\nreal_estate = real_estate[['CD_YEAR', 'CD_TYPE_FR', 'CD_REFNIS', 'CD_REFNIS_FR',\n                           'MS_TOTAL_TRANSACTIONS', 'MS_TOTAL_PRICE', 'MS_TOTAL_SURFACE',\n                           'MS_MEAN_PRICE']]\n\nreal_estate.rename(columns = {'CD_YEAR': 'Year', 'CD_TYPE_FR': 'Property_Type', 'CD_REFNIS': 'REFNIS',\n                              'CD_REFNIS_FR': 'Municipality_Name',\n                              'MS_TOTAL_TRANSACTIONS': 'Total_Transactions',\n                              'MS_TOTAL_PRICE': 'Total_Price',\n                              'MS_TOTAL_SURFACE': 'Total_Area', 'MS_MEAN_PRICE': 'Mean_Price'},\n                   inplace = True)",
      "execution_count": 6,
      "outputs": []
    },
    {
      "metadata": {},
      "cell_type": "markdown",
      "source": "Find the number of unique values for each column, to understand what we have to deal with"
    },
    {
      "metadata": {
        "trusted": false
      },
      "cell_type": "code",
      "source": "real_estate.nunique()",
      "execution_count": 7,
      "outputs": [
        {
          "data": {
            "text/plain": "Year                     38\nProperty_Type             4\nREFNIS                  589\nMunicipality_Name       588\nTotal_Transactions     1112\nTotal_Price           58673\nTotal_Area            41125\nMean_Price            59102\ndtype: int64"
          },
          "execution_count": 7,
          "metadata": {},
          "output_type": "execute_result"
        }
      ]
    },
    {
      "metadata": {},
      "cell_type": "markdown",
      "source": "We have 38 years, from 1980 till 2017, so the Year count is as expected<br>\nThere are 4 property types, namely:"
    },
    {
      "metadata": {
        "trusted": false
      },
      "cell_type": "code",
      "source": "real_estate.Property_Type.unique()",
      "execution_count": 8,
      "outputs": [
        {
          "data": {
            "text/plain": "array([\"maisons d'habitation\", 'villas, bungalows, maisons de campagne',\n       'appartements, flats, studios', 'terrains à bâtir'], dtype=object)"
          },
          "execution_count": 8,
          "metadata": {},
          "output_type": "execute_result"
        }
      ]
    },
    {
      "metadata": {
        "trusted": false
      },
      "cell_type": "code",
      "source": "real_estate.groupby('Property_Type').agg('count').reset_index()",
      "execution_count": 9,
      "outputs": [
        {
          "data": {
            "text/html": "<div>\n<style scoped>\n    .dataframe tbody tr th:only-of-type {\n        vertical-align: middle;\n    }\n\n    .dataframe tbody tr th {\n        vertical-align: top;\n    }\n\n    .dataframe thead th {\n        text-align: right;\n    }\n</style>\n<table border=\"1\" class=\"dataframe\">\n  <thead>\n    <tr style=\"text-align: right;\">\n      <th></th>\n      <th>Property_Type</th>\n      <th>Year</th>\n      <th>REFNIS</th>\n      <th>Municipality_Name</th>\n      <th>Total_Transactions</th>\n      <th>Total_Price</th>\n      <th>Total_Area</th>\n      <th>Mean_Price</th>\n    </tr>\n  </thead>\n  <tbody>\n    <tr>\n      <th>0</th>\n      <td>appartements, flats, studios</td>\n      <td>16348</td>\n      <td>16348</td>\n      <td>16348</td>\n      <td>16348</td>\n      <td>9239</td>\n      <td>0</td>\n      <td>9239</td>\n    </tr>\n    <tr>\n      <th>1</th>\n      <td>maisons d'habitation</td>\n      <td>22354</td>\n      <td>22354</td>\n      <td>22354</td>\n      <td>22354</td>\n      <td>22101</td>\n      <td>22101</td>\n      <td>22101</td>\n    </tr>\n    <tr>\n      <th>2</th>\n      <td>terrains à bâtir</td>\n      <td>20507</td>\n      <td>20507</td>\n      <td>20507</td>\n      <td>20507</td>\n      <td>18435</td>\n      <td>18435</td>\n      <td>18435</td>\n    </tr>\n    <tr>\n      <th>3</th>\n      <td>villas, bungalows, maisons de campagne</td>\n      <td>19698</td>\n      <td>19698</td>\n      <td>19698</td>\n      <td>19698</td>\n      <td>9426</td>\n      <td>9426</td>\n      <td>9426</td>\n    </tr>\n  </tbody>\n</table>\n</div>",
            "text/plain": "                            Property_Type   Year  REFNIS  Municipality_Name  \\\n0            appartements, flats, studios  16348   16348              16348   \n1                    maisons d'habitation  22354   22354              22354   \n2                        terrains à bâtir  20507   20507              20507   \n3  villas, bungalows, maisons de campagne  19698   19698              19698   \n\n   Total_Transactions  Total_Price  Total_Area  Mean_Price  \n0               16348         9239           0        9239  \n1               22354        22101       22101       22101  \n2               20507        18435       18435       18435  \n3               19698         9426        9426        9426  "
          },
          "execution_count": 9,
          "metadata": {},
          "output_type": "execute_result"
        }
      ]
    },
    {
      "metadata": {
        "trusted": false
      },
      "cell_type": "code",
      "source": "real_estate.groupby('Property_Type').agg('sum').reset_index()",
      "execution_count": 10,
      "outputs": [
        {
          "data": {
            "text/html": "<div>\n<style scoped>\n    .dataframe tbody tr th:only-of-type {\n        vertical-align: middle;\n    }\n\n    .dataframe tbody tr th {\n        vertical-align: top;\n    }\n\n    .dataframe thead th {\n        text-align: right;\n    }\n</style>\n<table border=\"1\" class=\"dataframe\">\n  <thead>\n    <tr style=\"text-align: right;\">\n      <th></th>\n      <th>Property_Type</th>\n      <th>Year</th>\n      <th>Total_Transactions</th>\n      <th>Total_Price</th>\n      <th>Total_Area</th>\n      <th>Mean_Price</th>\n    </tr>\n  </thead>\n  <tbody>\n    <tr>\n      <th>0</th>\n      <td>appartements, flats, studios</td>\n      <td>32705865.0</td>\n      <td>1106400</td>\n      <td>1.415378e+11</td>\n      <td>0.000000e+00</td>\n      <td>1.163915e+09</td>\n    </tr>\n    <tr>\n      <th>1</th>\n      <td>maisons d'habitation</td>\n      <td>44674437.0</td>\n      <td>2505623</td>\n      <td>2.497702e+11</td>\n      <td>1.603081e+09</td>\n      <td>2.241651e+09</td>\n    </tr>\n    <tr>\n      <th>2</th>\n      <td>terrains à bâtir</td>\n      <td>40952556.0</td>\n      <td>971912</td>\n      <td>4.648803e+10</td>\n      <td>1.154819e+09</td>\n      <td>9.911973e+05</td>\n    </tr>\n    <tr>\n      <th>3</th>\n      <td>villas, bungalows, maisons de campagne</td>\n      <td>39389378.0</td>\n      <td>361986</td>\n      <td>9.549157e+10</td>\n      <td>5.550089e+08</td>\n      <td>2.462367e+09</td>\n    </tr>\n  </tbody>\n</table>\n</div>",
            "text/plain": "                            Property_Type        Year  Total_Transactions  \\\n0            appartements, flats, studios  32705865.0             1106400   \n1                    maisons d'habitation  44674437.0             2505623   \n2                        terrains à bâtir  40952556.0              971912   \n3  villas, bungalows, maisons de campagne  39389378.0              361986   \n\n    Total_Price    Total_Area    Mean_Price  \n0  1.415378e+11  0.000000e+00  1.163915e+09  \n1  2.497702e+11  1.603081e+09  2.241651e+09  \n2  4.648803e+10  1.154819e+09  9.911973e+05  \n3  9.549157e+10  5.550089e+08  2.462367e+09  "
          },
          "execution_count": 10,
          "metadata": {},
          "output_type": "execute_result"
        }
      ]
    },
    {
      "metadata": {},
      "cell_type": "markdown",
      "source": "There are comparable number of transactions for all 4 property types, with 2.5 million house transactions, about a million each apartment and plot transactions and 300 k villa transactions. These seem reasonable differences<br>\nHowever, we have 589 unique REFNIS values (which is to be expected, since there are 589 Belgian municipalities), but only 588 municipality names. Let us find out why"
    },
    {
      "metadata": {
        "trusted": false
      },
      "cell_type": "code",
      "source": "temp = real_estate.drop_duplicates(subset = ['REFNIS', 'Municipality_Name']).groupby('Municipality_Name').size()\ntemp[temp == 2]",
      "execution_count": 11,
      "outputs": [
        {
          "data": {
            "text/plain": "Municipality_Name\nSAINT-NICOLAS    2\ndtype: int64"
          },
          "execution_count": 11,
          "metadata": {},
          "output_type": "execute_result"
        }
      ]
    },
    {
      "metadata": {
        "scrolled": true,
        "trusted": false
      },
      "cell_type": "code",
      "source": "real_estate.loc[real_estate.Municipality_Name == 'SAINT-NICOLAS', 'REFNIS'].unique()",
      "execution_count": 12,
      "outputs": [
        {
          "data": {
            "text/plain": "array(['46021', '62093'], dtype=object)"
          },
          "execution_count": 12,
          "metadata": {},
          "output_type": "execute_result"
        }
      ]
    },
    {
      "metadata": {},
      "cell_type": "markdown",
      "source": "A simple search on Google for 'Belgian municipality SAINT-NICOLAS' shows that there are 2 Belgian municipalities with this name, one in the Province of East Flanders and another one in the Province of Liège. Mystery solved<br><br>\nLet us check if the amount of data varies over time. This is in theory something we do not expect. While there are definitely more transactions in the recent years, due to population growth, the data consist of consolidated information, whose volume should be constant"
    },
    {
      "metadata": {
        "trusted": false
      },
      "cell_type": "code",
      "source": "temp = real_estate.groupby('Year').size().reset_index(name = 'Nr_Records')\ntemp.plot.bar(x = 'Year', y = 'Nr_Records', figsize = (9, 5));",
      "execution_count": 13,
      "outputs": [
        {
          "data": {
            "image/png": "[encoded data removed]",
            "text/plain": "<Figure size 648x360 with 1 Axes>"
          },
          "metadata": {},
          "output_type": "display_data"
        }
      ]
    },
    {
      "metadata": {},
      "cell_type": "markdown",
      "source": "There seems to be an increasing amount of data as time goes by, however, as of 2015, there is a sharp drop"
    },
    {
      "metadata": {
        "trusted": false
      },
      "cell_type": "code",
      "source": "real_estate.loc[real_estate.Year >= 2015, 'Property_Type'].unique()",
      "execution_count": 14,
      "outputs": [
        {
          "data": {
            "text/plain": "array([\"maisons d'habitation\", 'villas, bungalows, maisons de campagne',\n       'appartements, flats, studios'], dtype=object)"
          },
          "execution_count": 14,
          "metadata": {},
          "output_type": "execute_result"
        }
      ]
    },
    {
      "metadata": {},
      "cell_type": "markdown",
      "source": "It seems that statistics about plots are no longer gathered or communicated as of 2015. We could drop this property type for all years, but instead let us only keep the data for 2014 and earlier, when all 4 property types are available"
    },
    {
      "metadata": {
        "collapsed": true,
        "trusted": false
      },
      "cell_type": "code",
      "source": "real_estate = real_estate[real_estate.Year <= 2014]",
      "execution_count": 15,
      "outputs": []
    },
    {
      "metadata": {},
      "cell_type": "markdown",
      "source": "We still need to investigate the reason for having more data as time goes by. If we had data for all years, all property types and all municipalities, we would have"
    },
    {
      "metadata": {
        "trusted": false
      },
      "cell_type": "code",
      "source": "35 * 4 * 589",
      "execution_count": 16,
      "outputs": [
        {
          "data": {
            "text/plain": "82460"
          },
          "execution_count": 16,
          "metadata": {},
          "output_type": "execute_result"
        }
      ]
    },
    {
      "metadata": {},
      "cell_type": "markdown",
      "source": "records, however we only have"
    },
    {
      "metadata": {
        "trusted": false
      },
      "cell_type": "code",
      "source": "real_estate.shape[0]",
      "execution_count": 17,
      "outputs": [
        {
          "data": {
            "text/plain": "73801"
          },
          "execution_count": 17,
          "metadata": {},
          "output_type": "execute_result"
        }
      ]
    },
    {
      "metadata": {
        "trusted": false
      },
      "cell_type": "code",
      "source": "print(real_estate.Total_Transactions.min(), real_estate.Total_Transactions.max())",
      "execution_count": 18,
      "outputs": [
        {
          "name": "stdout",
          "output_type": "stream",
          "text": "1 5699\n"
        }
      ]
    },
    {
      "metadata": {},
      "cell_type": "markdown",
      "source": "It looks like 0's are not reported and we are bound to have years when there are no transactions for some property types for the smaller municipalities<br>\nWe will need to add these 0's because the machine learning algorithm has to be aware of them<br>\nBefore doing that, let us check for correlation between year and price/area"
    },
    {
      "metadata": {
        "trusted": false
      },
      "cell_type": "code",
      "source": "temp = real_estate.groupby('Year').agg('sum').reset_index()\nfig, axes = plt.subplots(nrows = 2, ncols = 2, figsize = (12, 6))\n\nfor ycol, ax in zip(['Total_Transactions', 'Total_Price', 'Total_Area', 'Mean_Price'],\n                    axes.reshape(4, )):\n    temp.plot.scatter(x = 'Year', y = ycol, ax = ax)",
      "execution_count": 19,
      "outputs": [
        {
          "data": {
            "image/png": "[encoded data removed]",
            "text/plain": "<Figure size 864x432 with 4 Axes>"
          },
          "metadata": {},
          "output_type": "display_data"
        }
      ]
    },
    {
      "metadata": {},
      "cell_type": "markdown",
      "source": "The number of transactions went down first, then sharply up for a few years and then it fluctuated with only a slight upward tendency<br>\nThe total area went followed the same pattern initially (i.e. first down and then sharply up), however, there is a clear downward tendency since 1990<br>\nThe price (both total and mean) went slightly down first and then steadily up, except for a period of a few years around 2005 when it went sharply up<br>\nThe computed correlations reflect these findings"
    },
    {
      "metadata": {
        "trusted": false
      },
      "cell_type": "code",
      "source": "temp.corr().iloc[0]",
      "execution_count": 20,
      "outputs": [
        {
          "data": {
            "text/plain": "Year                  1.000000\nTotal_Transactions    0.752870\nTotal_Price           0.952937\nTotal_Area            0.181720\nMean_Price            0.948791\nName: Year, dtype: float64"
          },
          "execution_count": 20,
          "metadata": {},
          "output_type": "execute_result"
        }
      ]
    },
    {
      "metadata": {
        "trusted": false
      },
      "cell_type": "code",
      "source": "fig, axes = plt.subplots(nrows = 2, ncols = 2, figsize = (12, 6))\n\nfor xcol, ax in zip(['Total_Transactions', 'Total_Price', 'Total_Area', 'Mean_Price'],\n                    axes.reshape(4, )):\n    real_estate.boxplot(column = xcol, by = 'Property_Type', ax = ax)\n    ax.set_xticklabels(['appartments', 'maisons', 'terrain', 'villas'])\n    ax.set_xlabel(None)",
      "execution_count": 21,
      "outputs": [
        {
          "data": {
            "image/png": "[encoded data removed]",
            "text/plain": "<Figure size 864x432 with 4 Axes>"
          },
          "metadata": {},
          "output_type": "display_data"
        }
      ]
    },
    {
      "metadata": {},
      "cell_type": "markdown",
      "source": "The number of transactions and total price have way more spread for apartments and houses than for plots and villas, which makes sense, since the high values must come from municipalities which are part of big cities, where there are a lot more apartments and houses than plots and villas<br>\nThe total area has more or less the same spread across all property types (except for apartments, for which it is not given). However, since there are fewer transactions for plots than there are for houses and even fewer for villas, this means that the average area of villas is higher than that of plots which is higher than that of houses, a perfectly reasonable finding<br>\nThe average price has the most spread for villas, which is normal, since there are some municipalities with very expensive properties, like those at the North Sea and some Brussels municipalities. For plots, there seems to be very little spread, we will investigate why in the following section"
    },
    {
      "metadata": {},
      "cell_type": "markdown",
      "source": "## Missing Data and Data Consistency"
    },
    {
      "metadata": {
        "trusted": false
      },
      "cell_type": "code",
      "source": "real_estate.isnull().sum()",
      "execution_count": 22,
      "outputs": [
        {
          "data": {
            "text/plain": "Year                      0\nProperty_Type             0\nREFNIS                    0\nMunicipality_Name         0\nTotal_Transactions        0\nTotal_Price           18705\nTotal_Area            26932\nMean_Price            18705\ndtype: int64"
          },
          "execution_count": 22,
          "metadata": {},
          "output_type": "execute_result"
        }
      ]
    },
    {
      "metadata": {},
      "cell_type": "markdown",
      "source": "We've got quite a few records with missing price and even more with missing area"
    },
    {
      "metadata": {
        "trusted": false
      },
      "cell_type": "code",
      "source": "real_estate[real_estate.Total_Price.isnull()].head()",
      "execution_count": 23,
      "outputs": [
        {
          "data": {
            "text/html": "<div>\n<style scoped>\n    .dataframe tbody tr th:only-of-type {\n        vertical-align: middle;\n    }\n\n    .dataframe tbody tr th {\n        vertical-align: top;\n    }\n\n    .dataframe thead th {\n        text-align: right;\n    }\n</style>\n<table border=\"1\" class=\"dataframe\">\n  <thead>\n    <tr style=\"text-align: right;\">\n      <th></th>\n      <th>Year</th>\n      <th>Property_Type</th>\n      <th>REFNIS</th>\n      <th>Municipality_Name</th>\n      <th>Total_Transactions</th>\n      <th>Total_Price</th>\n      <th>Total_Area</th>\n      <th>Mean_Price</th>\n    </tr>\n  </thead>\n  <tbody>\n    <tr>\n      <th>1075</th>\n      <td>1980</td>\n      <td>maisons d'habitation</td>\n      <td>24137</td>\n      <td>GLABBEEK</td>\n      <td>7</td>\n      <td>NaN</td>\n      <td>NaN</td>\n      <td>NaN</td>\n    </tr>\n    <tr>\n      <th>1382</th>\n      <td>1980</td>\n      <td>maisons d'habitation</td>\n      <td>33016</td>\n      <td>MESSINES</td>\n      <td>6</td>\n      <td>NaN</td>\n      <td>NaN</td>\n      <td>NaN</td>\n    </tr>\n    <tr>\n      <th>2095</th>\n      <td>1980</td>\n      <td>maisons d'habitation</td>\n      <td>45062</td>\n      <td>HOREBEKE</td>\n      <td>6</td>\n      <td>NaN</td>\n      <td>NaN</td>\n      <td>NaN</td>\n    </tr>\n    <tr>\n      <th>2940</th>\n      <td>1980</td>\n      <td>maisons d'habitation</td>\n      <td>63001</td>\n      <td>AMBLEVE</td>\n      <td>7</td>\n      <td>NaN</td>\n      <td>NaN</td>\n      <td>NaN</td>\n    </tr>\n    <tr>\n      <th>3056</th>\n      <td>1980</td>\n      <td>maisons d'habitation</td>\n      <td>63067</td>\n      <td>SAINT-VITH</td>\n      <td>8</td>\n      <td>NaN</td>\n      <td>NaN</td>\n      <td>NaN</td>\n    </tr>\n  </tbody>\n</table>\n</div>",
            "text/plain": "      Year         Property_Type REFNIS Municipality_Name  Total_Transactions  \\\n1075  1980  maisons d'habitation  24137          GLABBEEK                   7   \n1382  1980  maisons d'habitation  33016          MESSINES                   6   \n2095  1980  maisons d'habitation  45062          HOREBEKE                   6   \n2940  1980  maisons d'habitation  63001           AMBLEVE                   7   \n3056  1980  maisons d'habitation  63067        SAINT-VITH                   8   \n\n      Total_Price  Total_Area  Mean_Price  \n1075          NaN         NaN         NaN  \n1382          NaN         NaN         NaN  \n2095          NaN         NaN         NaN  \n2940          NaN         NaN         NaN  \n3056          NaN         NaN         NaN  "
          },
          "execution_count": 23,
          "metadata": {},
          "output_type": "execute_result"
        }
      ]
    },
    {
      "metadata": {},
      "cell_type": "markdown",
      "source": "It seems that price and area are not reported when the number of transactions is small"
    },
    {
      "metadata": {
        "trusted": false
      },
      "cell_type": "code",
      "source": "print(real_estate[real_estate.Total_Price.isnull()].Total_Transactions.unique())\nprint(real_estate[real_estate.Total_Price.isnull()].shape[0])",
      "execution_count": 24,
      "outputs": [
        {
          "name": "stdout",
          "output_type": "stream",
          "text": "[7 6 8 9 5 1 2 3 4]\n18705\n"
        }
      ]
    },
    {
      "metadata": {},
      "cell_type": "markdown",
      "source": "The limit is 10. When there are fewer than 10 transactions, there is no price or area. We will need to impute these values somehow (done in the Data Imputation section)<br>\nWe already saw in the previous section that the area is never provided for apartments, let us make sure that it is always provided for the other property types, when the price exists"
    },
    {
      "metadata": {
        "trusted": false
      },
      "cell_type": "code",
      "source": "len(real_estate[(real_estate.Property_Type != 'appartements, flats, studios')\n                & (real_estate.Total_Price.notnull()) & (real_estate.Total_Area.isnull())])",
      "execution_count": 25,
      "outputs": [
        {
          "data": {
            "text/plain": "0"
          },
          "execution_count": 25,
          "metadata": {},
          "output_type": "execute_result"
        }
      ]
    },
    {
      "metadata": {},
      "cell_type": "markdown",
      "source": "Ok, so the appartments never have an area, while the other property types always have an area, provided there are 10 or more transactions. It probably makes sense to add a feature which specifies this<br>\nLet us check now if the mean price is always as expected"
    },
    {
      "metadata": {
        "trusted": false
      },
      "cell_type": "code",
      "source": "real_estate[(real_estate.Mean_Price.notnull())\n            & (np.round(real_estate.Mean_Price) != np.round(real_estate.Total_Price / \\\n                                                    real_estate.Total_Transactions))].head()",
      "execution_count": 26,
      "outputs": [
        {
          "data": {
            "text/html": "<div>\n<style scoped>\n    .dataframe tbody tr th:only-of-type {\n        vertical-align: middle;\n    }\n\n    .dataframe tbody tr th {\n        vertical-align: top;\n    }\n\n    .dataframe thead th {\n        text-align: right;\n    }\n</style>\n<table border=\"1\" class=\"dataframe\">\n  <thead>\n    <tr style=\"text-align: right;\">\n      <th></th>\n      <th>Year</th>\n      <th>Property_Type</th>\n      <th>REFNIS</th>\n      <th>Municipality_Name</th>\n      <th>Total_Transactions</th>\n      <th>Total_Price</th>\n      <th>Total_Area</th>\n      <th>Mean_Price</th>\n    </tr>\n  </thead>\n  <tbody>\n    <tr>\n      <th>7868</th>\n      <td>1980</td>\n      <td>terrains à bâtir</td>\n      <td>11001</td>\n      <td>AARTSELAAR</td>\n      <td>91</td>\n      <td>2034217.0</td>\n      <td>67912.0</td>\n      <td>29.953719</td>\n    </tr>\n    <tr>\n      <th>7875</th>\n      <td>1980</td>\n      <td>terrains à bâtir</td>\n      <td>11002</td>\n      <td>ANVERS</td>\n      <td>339</td>\n      <td>13125867.0</td>\n      <td>247050.0</td>\n      <td>53.130407</td>\n    </tr>\n    <tr>\n      <th>7882</th>\n      <td>1980</td>\n      <td>terrains à bâtir</td>\n      <td>11004</td>\n      <td>BOECHOUT</td>\n      <td>51</td>\n      <td>1385191.0</td>\n      <td>58141.0</td>\n      <td>23.824685</td>\n    </tr>\n    <tr>\n      <th>7896</th>\n      <td>1980</td>\n      <td>terrains à bâtir</td>\n      <td>11007</td>\n      <td>BORSBEEK</td>\n      <td>42</td>\n      <td>926291.0</td>\n      <td>24985.0</td>\n      <td>37.073884</td>\n    </tr>\n    <tr>\n      <th>7903</th>\n      <td>1980</td>\n      <td>terrains à bâtir</td>\n      <td>11008</td>\n      <td>BRASSCHAAT</td>\n      <td>112</td>\n      <td>3918831.0</td>\n      <td>149572.0</td>\n      <td>26.200298</td>\n    </tr>\n  </tbody>\n</table>\n</div>",
            "text/plain": "      Year     Property_Type REFNIS Municipality_Name  Total_Transactions  \\\n7868  1980  terrains à bâtir  11001        AARTSELAAR                  91   \n7875  1980  terrains à bâtir  11002            ANVERS                 339   \n7882  1980  terrains à bâtir  11004          BOECHOUT                  51   \n7896  1980  terrains à bâtir  11007          BORSBEEK                  42   \n7903  1980  terrains à bâtir  11008        BRASSCHAAT                 112   \n\n      Total_Price  Total_Area  Mean_Price  \n7868    2034217.0     67912.0   29.953719  \n7875   13125867.0    247050.0   53.130407  \n7882    1385191.0     58141.0   23.824685  \n7896     926291.0     24985.0   37.073884  \n7903    3918831.0    149572.0   26.200298  "
          },
          "execution_count": 26,
          "metadata": {},
          "output_type": "execute_result"
        }
      ]
    },
    {
      "metadata": {
        "trusted": false
      },
      "cell_type": "code",
      "source": "real_estate[(real_estate.Mean_Price.notnull())\n            & (np.round(real_estate.Mean_Price) != np.round(real_estate.Total_Price / \\\n                                        real_estate.Total_Transactions))].Property_Type.value_counts()",
      "execution_count": 27,
      "outputs": [
        {
          "data": {
            "text/plain": "terrains à bâtir    18435\nName: Property_Type, dtype: int64"
          },
          "execution_count": 27,
          "metadata": {},
          "output_type": "execute_result"
        }
      ]
    },
    {
      "metadata": {
        "trusted": false
      },
      "cell_type": "code",
      "source": "2034217.0 / 67912.0",
      "execution_count": 28,
      "outputs": [
        {
          "data": {
            "text/plain": "29.95371951937802"
          },
          "execution_count": 28,
          "metadata": {},
          "output_type": "execute_result"
        }
      ]
    },
    {
      "metadata": {},
      "cell_type": "markdown",
      "source": "The mean price for plots is the mean price per square metre, while for the other property types, it is the mean price per property. We will unify the meaning of the columns"
    },
    {
      "metadata": {
        "collapsed": true,
        "trusted": false
      },
      "cell_type": "code",
      "source": "real_estate['Mean_Price'] = real_estate.Total_Price / real_estate.Total_Transactions\nreal_estate['Mean_Area'] = real_estate.Total_Area / real_estate.Total_Transactions",
      "execution_count": 29,
      "outputs": []
    },
    {
      "metadata": {},
      "cell_type": "markdown",
      "source": "We need now to create the missing records, those for which the number of transactions is 0 and which are not present in the data"
    },
    {
      "metadata": {
        "collapsed": true,
        "trusted": false
      },
      "cell_type": "code",
      "source": "# We store the municiality names. Even though they are not really needed for machine learning,\n# they make the data much more user-friendly\nmun_data = real_estate[['REFNIS', 'Municipality_Name']].drop_duplicates()    ",
      "execution_count": 30,
      "outputs": []
    },
    {
      "metadata": {
        "collapsed": true,
        "trusted": false
      },
      "cell_type": "code",
      "source": "# Generate all possible values for year, property type and municipality\nall_years = real_estate.Year.unique()\nall_prop_types = real_estate.Property_Type.unique()\nall_muns = real_estate.REFNIS.unique()",
      "execution_count": 31,
      "outputs": []
    },
    {
      "metadata": {
        "collapsed": true,
        "trusted": false
      },
      "cell_type": "code",
      "source": "# Create the cartesian product\ngrid = np.array(list(product(*[all_years, all_prop_types, all_muns])))\n# Create the full data frame\ngrid = pd.DataFrame(np.vstack(grid), columns = ['Year', 'Property_Type', 'REFNIS'])\ngrid.Year = grid.Year.astype(np.int64)\n# Merge the data with the full frame\nreal_estate = grid.merge(real_estate, on = ['Year', 'Property_Type', 'REFNIS'], how = 'left')",
      "execution_count": 32,
      "outputs": []
    },
    {
      "metadata": {
        "collapsed": true,
        "trusted": false
      },
      "cell_type": "code",
      "source": "# Add the municipality names as a new column\nreal_estate = real_estate.merge(mun_data, on = 'REFNIS', suffixes = ('', '_y'), copy = False)",
      "execution_count": 33,
      "outputs": []
    },
    {
      "metadata": {
        "collapsed": true,
        "trusted": false
      },
      "cell_type": "code",
      "source": "# Update the municipality names\nreal_estate['Municipality_Name'] = real_estate['Municipality_Name_y']\nreal_estate.drop('Municipality_Name_y', axis = 1, inplace = True)\n# Fill the newly added rows with 0's. We cannot mass replace with 0, as there are existing NA's\n# that we need to handle\nreal_estate.loc[real_estate.Total_Transactions.isnull(), 'Total_Transactions'] = 0\nreal_estate.Total_Transactions = real_estate.Total_Transactions.astype(np.int64)\nreal_estate.loc[real_estate.Total_Transactions == 0, 'Total_Price'] = 0\nreal_estate.loc[real_estate.Total_Transactions == 0, 'Total_Area'] = 0\nreal_estate.loc[real_estate.Total_Transactions == 0, 'Mean_Price'] = 0\nreal_estate.loc[real_estate.Total_Transactions == 0, 'Mean_Area'] = 0",
      "execution_count": 34,
      "outputs": []
    },
    {
      "metadata": {},
      "cell_type": "markdown",
      "source": "## Basic Feature Engineering"
    },
    {
      "metadata": {
        "collapsed": true,
        "trusted": false
      },
      "cell_type": "code",
      "source": "# Create a feature to distinguish imputed prices\nreal_estate['Is_Price_Imputed'] = 0\nreal_estate.loc[real_estate.Total_Price.isnull(), 'Is_Price_Imputed'] = 1",
      "execution_count": 35,
      "outputs": []
    },
    {
      "metadata": {
        "collapsed": true,
        "trusted": false
      },
      "cell_type": "code",
      "source": "# The area is always missing for apartments, create a feature for this\nreal_estate['Is_Area_Missing'] = 0\nreal_estate.loc[real_estate.Property_Type == 'appartements, flats, studios', 'Is_Area_Missing'] = 1\n# Set the total and mean areas to 0 for apartments, in order to eliminate the NA's\nreal_estate.loc[real_estate.Property_Type == 'appartements, flats, studios', 'Total_Area'] = 0\nreal_estate.loc[real_estate.Property_Type == 'appartements, flats, studios', 'Mean_Area'] = 0",
      "execution_count": 36,
      "outputs": []
    },
    {
      "metadata": {
        "collapsed": true,
        "trusted": false
      },
      "cell_type": "code",
      "source": "# Create a feature to distinguish the imputed areas\nreal_estate['Is_Area_Imputed'] = 0\nreal_estate.loc[real_estate.Total_Price.isnull() &\n                (real_estate.Property_Type != 'appartements, flats, studios'), 'Is_Area_Imputed'] = 1",
      "execution_count": 37,
      "outputs": []
    },
    {
      "metadata": {},
      "cell_type": "markdown",
      "source": "## Data Imputation"
    },
    {
      "metadata": {},
      "cell_type": "markdown",
      "source": "We need to impute the price and area for the records with fewer than 10 transactions. While we could do it based on the current data, there is not much information for the imputation algorithm. It could work based on year/municipality, but it is likely to yield poor results, since it would be unable to find similar municipalities within the same year<br>\nWe will add the district, province and region for each municipality, since municipalities under the same district, province or region are likely to have similar real estate prices<br>\nWe will also add population and tax information, since municipalities with similar populations and/or similar income are likely to have similar real estate prices<br>\nLet us add population information first"
    },
    {
      "metadata": {
        "collapsed": true,
        "trusted": false
      },
      "cell_type": "code",
      "source": "# Create a base data frame with the municipality IDs\npop_data = pd.DataFrame(data = real_estate.REFNIS.unique(), columns = ['REFNIS'])",
      "execution_count": 38,
      "outputs": []
    },
    {
      "metadata": {
        "collapsed": true,
        "trusted": false
      },
      "cell_type": "code",
      "source": "# Read the population data as a dictionary of data frames\npop_data_temp = pd.read_excel('./data/Population_de_droit_au_1_janvier,_par_commune,_par_sexe_2011_2017.xls', sheet_name = None, skiprows = 1, usecols = 'A, E', dtype = {' code INS': str})",
      "execution_count": 39,
      "outputs": []
    },
    {
      "metadata": {
        "trusted": false
      },
      "cell_type": "code",
      "source": "pop_data_temp.keys()",
      "execution_count": 40,
      "outputs": [
        {
          "data": {
            "text/plain": "odict_keys(['Population de droit en 2018', 'Population de droit en 2017', 'Population de droit en 2016', 'population de droit en 2015', 'Population de droit en 2014', 'Population de droit en 2013', 'Population de droit en 2012', 'Population de droit en 2011'])"
          },
          "execution_count": 40,
          "metadata": {},
          "output_type": "execute_result"
        }
      ]
    },
    {
      "metadata": {
        "collapsed": true,
        "trusted": false
      },
      "cell_type": "code",
      "source": "# Convert the data from separate data frames into a single one\nfor key, value in pop_data_temp.items():\n    value.rename(columns = {' code INS': 'REFNIS', 'Total': key[-4:]}, inplace = True)\n    pop_data = pop_data.merge(value, on = 'REFNIS', copy = False)",
      "execution_count": 41,
      "outputs": []
    },
    {
      "metadata": {
        "trusted": false
      },
      "cell_type": "code",
      "source": "pop_data.head()",
      "execution_count": 42,
      "outputs": [
        {
          "data": {
            "text/html": "<div>\n<style scoped>\n    .dataframe tbody tr th:only-of-type {\n        vertical-align: middle;\n    }\n\n    .dataframe tbody tr th {\n        vertical-align: top;\n    }\n\n    .dataframe thead th {\n        text-align: right;\n    }\n</style>\n<table border=\"1\" class=\"dataframe\">\n  <thead>\n    <tr style=\"text-align: right;\">\n      <th></th>\n      <th>REFNIS</th>\n      <th>2018</th>\n      <th>2017</th>\n      <th>2016</th>\n      <th>2015</th>\n      <th>2014</th>\n      <th>2013</th>\n      <th>2012</th>\n      <th>2011</th>\n    </tr>\n  </thead>\n  <tbody>\n    <tr>\n      <th>0</th>\n      <td>11001</td>\n      <td>14304.0</td>\n      <td>14222.0</td>\n      <td>14262.0</td>\n      <td>14157.0</td>\n      <td>14207.0</td>\n      <td>14226.0</td>\n      <td>14281.0</td>\n      <td>14311.0</td>\n    </tr>\n    <tr>\n      <th>1</th>\n      <td>11002</td>\n      <td>523248.0</td>\n      <td>520504.0</td>\n      <td>517042.0</td>\n      <td>513570.0</td>\n      <td>510610.0</td>\n      <td>507911.0</td>\n      <td>502604.0</td>\n      <td>493517.0</td>\n    </tr>\n    <tr>\n      <th>2</th>\n      <td>11004</td>\n      <td>13120.0</td>\n      <td>12908.0</td>\n      <td>12844.0</td>\n      <td>12792.0</td>\n      <td>12804.0</td>\n      <td>12774.0</td>\n      <td>12724.0</td>\n      <td>12728.0</td>\n    </tr>\n    <tr>\n      <th>3</th>\n      <td>11005</td>\n      <td>17970.0</td>\n      <td>17788.0</td>\n      <td>17737.0</td>\n      <td>17559.0</td>\n      <td>17231.0</td>\n      <td>17227.0</td>\n      <td>17166.0</td>\n      <td>16989.0</td>\n    </tr>\n    <tr>\n      <th>4</th>\n      <td>11007</td>\n      <td>10685.0</td>\n      <td>10581.0</td>\n      <td>10540.0</td>\n      <td>10465.0</td>\n      <td>10451.0</td>\n      <td>10278.0</td>\n      <td>10233.0</td>\n      <td>10207.0</td>\n    </tr>\n  </tbody>\n</table>\n</div>",
            "text/plain": "  REFNIS      2018      2017      2016      2015      2014      2013  \\\n0  11001   14304.0   14222.0   14262.0   14157.0   14207.0   14226.0   \n1  11002  523248.0  520504.0  517042.0  513570.0  510610.0  507911.0   \n2  11004   13120.0   12908.0   12844.0   12792.0   12804.0   12774.0   \n3  11005   17970.0   17788.0   17737.0   17559.0   17231.0   17227.0   \n4  11007   10685.0   10581.0   10540.0   10465.0   10451.0   10278.0   \n\n       2012      2011  \n0   14281.0   14311.0  \n1  502604.0  493517.0  \n2   12724.0   12728.0  \n3   17166.0   16989.0  \n4   10233.0   10207.0  "
          },
          "execution_count": 42,
          "metadata": {},
          "output_type": "execute_result"
        }
      ]
    },
    {
      "metadata": {
        "collapsed": true,
        "trusted": false
      },
      "cell_type": "code",
      "source": "# Transform the data from horizontal to vertical\npop_data = pd.melt(pop_data, id_vars = 'REFNIS', value_vars = ['2018', '2017', '2016', '2015', '2014',\n                '2013', '2012', '2011'], var_name = 'Year', value_name = 'Population')\npop_data.Population = pop_data.Population.astype(np.int64)\npop_data.Year = pop_data.Year.astype(np.int64)",
      "execution_count": 43,
      "outputs": []
    },
    {
      "metadata": {
        "trusted": false
      },
      "cell_type": "code",
      "source": "pop_data.head()",
      "execution_count": 44,
      "outputs": [
        {
          "data": {
            "text/html": "<div>\n<style scoped>\n    .dataframe tbody tr th:only-of-type {\n        vertical-align: middle;\n    }\n\n    .dataframe tbody tr th {\n        vertical-align: top;\n    }\n\n    .dataframe thead th {\n        text-align: right;\n    }\n</style>\n<table border=\"1\" class=\"dataframe\">\n  <thead>\n    <tr style=\"text-align: right;\">\n      <th></th>\n      <th>REFNIS</th>\n      <th>Year</th>\n      <th>Population</th>\n    </tr>\n  </thead>\n  <tbody>\n    <tr>\n      <th>0</th>\n      <td>11001</td>\n      <td>2018</td>\n      <td>14304</td>\n    </tr>\n    <tr>\n      <th>1</th>\n      <td>11002</td>\n      <td>2018</td>\n      <td>523248</td>\n    </tr>\n    <tr>\n      <th>2</th>\n      <td>11004</td>\n      <td>2018</td>\n      <td>13120</td>\n    </tr>\n    <tr>\n      <th>3</th>\n      <td>11005</td>\n      <td>2018</td>\n      <td>17970</td>\n    </tr>\n    <tr>\n      <th>4</th>\n      <td>11007</td>\n      <td>2018</td>\n      <td>10685</td>\n    </tr>\n  </tbody>\n</table>\n</div>",
            "text/plain": "  REFNIS  Year  Population\n0  11001  2018       14304\n1  11002  2018      523248\n2  11004  2018       13120\n3  11005  2018       17970\n4  11007  2018       10685"
          },
          "execution_count": 44,
          "metadata": {},
          "output_type": "execute_result"
        }
      ]
    },
    {
      "metadata": {},
      "cell_type": "markdown",
      "source": "We only have data from 2011 onwards. We need to estimate the values for the previous years. While it is most likely not the best method and the assumptions do not hold, we will use linear regression for simplicity's sake"
    },
    {
      "metadata": {
        "trusted": false
      },
      "cell_type": "code",
      "source": "pop_data.hist(column = 'Population', by = 'Year', bins = 30, figsize = (14, 7), xrot = 30);",
      "execution_count": 45,
      "outputs": [
        {
          "data": {
            "image/png": "[encoded data removed]",
            "text/plain": "<Figure size 1008x504 with 9 Axes>"
          },
          "metadata": {},
          "output_type": "display_data"
        }
      ]
    },
    {
      "metadata": {},
      "cell_type": "markdown",
      "source": "The data is highly right skewed. We will log transform it to reduce skewness, even though the assumptions of linearity will still not hold"
    },
    {
      "metadata": {
        "collapsed": true,
        "trusted": false
      },
      "cell_type": "code",
      "source": "# Create a copy of the initial data, as we will need to dummify it\n# Order it first, as this will be needed when getting the predictions\npop_data.sort_values(by = ['Year', 'REFNIS'], ascending = [False, True], inplace = True)\npopulations = pop_data.copy()",
      "execution_count": 46,
      "outputs": []
    },
    {
      "metadata": {
        "collapsed": true,
        "trusted": false
      },
      "cell_type": "code",
      "source": "pop_data.Population = np.log(pop_data.Population)",
      "execution_count": 47,
      "outputs": []
    },
    {
      "metadata": {
        "trusted": false
      },
      "cell_type": "code",
      "source": "pop_data.hist(column = 'Population', by = 'Year', bins = 30, figsize = (14, 7), xrot = 30);",
      "execution_count": 48,
      "outputs": [
        {
          "data": {
            "image/png": "[encoded data removed]",
            "text/plain": "<Figure size 1008x504 with 9 Axes>"
          },
          "metadata": {},
          "output_type": "display_data"
        }
      ]
    },
    {
      "metadata": {
        "collapsed": true,
        "trusted": false
      },
      "cell_type": "code",
      "source": "pop_data = pd.get_dummies(pop_data, columns = ['REFNIS'], prefix = ['Mun'])",
      "execution_count": 49,
      "outputs": []
    },
    {
      "metadata": {},
      "cell_type": "markdown",
      "source": "We will create a regressor for all municipalities in a go instead of for each one individualy, as we only have data for 8 years and there are municipalities whose population goes up and down during this time, which might create a regressor with negative slope"
    },
    {
      "metadata": {
        "trusted": false
      },
      "cell_type": "code",
      "source": "linreg = linear_model.LinearRegression(normalize = True)\nX = pop_data[pop_data.columns[pop_data.columns != 'Population']]\ny = pop_data.Population\nlinreg.fit(X, y)",
      "execution_count": 50,
      "outputs": [
        {
          "data": {
            "text/plain": "LinearRegression(copy_X=True, fit_intercept=True, n_jobs=None, normalize=True)"
          },
          "execution_count": 50,
          "metadata": {},
          "output_type": "execute_result"
        }
      ]
    },
    {
      "metadata": {},
      "cell_type": "markdown",
      "source": "In order to make predictions for the years 1980 until 2010, we make a copy of the data for the year 2011, subtract 1, predict and repeat"
    },
    {
      "metadata": {
        "collapsed": true,
        "trusted": false
      },
      "cell_type": "code",
      "source": "temp_pop = pop_data.loc[pop_data.Year == 2011,\n                        [col for col in pop_data.columns if col != 'Population']].copy()\nfor i in range(2010 - 1980 + 1):\n    temp_pop.Year = temp_pop.Year - 1\n    preds = linreg.predict(temp_pop)\n    temp_pop1 = pd.DataFrame({'Year': (2010 - i),\n                              'REFNIS': populations.loc[populations.Year == 2018,'REFNIS'],\n                              'Population': np.round(np.exp(preds))})\n    populations = pd.concat([populations, temp_pop1], axis = 0, copy = False, sort = False)\npopulations.Population = populations.Population.astype(np.int64)",
      "execution_count": 51,
      "outputs": []
    },
    {
      "metadata": {
        "collapsed": true,
        "trusted": false
      },
      "cell_type": "code",
      "source": "real_estate = real_estate.merge(populations, on = ['Year', 'REFNIS'], copy = False)",
      "execution_count": 52,
      "outputs": []
    },
    {
      "metadata": {},
      "cell_type": "markdown",
      "source": "Let us add tax information now"
    },
    {
      "metadata": {
        "collapsed": true,
        "trusted": false
      },
      "cell_type": "code",
      "source": "tax_struct = pd.read_excel('./data/TF_PSNL_INC_TAX_MUNTY.xlsx',\n                           names = ['Year', 'REFNIS', 'Total_Income', 'Number_of_Incomes',\n                                    'Number_Of_Residents', 'DSTR_REFNIS', 'PROV_REFNIS', 'RGN_REFNIS'],\n                           usecols = 'A, B, F, G, AE, AH, AK, AN',\n                           dtype = {'Year': np.int, 'Number_of_Incomes': np.int,\n                                    'Number_Of_Residents': np.int, 'REFNIS': str, 'DSTR_REFNIS': str,\n                                    'PROV_REFNIS': str, 'RGN_REFNIS': str})",
      "execution_count": 53,
      "outputs": []
    },
    {
      "metadata": {
        "collapsed": true,
        "trusted": false
      },
      "cell_type": "code",
      "source": "# Brussels municipalities dot not have a province, so create an artificial one\n#tax_struct.loc[tax_struct.PROV_REFNIS == 'nan', 'PROV_REFNIS'] = '100000'\ntax_struct.loc[tax_struct.PROV_REFNIS.isnull(), 'PROV_REFNIS'] = '100000'",
      "execution_count": 54,
      "outputs": []
    },
    {
      "metadata": {
        "collapsed": true,
        "trusted": false
      },
      "cell_type": "code",
      "source": "# Create 2 extra columns, the income per taxpayer and the income per resident\ntax_struct['Income_Per_Taxpayer'] = tax_struct.Total_Income / tax_struct.Number_of_Incomes\ntax_struct['Income_Per_Resident'] = tax_struct.Total_Income / tax_struct.Number_Of_Residents",
      "execution_count": 55,
      "outputs": []
    },
    {
      "metadata": {
        "collapsed": true,
        "trusted": false
      },
      "cell_type": "code",
      "source": "# Do not use the number or residents to predict, as that is not available for all years\n# We do not need to predict it, as it is the population we already predicted\ntax_struct.drop(labels = 'Number_Of_Residents', axis = 1, inplace = True)",
      "execution_count": 56,
      "outputs": []
    },
    {
      "metadata": {},
      "cell_type": "markdown",
      "source": "As for the population data, we do not have the tax information for all years (only from 2005 until 2015), so we need to estimate it. We wil also use linear regression. The steps are very similar to the population data regression"
    },
    {
      "metadata": {
        "collapsed": true,
        "trusted": false
      },
      "cell_type": "code",
      "source": "# Create a copy of the initial data, as we will need to dummify it\n# Order it first, as this will be needed when getting the predictions\ntax_struct.sort_values(by = ['Year', 'REFNIS'], ascending = [False, True], inplace = True)\ntax_preds = tax_struct.copy()",
      "execution_count": 57,
      "outputs": []
    },
    {
      "metadata": {
        "collapsed": true,
        "trusted": false
      },
      "cell_type": "code",
      "source": "# Log transform the data\ntax_struct.Total_Income = np.log(tax_struct.Total_Income)\ntax_struct.Number_of_Incomes = np.log(tax_struct.Number_of_Incomes)\ntax_struct.Income_Per_Taxpayer = np.log(tax_struct.Income_Per_Taxpayer)\ntax_struct.Income_Per_Resident = np.log(tax_struct.Income_Per_Resident)",
      "execution_count": 58,
      "outputs": []
    },
    {
      "metadata": {
        "collapsed": true,
        "trusted": false
      },
      "cell_type": "code",
      "source": "tax_struct = pd.get_dummies(tax_struct, columns = ['REFNIS', 'DSTR_REFNIS', 'PROV_REFNIS',\n                                                   'RGN_REFNIS'],\n                            prefix = ['Mun', 'Dstr', 'Prov', 'Reg'])",
      "execution_count": 59,
      "outputs": []
    },
    {
      "metadata": {
        "trusted": false
      },
      "cell_type": "code",
      "source": "linreg = linear_model.LinearRegression(normalize = True)\nX = tax_struct[tax_struct.columns[~tax_struct.columns.isin(['Total_Income', 'Number_of_Incomes',\n                                                    'Income_Per_Taxpayer', 'Income_Per_Resident'])]]\ny = tax_struct[tax_struct.columns[tax_struct.columns.isin(['Total_Income', 'Number_of_Incomes',\n                                                    'Income_Per_Taxpayer', 'Income_Per_Resident'])]]\nlinreg.fit(X, y)",
      "execution_count": 60,
      "outputs": [
        {
          "data": {
            "text/plain": "LinearRegression(copy_X=True, fit_intercept=True, n_jobs=None, normalize=True)"
          },
          "execution_count": 60,
          "metadata": {},
          "output_type": "execute_result"
        }
      ]
    },
    {
      "metadata": {},
      "cell_type": "markdown",
      "source": "In order to make predictions for the years 1980 until 2004, we make a copy of the data for the year 2005, subtract 1, predict and repeat"
    },
    {
      "metadata": {
        "collapsed": true,
        "trusted": false
      },
      "cell_type": "code",
      "source": "temp_tax = tax_struct.loc[tax_struct.Year == 2005, X.columns].copy()",
      "execution_count": 61,
      "outputs": []
    },
    {
      "metadata": {
        "collapsed": true,
        "trusted": false
      },
      "cell_type": "code",
      "source": "for i in range(2005 - 1980 + 1):\n    temp_tax.Year = temp_tax.Year - 1\n    preds = linreg.predict(temp_tax)\n    temp_tax1 = pd.DataFrame({'Year': (2004 - i),\n                              'REFNIS': tax_preds.loc[tax_preds.Year == 2015, 'REFNIS'],\n                              'DSTR_REFNIS': tax_preds.loc[tax_preds.Year == 2015, 'DSTR_REFNIS'],\n                              'PROV_REFNIS': tax_preds.loc[tax_preds.Year == 2015, 'PROV_REFNIS'],\n                              'RGN_REFNIS': tax_preds.loc[tax_preds.Year == 2015, 'RGN_REFNIS'],\n                              'Total_Income': np.exp(preds[:,0]),\n                              'Number_of_Incomes': np.exp(preds[:,1]),\n                              'Income_Per_Taxpayer': np.exp(preds[:,2]),\n                              'Income_Per_Resident': np.exp(preds[:,3])})\n    tax_preds = pd.concat([tax_preds, temp_tax1], axis = 0, copy = False, sort = False)",
      "execution_count": 62,
      "outputs": []
    },
    {
      "metadata": {},
      "cell_type": "markdown",
      "source": "In order to make predictions for the years 2016 and 2017, we make a copy of the data for the year 2015, add 1, predict and repeat"
    },
    {
      "metadata": {
        "collapsed": true,
        "trusted": false
      },
      "cell_type": "code",
      "source": "temp_tax = tax_struct.loc[tax_struct.Year == 2015, X.columns].copy()",
      "execution_count": 63,
      "outputs": []
    },
    {
      "metadata": {
        "collapsed": true,
        "trusted": false
      },
      "cell_type": "code",
      "source": "for i in range(2017 - 2016 + 1):\n    temp_tax.Year = temp_tax.Year + 1\n    preds = linreg.predict(temp_tax)\n    temp_tax1 = pd.DataFrame({'Year': (2016 + i),\n                              'REFNIS': tax_preds.loc[tax_preds.Year == 2015, 'REFNIS'],\n                              'DSTR_REFNIS': tax_preds.loc[tax_preds.Year == 2015, 'DSTR_REFNIS'],\n                              'PROV_REFNIS': tax_preds.loc[tax_preds.Year == 2015, 'PROV_REFNIS'],\n                              'RGN_REFNIS': tax_preds.loc[tax_preds.Year == 2015, 'RGN_REFNIS'],\n                              'Total_Income': np.exp(preds[:,0]),\n                              'Number_of_Incomes': np.round(np.exp(preds[:,1])),\n                              'Income_Per_Taxpayer': np.exp(preds[:,2]),\n                              'Income_Per_Resident': np.exp(preds[:,3])})\n    tax_preds = pd.concat([tax_preds, temp_tax1], axis = 0, copy = False, sort = False)\ntax_preds.Number_of_Incomes = tax_preds.Number_of_Incomes.astype(np.int64)",
      "execution_count": 64,
      "outputs": []
    },
    {
      "metadata": {
        "collapsed": true,
        "trusted": false
      },
      "cell_type": "code",
      "source": "# Merge the tax information in the original data frame\nreal_estate = real_estate.merge(tax_preds, on = ['Year', 'REFNIS'], copy = False)",
      "execution_count": 65,
      "outputs": []
    },
    {
      "metadata": {
        "collapsed": true,
        "trusted": false
      },
      "cell_type": "code",
      "source": "# Reorder the columns\ncols = list(real_estate.columns)\nreal_estate = real_estate[cols[:2] + [cols[3]] + [cols[2]] + cols[15:18] + cols[4:15] + cols[18:]]",
      "execution_count": 66,
      "outputs": []
    },
    {
      "metadata": {
        "trusted": false
      },
      "cell_type": "code",
      "source": "real_estate.columns",
      "execution_count": 67,
      "outputs": [
        {
          "data": {
            "text/plain": "Index(['Year', 'Property_Type', 'Municipality_Name', 'REFNIS', 'DSTR_REFNIS',\n       'PROV_REFNIS', 'RGN_REFNIS', 'Total_Transactions', 'Total_Price',\n       'Total_Area', 'Mean_Price', 'Mean_Area', 'Is_Price_Imputed',\n       'Is_Area_Missing', 'Is_Area_Imputed', 'Population', 'Total_Income',\n       'Number_of_Incomes', 'Income_Per_Taxpayer', 'Income_Per_Resident'],\n      dtype='object')"
          },
          "execution_count": 67,
          "metadata": {},
          "output_type": "execute_result"
        }
      ]
    },
    {
      "metadata": {},
      "cell_type": "markdown",
      "source": "Ok, so now that we have quite a bit of information for each municipality, we can impute the missing price and area for the records with fewer than 10 transactions. We will do it per property type, first because it does not make sense to do it for heterogeneous data, and second because we cannot easily and meaningfully define a distance between property types. We will use KNN for defining the distance between records. Also, we will not include the records with no transactions in the imputation algorithm"
    },
    {
      "metadata": {
        "collapsed": true,
        "trusted": false
      },
      "cell_type": "code",
      "source": "# Order the data first, in order to have the records with the same property type grouped together\nreal_estate.sort_values(by = ['Property_Type', 'REFNIS', 'Year'], inplace = True)",
      "execution_count": 68,
      "outputs": []
    },
    {
      "metadata": {
        "collapsed": true,
        "trusted": false
      },
      "cell_type": "code",
      "source": "# Create a copy of the initial data, as we will need to dummify it\ntemp_real_estate = real_estate[real_estate.Total_Transactions > 0].copy()",
      "execution_count": 69,
      "outputs": []
    },
    {
      "metadata": {
        "collapsed": true,
        "trusted": false
      },
      "cell_type": "code",
      "source": "temp_real_estate = pd.get_dummies(temp_real_estate, columns = ['REFNIS', 'DSTR_REFNIS', 'PROV_REFNIS',\n                                                               'RGN_REFNIS'],\n                                  prefix = ['Mun', 'Dstr', 'Prov', 'Reg'])",
      "execution_count": 70,
      "outputs": []
    },
    {
      "metadata": {
        "trusted": false
      },
      "cell_type": "code",
      "source": "# Create an empty array for holding the imputed price and area\n# We only impute the mean values and compute the total values based on the number of transactions\nimputed_values = np.empty((temp_real_estate.shape[0], 2))\nlast_index = 0\n# We min max scale the columns, in order for all of them to have the same weight\n# We do not scale the dummified columns, neither the ones which are not used in the prediction\ncols_to_scale = ['Year', 'Income_Per_Taxpayer', 'Income_Per_Resident', 'Total_Transactions',\n                 'Total_Income', 'Population', 'Number_of_Incomes']\nfor prop_type in temp_real_estate.Property_Type.unique():\n    # Select only the numeric columns\n    temp_prop = temp_real_estate[temp_real_estate.Property_Type == prop_type].select_dtypes(include = ['number'])\n    # Filter out the columns which will not be predicted or are not relevant for predicting\n    temp_prop = temp_prop[[col for col in temp_prop.columns if col not in ['Total_Price', 'Total_Area',\n                                            'Is_Price_Imputed', 'Is_Area_Missing', 'Is_Area_Imputed']]]\n    # Scale the data\n    scaler = MinMaxScaler()\n    temp_prop[cols_to_scale] = scaler.fit_transform(temp_prop[cols_to_scale])\n    # Impute the missing information\n    temp_prop = KNN(3).fit_transform(temp_prop)\n    # Save the mean price and area in the main array\n    imputed_values[last_index:(last_index + temp_prop.shape[0]), :] = temp_prop[:, [2, 3]]\n    last_index += temp_prop.shape[0]\nreal_estate.loc[real_estate.Total_Transactions > 0, ['Mean_Price', 'Mean_Area']] = imputed_values\n# Compute the total values\nreal_estate.Total_Price = real_estate.Mean_Price * real_estate.Total_Transactions\nreal_estate.Total_Area = real_estate.Mean_Area * real_estate.Total_Transactions",
      "execution_count": 71,
      "outputs": [
        {
          "name": "stderr",
          "output_type": "stream",
          "text": "D:\\Games\\Anaconda\\lib\\site-packages\\sklearn\\preprocessing\\data.py:323: DataConversionWarning: Data with input dtype int64, float64 were all converted to float64 by MinMaxScaler.\n  return self.partial_fit(X, y)\n"
        },
        {
          "name": "stdout",
          "output_type": "stream",
          "text": "Imputing row 1/14740 with 0 missing, elapsed time: 879.910\nImputing row 101/14740 with 0 missing, elapsed time: 879.914\nImputing row 201/14740 with 0 missing, elapsed time: 879.914\nImputing row 301/14740 with 0 missing, elapsed time: 879.918\nImputing row 401/14740 with 0 missing, elapsed time: 879.922\nImputing row 501/14740 with 0 missing, elapsed time: 879.926\nImputing row 601/14740 with 0 missing, elapsed time: 879.930\nImputing row 701/14740 with 0 missing, elapsed time: 879.934\nImputing row 801/14740 with 0 missing, elapsed time: 879.934\nImputing row 901/14740 with 0 missing, elapsed time: 879.938\nImputing row 1001/14740 with 0 missing, elapsed time: 879.945\nImputing row 1101/14740 with 0 missing, elapsed time: 879.949\nImputing row 1201/14740 with 0 missing, elapsed time: 879.953\nImputing row 1301/14740 with 0 missing, elapsed time: 879.957\nImputing row 1401/14740 with 1 missing, elapsed time: 879.965\nImputing row 1501/14740 with 0 missing, elapsed time: 879.969\nImputing row 1601/14740 with 1 missing, elapsed time: 879.977\nImputing row 1701/14740 with 0 missing, elapsed time: 879.980\nImputing row 1801/14740 with 1 missing, elapsed time: 879.988\nImputing row 1901/14740 with 1 missing, elapsed time: 879.996\nImputing row 2001/14740 with 0 missing, elapsed time: 880.004\nImputing row 2101/14740 with 1 missing, elapsed time: 880.008\nImputing row 2201/14740 with 0 missing, elapsed time: 880.012\nImputing row 2301/14740 with 0 missing, elapsed time: 880.016\nImputing row 2401/14740 with 0 missing, elapsed time: 880.016\nImputing row 2501/14740 with 0 missing, elapsed time: 880.016\nImputing row 2601/14740 with 0 missing, elapsed time: 880.016\nImputing row 2701/14740 with 0 missing, elapsed time: 880.020\nImputing row 2801/14740 with 0 missing, elapsed time: 880.020\nImputing row 2901/14740 with 0 missing, elapsed time: 880.023\nImputing row 3001/14740 with 0 missing, elapsed time: 880.027\nImputing row 3101/14740 with 0 missing, elapsed time: 880.035\nImputing row 3201/14740 with 0 missing, elapsed time: 880.043\nImputing row 3301/14740 with 0 missing, elapsed time: 880.051\nImputing row 3401/14740 with 1 missing, elapsed time: 880.055\nImputing row 3501/14740 with 0 missing, elapsed time: 880.059\nImputing row 3601/14740 with 0 missing, elapsed time: 880.066\nImputing row 3701/14740 with 0 missing, elapsed time: 880.070\nImputing row 3801/14740 with 1 missing, elapsed time: 880.074\nImputing row 3901/14740 with 1 missing, elapsed time: 880.082\nImputing row 4001/14740 with 0 missing, elapsed time: 880.094\nImputing row 4101/14740 with 1 missing, elapsed time: 880.102\nImputing row 4201/14740 with 1 missing, elapsed time: 880.109\nImputing row 4301/14740 with 0 missing, elapsed time: 880.113\nImputing row 4401/14740 with 0 missing, elapsed time: 880.125\nImputing row 4501/14740 with 1 missing, elapsed time: 880.129\nImputing row 4601/14740 with 0 missing, elapsed time: 880.137\nImputing row 4701/14740 with 0 missing, elapsed time: 880.145\nImputing row 4801/14740 with 1 missing, elapsed time: 880.156\nImputing row 4901/14740 with 0 missing, elapsed time: 880.160\nImputing row 5001/14740 with 0 missing, elapsed time: 880.168\nImputing row 5101/14740 with 0 missing, elapsed time: 880.172\nImputing row 5201/14740 with 0 missing, elapsed time: 880.180\nImputing row 5301/14740 with 0 missing, elapsed time: 880.184\nImputing row 5401/14740 with 1 missing, elapsed time: 880.191\nImputing row 5501/14740 with 1 missing, elapsed time: 880.195\nImputing row 5601/14740 with 0 missing, elapsed time: 880.203\nImputing row 5701/14740 with 0 missing, elapsed time: 880.211\nImputing row 5801/14740 with 1 missing, elapsed time: 880.219\nImputing row 5901/14740 with 1 missing, elapsed time: 880.230\nImputing row 6001/14740 with 0 missing, elapsed time: 880.234\nImputing row 6101/14740 with 0 missing, elapsed time: 880.238\nImputing row 6201/14740 with 1 missing, elapsed time: 880.242\nImputing row 6301/14740 with 0 missing, elapsed time: 880.246\nImputing row 6401/14740 with 0 missing, elapsed time: 880.250\nImputing row 6501/14740 with 0 missing, elapsed time: 880.258\nImputing row 6601/14740 with 0 missing, elapsed time: 880.266\nImputing row 6701/14740 with 0 missing, elapsed time: 880.273\nImputing row 6801/14740 with 0 missing, elapsed time: 880.281\nImputing row 6901/14740 with 0 missing, elapsed time: 880.293\nImputing row 7001/14740 with 1 missing, elapsed time: 880.293\nImputing row 7101/14740 with 1 missing, elapsed time: 880.297\nImputing row 7201/14740 with 0 missing, elapsed time: 880.305\nImputing row 7301/14740 with 0 missing, elapsed time: 880.309\nImputing row 7401/14740 with 0 missing, elapsed time: 880.316\nImputing row 7501/14740 with 0 missing, elapsed time: 880.320\nImputing row 7601/14740 with 1 missing, elapsed time: 880.328\nImputing row 7701/14740 with 1 missing, elapsed time: 880.336\nImputing row 7801/14740 with 0 missing, elapsed time: 880.344\nImputing row 7901/14740 with 0 missing, elapsed time: 880.348\nImputing row 8001/14740 with 0 missing, elapsed time: 880.355\nImputing row 8101/14740 with 0 missing, elapsed time: 880.363\nImputing row 8201/14740 with 1 missing, elapsed time: 880.371\nImputing row 8301/14740 with 0 missing, elapsed time: 880.383\nImputing row 8401/14740 with 0 missing, elapsed time: 880.391\nImputing row 8501/14740 with 1 missing, elapsed time: 880.398\nImputing row 8601/14740 with 1 missing, elapsed time: 880.406\nImputing row 8701/14740 with 0 missing, elapsed time: 880.410\nImputing row 8801/14740 with 0 missing, elapsed time: 880.418\nImputing row 8901/14740 with 1 missing, elapsed time: 880.426\nImputing row 9001/14740 with 0 missing, elapsed time: 880.434\nImputing row 9101/14740 with 1 missing, elapsed time: 880.441\nImputing row 9201/14740 with 1 missing, elapsed time: 880.453\nImputing row 9301/14740 with 1 missing, elapsed time: 880.465\nImputing row 9401/14740 with 1 missing, elapsed time: 880.477\nImputing row 9501/14740 with 1 missing, elapsed time: 880.484\nImputing row 9601/14740 with 1 missing, elapsed time: 880.492\nImputing row 9701/14740 with 0 missing, elapsed time: 880.500\nImputing row 9801/14740 with 0 missing, elapsed time: 880.508\nImputing row 9901/14740 with 0 missing, elapsed time: 880.516\nImputing row 10001/14740 with 1 missing, elapsed time: 880.523\nImputing row 10101/14740 with 1 missing, elapsed time: 880.535\nImputing row 10201/14740 with 1 missing, elapsed time: 880.547\nImputing row 10301/14740 with 0 missing, elapsed time: 880.559\nImputing row 10401/14740 with 1 missing, elapsed time: 880.566\nImputing row 10501/14740 with 1 missing, elapsed time: 880.578\nImputing row 10601/14740 with 0 missing, elapsed time: 880.586\nImputing row 10701/14740 with 0 missing, elapsed time: 880.598\nImputing row 10801/14740 with 0 missing, elapsed time: 880.602\nImputing row 10901/14740 with 0 missing, elapsed time: 880.605\nImputing row 11001/14740 with 0 missing, elapsed time: 880.613\nImputing row 11101/14740 with 0 missing, elapsed time: 880.617\nImputing row 11201/14740 with 1 missing, elapsed time: 880.629\nImputing row 11301/14740 with 1 missing, elapsed time: 880.641\nImputing row 11401/14740 with 1 missing, elapsed time: 880.648\nImputing row 11501/14740 with 1 missing, elapsed time: 880.656\nImputing row 11601/14740 with 1 missing, elapsed time: 880.664\nImputing row 11701/14740 with 1 missing, elapsed time: 880.672\nImputing row 11801/14740 with 1 missing, elapsed time: 880.680\nImputing row 11901/14740 with 1 missing, elapsed time: 880.695\nImputing row 12001/14740 with 0 missing, elapsed time: 880.703\nImputing row 12101/14740 with 1 missing, elapsed time: 880.707\nImputing row 12201/14740 with 0 missing, elapsed time: 880.715\nImputing row 12301/14740 with 0 missing, elapsed time: 880.719\nImputing row 12401/14740 with 0 missing, elapsed time: 880.723\nImputing row 12501/14740 with 0 missing, elapsed time: 880.727\nImputing row 12601/14740 with 0 missing, elapsed time: 880.734\nImputing row 12701/14740 with 0 missing, elapsed time: 880.742\nImputing row 12801/14740 with 0 missing, elapsed time: 880.746\nImputing row 12901/14740 with 0 missing, elapsed time: 880.750\nImputing row 13001/14740 with 1 missing, elapsed time: 880.758\nImputing row 13101/14740 with 1 missing, elapsed time: 880.762\nImputing row 13201/14740 with 0 missing, elapsed time: 880.770\nImputing row 13301/14740 with 0 missing, elapsed time: 880.773\nImputing row 13401/14740 with 0 missing, elapsed time: 880.781\nImputing row 13501/14740 with 1 missing, elapsed time: 880.789\nImputing row 13601/14740 with 1 missing, elapsed time: 880.797\nImputing row 13701/14740 with 1 missing, elapsed time: 880.809\nImputing row 13801/14740 with 1 missing, elapsed time: 880.820\nImputing row 13901/14740 with 1 missing, elapsed time: 880.832\nImputing row 14001/14740 with 1 missing, elapsed time: 880.844\nImputing row 14101/14740 with 0 missing, elapsed time: 880.852\nImputing row 14201/14740 with 0 missing, elapsed time: 880.863\nImputing row 14301/14740 with 1 missing, elapsed time: 880.875\nImputing row 14401/14740 with 1 missing, elapsed time: 880.883\nImputing row 14501/14740 with 1 missing, elapsed time: 880.891\nImputing row 14601/14740 with 1 missing, elapsed time: 880.898\nImputing row 14701/14740 with 1 missing, elapsed time: 880.910\n"
        },
        {
          "name": "stderr",
          "output_type": "stream",
          "text": "D:\\Games\\Anaconda\\lib\\site-packages\\sklearn\\preprocessing\\data.py:323: DataConversionWarning: Data with input dtype int64, float64 were all converted to float64 by MinMaxScaler.\n  return self.partial_fit(X, y)\n"
        },
        {
          "name": "stdout",
          "output_type": "stream",
          "text": "Imputing row 1/20590 with 0 missing, elapsed time: 1646.645\nImputing row 101/20590 with 0 missing, elapsed time: 1646.645\nImputing row 201/20590 with 0 missing, elapsed time: 1646.645\nImputing row 301/20590 with 0 missing, elapsed time: 1646.648\nImputing row 401/20590 with 0 missing, elapsed time: 1646.648\nImputing row 501/20590 with 0 missing, elapsed time: 1646.648\nImputing row 601/20590 with 0 missing, elapsed time: 1646.648\nImputing row 701/20590 with 0 missing, elapsed time: 1646.652\nImputing row 801/20590 with 0 missing, elapsed time: 1646.652\nImputing row 901/20590 with 0 missing, elapsed time: 1646.652\nImputing row 1001/20590 with 0 missing, elapsed time: 1646.656\nImputing row 1101/20590 with 0 missing, elapsed time: 1646.656\nImputing row 1201/20590 with 0 missing, elapsed time: 1646.656\nImputing row 1301/20590 with 0 missing, elapsed time: 1646.656\nImputing row 1401/20590 with 0 missing, elapsed time: 1646.660\nImputing row 1501/20590 with 0 missing, elapsed time: 1646.660\nImputing row 1601/20590 with 0 missing, elapsed time: 1646.664\nImputing row 1701/20590 with 0 missing, elapsed time: 1646.668\nImputing row 1801/20590 with 0 missing, elapsed time: 1646.668\nImputing row 1901/20590 with 0 missing, elapsed time: 1646.668\nImputing row 2001/20590 with 0 missing, elapsed time: 1646.672\nImputing row 2101/20590 with 0 missing, elapsed time: 1646.672\nImputing row 2201/20590 with 0 missing, elapsed time: 1646.672\nImputing row 2301/20590 with 0 missing, elapsed time: 1646.672\nImputing row 2401/20590 with 0 missing, elapsed time: 1646.676\nImputing row 2501/20590 with 0 missing, elapsed time: 1646.676\nImputing row 2601/20590 with 0 missing, elapsed time: 1646.676\nImputing row 2701/20590 with 0 missing, elapsed time: 1646.680\nImputing row 2801/20590 with 0 missing, elapsed time: 1646.680\nImputing row 2901/20590 with 0 missing, elapsed time: 1646.680\nImputing row 3001/20590 with 0 missing, elapsed time: 1646.680\nImputing row 3101/20590 with 0 missing, elapsed time: 1646.684\nImputing row 3201/20590 with 0 missing, elapsed time: 1646.684\nImputing row 3301/20590 with 0 missing, elapsed time: 1646.688\nImputing row 3401/20590 with 0 missing, elapsed time: 1646.688\nImputing row 3501/20590 with 0 missing, elapsed time: 1646.688\nImputing row 3601/20590 with 0 missing, elapsed time: 1646.688\nImputing row 3701/20590 with 0 missing, elapsed time: 1646.691\nImputing row 3801/20590 with 0 missing, elapsed time: 1646.691\nImputing row 3901/20590 with 0 missing, elapsed time: 1646.691\nImputing row 4001/20590 with 0 missing, elapsed time: 1646.695\nImputing row 4101/20590 with 0 missing, elapsed time: 1646.695\nImputing row 4201/20590 with 0 missing, elapsed time: 1646.695\nImputing row 4301/20590 with 0 missing, elapsed time: 1646.695\nImputing row 4401/20590 with 0 missing, elapsed time: 1646.699\nImputing row 4501/20590 with 0 missing, elapsed time: 1646.699\nImputing row 4601/20590 with 0 missing, elapsed time: 1646.699\nImputing row 4701/20590 with 0 missing, elapsed time: 1646.703\nImputing row 4801/20590 with 0 missing, elapsed time: 1646.703\nImputing row 4901/20590 with 0 missing, elapsed time: 1646.703\nImputing row 5001/20590 with 0 missing, elapsed time: 1646.707\nImputing row 5101/20590 with 0 missing, elapsed time: 1646.707\nImputing row 5201/20590 with 0 missing, elapsed time: 1646.707\nImputing row 5301/20590 with 0 missing, elapsed time: 1646.711\nImputing row 5401/20590 with 0 missing, elapsed time: 1646.711\nImputing row 5501/20590 with 0 missing, elapsed time: 1646.711\nImputing row 5601/20590 with 0 missing, elapsed time: 1646.715\nImputing row 5701/20590 with 0 missing, elapsed time: 1646.715\nImputing row 5801/20590 with 0 missing, elapsed time: 1646.715\nImputing row 5901/20590 with 0 missing, elapsed time: 1646.715\nImputing row 6001/20590 with 0 missing, elapsed time: 1646.719\nImputing row 6101/20590 with 0 missing, elapsed time: 1646.719\nImputing row 6201/20590 with 0 missing, elapsed time: 1646.719\nImputing row 6301/20590 with 0 missing, elapsed time: 1646.723\nImputing row 6401/20590 with 0 missing, elapsed time: 1646.723\nImputing row 6501/20590 with 0 missing, elapsed time: 1646.723\nImputing row 6601/20590 with 0 missing, elapsed time: 1646.723\nImputing row 6701/20590 with 0 missing, elapsed time: 1646.727\nImputing row 6801/20590 with 0 missing, elapsed time: 1646.727\nImputing row 6901/20590 with 2 missing, elapsed time: 1646.730\nImputing row 7001/20590 with 0 missing, elapsed time: 1646.734\nImputing row 7101/20590 with 0 missing, elapsed time: 1646.734\nImputing row 7201/20590 with 0 missing, elapsed time: 1646.738\nImputing row 7301/20590 with 0 missing, elapsed time: 1646.738\nImputing row 7401/20590 with 0 missing, elapsed time: 1646.738\nImputing row 7501/20590 with 0 missing, elapsed time: 1646.738\nImputing row 7601/20590 with 0 missing, elapsed time: 1646.742\nImputing row 7701/20590 with 0 missing, elapsed time: 1646.742\nImputing row 7801/20590 with 0 missing, elapsed time: 1646.742\nImputing row 7901/20590 with 0 missing, elapsed time: 1646.746\nImputing row 8001/20590 with 0 missing, elapsed time: 1646.746\nImputing row 8101/20590 with 0 missing, elapsed time: 1646.746\nImputing row 8201/20590 with 0 missing, elapsed time: 1646.750\nImputing row 8301/20590 with 0 missing, elapsed time: 1646.750\nImputing row 8401/20590 with 0 missing, elapsed time: 1646.750\nImputing row 8501/20590 with 0 missing, elapsed time: 1646.754\nImputing row 8601/20590 with 0 missing, elapsed time: 1646.754\nImputing row 8701/20590 with 0 missing, elapsed time: 1646.754\nImputing row 8801/20590 with 0 missing, elapsed time: 1646.754\nImputing row 8901/20590 with 0 missing, elapsed time: 1646.758\nImputing row 9001/20590 with 0 missing, elapsed time: 1646.758\nImputing row 9101/20590 with 0 missing, elapsed time: 1646.758\nImputing row 9201/20590 with 0 missing, elapsed time: 1646.762\nImputing row 9301/20590 with 0 missing, elapsed time: 1646.762\nImputing row 9401/20590 with 0 missing, elapsed time: 1646.762\nImputing row 9501/20590 with 0 missing, elapsed time: 1646.762\nImputing row 9601/20590 with 0 missing, elapsed time: 1646.766\nImputing row 9701/20590 with 0 missing, elapsed time: 1646.766\nImputing row 9801/20590 with 0 missing, elapsed time: 1646.766\nImputing row 9901/20590 with 0 missing, elapsed time: 1646.770\nImputing row 10001/20590 with 0 missing, elapsed time: 1646.770\nImputing row 10101/20590 with 0 missing, elapsed time: 1646.770\nImputing row 10201/20590 with 0 missing, elapsed time: 1646.773\nImputing row 10301/20590 with 0 missing, elapsed time: 1646.773\nImputing row 10401/20590 with 0 missing, elapsed time: 1646.773\nImputing row 10501/20590 with 0 missing, elapsed time: 1646.777\nImputing row 10601/20590 with 0 missing, elapsed time: 1646.781\nImputing row 10701/20590 with 0 missing, elapsed time: 1646.781\nImputing row 10801/20590 with 0 missing, elapsed time: 1646.781\nImputing row 10901/20590 with 0 missing, elapsed time: 1646.785\nImputing row 11001/20590 with 0 missing, elapsed time: 1646.785\nImputing row 11101/20590 with 0 missing, elapsed time: 1646.785\nImputing row 11201/20590 with 0 missing, elapsed time: 1646.789\nImputing row 11301/20590 with 0 missing, elapsed time: 1646.789\nImputing row 11401/20590 with 0 missing, elapsed time: 1646.789\nImputing row 11501/20590 with 0 missing, elapsed time: 1646.789\nImputing row 11601/20590 with 0 missing, elapsed time: 1646.793\nImputing row 11701/20590 with 0 missing, elapsed time: 1646.793\nImputing row 11801/20590 with 0 missing, elapsed time: 1646.793\nImputing row 11901/20590 with 0 missing, elapsed time: 1646.797\nImputing row 12001/20590 with 0 missing, elapsed time: 1646.797\nImputing row 12101/20590 with 0 missing, elapsed time: 1646.797\nImputing row 12201/20590 with 0 missing, elapsed time: 1646.797\nImputing row 12301/20590 with 0 missing, elapsed time: 1646.801\nImputing row 12401/20590 with 0 missing, elapsed time: 1646.801\nImputing row 12501/20590 with 0 missing, elapsed time: 1646.801\nImputing row 12601/20590 with 0 missing, elapsed time: 1646.805\nImputing row 12701/20590 with 0 missing, elapsed time: 1646.805\nImputing row 12801/20590 with 0 missing, elapsed time: 1646.805\nImputing row 12901/20590 with 0 missing, elapsed time: 1646.805\nImputing row 13001/20590 with 0 missing, elapsed time: 1646.809\nImputing row 13101/20590 with 0 missing, elapsed time: 1646.809\nImputing row 13201/20590 with 0 missing, elapsed time: 1646.809\nImputing row 13301/20590 with 0 missing, elapsed time: 1646.812\nImputing row 13401/20590 with 0 missing, elapsed time: 1646.812\nImputing row 13501/20590 with 0 missing, elapsed time: 1646.812\nImputing row 13601/20590 with 0 missing, elapsed time: 1646.816\nImputing row 13701/20590 with 0 missing, elapsed time: 1646.816\nImputing row 13801/20590 with 0 missing, elapsed time: 1646.816\nImputing row 13901/20590 with 0 missing, elapsed time: 1646.820\nImputing row 14001/20590 with 0 missing, elapsed time: 1646.820\nImputing row 14101/20590 with 0 missing, elapsed time: 1646.820\nImputing row 14201/20590 with 0 missing, elapsed time: 1646.824\nImputing row 14301/20590 with 0 missing, elapsed time: 1646.824\nImputing row 14401/20590 with 0 missing, elapsed time: 1646.824\nImputing row 14501/20590 with 0 missing, elapsed time: 1646.828\nImputing row 14601/20590 with 0 missing, elapsed time: 1646.828\nImputing row 14701/20590 with 2 missing, elapsed time: 1646.828\nImputing row 14801/20590 with 0 missing, elapsed time: 1646.832\nImputing row 14901/20590 with 0 missing, elapsed time: 1646.836\nImputing row 15001/20590 with 0 missing, elapsed time: 1646.836\nImputing row 15101/20590 with 0 missing, elapsed time: 1646.840\nImputing row 15201/20590 with 0 missing, elapsed time: 1646.840\nImputing row 15301/20590 with 0 missing, elapsed time: 1646.840\nImputing row 15401/20590 with 0 missing, elapsed time: 1646.844\nImputing row 15501/20590 with 0 missing, elapsed time: 1646.844\nImputing row 15601/20590 with 0 missing, elapsed time: 1646.844\n"
        },
        {
          "name": "stdout",
          "output_type": "stream",
          "text": "Imputing row 15701/20590 with 0 missing, elapsed time: 1646.848\nImputing row 15801/20590 with 0 missing, elapsed time: 1646.852\nImputing row 15901/20590 with 0 missing, elapsed time: 1646.852\nImputing row 16001/20590 with 0 missing, elapsed time: 1646.855\nImputing row 16101/20590 with 0 missing, elapsed time: 1646.855\nImputing row 16201/20590 with 0 missing, elapsed time: 1646.855\nImputing row 16301/20590 with 0 missing, elapsed time: 1646.859\nImputing row 16401/20590 with 0 missing, elapsed time: 1646.859\nImputing row 16501/20590 with 0 missing, elapsed time: 1646.859\nImputing row 16601/20590 with 0 missing, elapsed time: 1646.863\nImputing row 16701/20590 with 0 missing, elapsed time: 1646.863\nImputing row 16801/20590 with 0 missing, elapsed time: 1646.863\nImputing row 16901/20590 with 0 missing, elapsed time: 1646.867\nImputing row 17001/20590 with 0 missing, elapsed time: 1646.867\nImputing row 17101/20590 with 0 missing, elapsed time: 1646.871\nImputing row 17201/20590 with 0 missing, elapsed time: 1646.871\nImputing row 17301/20590 with 0 missing, elapsed time: 1646.871\nImputing row 17401/20590 with 0 missing, elapsed time: 1646.875\nImputing row 17501/20590 with 0 missing, elapsed time: 1646.875\nImputing row 17601/20590 with 0 missing, elapsed time: 1646.879\nImputing row 17701/20590 with 0 missing, elapsed time: 1646.879\nImputing row 17801/20590 with 0 missing, elapsed time: 1646.879\nImputing row 17901/20590 with 0 missing, elapsed time: 1646.883\nImputing row 18001/20590 with 0 missing, elapsed time: 1646.887\nImputing row 18101/20590 with 0 missing, elapsed time: 1646.887\nImputing row 18201/20590 with 0 missing, elapsed time: 1646.891\nImputing row 18301/20590 with 0 missing, elapsed time: 1646.895\nImputing row 18401/20590 with 0 missing, elapsed time: 1646.895\nImputing row 18501/20590 with 0 missing, elapsed time: 1646.898\nImputing row 18601/20590 with 0 missing, elapsed time: 1646.898\nImputing row 18701/20590 with 0 missing, elapsed time: 1646.902\nImputing row 18801/20590 with 0 missing, elapsed time: 1646.902\nImputing row 18901/20590 with 0 missing, elapsed time: 1646.906\nImputing row 19001/20590 with 0 missing, elapsed time: 1646.906\nImputing row 19101/20590 with 0 missing, elapsed time: 1646.910\nImputing row 19201/20590 with 0 missing, elapsed time: 1646.910\nImputing row 19301/20590 with 0 missing, elapsed time: 1646.914\nImputing row 19401/20590 with 0 missing, elapsed time: 1646.914\nImputing row 19501/20590 with 0 missing, elapsed time: 1646.914\nImputing row 19601/20590 with 0 missing, elapsed time: 1646.918\nImputing row 19701/20590 with 0 missing, elapsed time: 1646.918\nImputing row 19801/20590 with 0 missing, elapsed time: 1646.918\nImputing row 19901/20590 with 0 missing, elapsed time: 1646.918\nImputing row 20001/20590 with 0 missing, elapsed time: 1646.922\nImputing row 20101/20590 with 0 missing, elapsed time: 1646.922\nImputing row 20201/20590 with 0 missing, elapsed time: 1646.922\nImputing row 20301/20590 with 0 missing, elapsed time: 1646.922\nImputing row 20401/20590 with 0 missing, elapsed time: 1646.926\nImputing row 20501/20590 with 0 missing, elapsed time: 1646.926\n"
        },
        {
          "name": "stderr",
          "output_type": "stream",
          "text": "D:\\Games\\Anaconda\\lib\\site-packages\\sklearn\\preprocessing\\data.py:323: DataConversionWarning: Data with input dtype int64, float64 were all converted to float64 by MinMaxScaler.\n  return self.partial_fit(X, y)\n"
        },
        {
          "name": "stdout",
          "output_type": "stream",
          "text": "Imputing row 1/20507 with 0 missing, elapsed time: 1595.419\nImputing row 101/20507 with 0 missing, elapsed time: 1595.419\nImputing row 201/20507 with 0 missing, elapsed time: 1595.427\nImputing row 301/20507 with 0 missing, elapsed time: 1595.427\nImputing row 401/20507 with 0 missing, elapsed time: 1595.427\nImputing row 501/20507 with 0 missing, elapsed time: 1595.427\nImputing row 601/20507 with 0 missing, elapsed time: 1595.435\nImputing row 701/20507 with 0 missing, elapsed time: 1595.435\nImputing row 801/20507 with 0 missing, elapsed time: 1595.435\nImputing row 901/20507 with 0 missing, elapsed time: 1595.435\nImputing row 1001/20507 with 0 missing, elapsed time: 1595.442\nImputing row 1101/20507 with 0 missing, elapsed time: 1595.442\nImputing row 1201/20507 with 0 missing, elapsed time: 1595.442\nImputing row 1301/20507 with 0 missing, elapsed time: 1595.442\nImputing row 1401/20507 with 0 missing, elapsed time: 1595.442\nImputing row 1501/20507 with 0 missing, elapsed time: 1595.442\nImputing row 1601/20507 with 0 missing, elapsed time: 1595.450\nImputing row 1701/20507 with 0 missing, elapsed time: 1595.450\nImputing row 1801/20507 with 0 missing, elapsed time: 1595.450\nImputing row 1901/20507 with 0 missing, elapsed time: 1595.458\nImputing row 2001/20507 with 0 missing, elapsed time: 1595.458\nImputing row 2101/20507 with 0 missing, elapsed time: 1595.458\nImputing row 2201/20507 with 0 missing, elapsed time: 1595.458\nImputing row 2301/20507 with 0 missing, elapsed time: 1595.458\nImputing row 2401/20507 with 0 missing, elapsed time: 1595.466\nImputing row 2501/20507 with 2 missing, elapsed time: 1595.466\nImputing row 2601/20507 with 2 missing, elapsed time: 1595.474\nImputing row 2701/20507 with 2 missing, elapsed time: 1595.481\nImputing row 2801/20507 with 2 missing, elapsed time: 1595.489\nImputing row 2901/20507 with 2 missing, elapsed time: 1595.505\nImputing row 3001/20507 with 2 missing, elapsed time: 1595.513\nImputing row 3101/20507 with 0 missing, elapsed time: 1595.521\nImputing row 3201/20507 with 0 missing, elapsed time: 1595.528\nImputing row 3301/20507 with 0 missing, elapsed time: 1595.528\nImputing row 3401/20507 with 0 missing, elapsed time: 1595.528\nImputing row 3501/20507 with 2 missing, elapsed time: 1595.528\nImputing row 3601/20507 with 0 missing, elapsed time: 1595.536\nImputing row 3701/20507 with 0 missing, elapsed time: 1595.536\nImputing row 3801/20507 with 0 missing, elapsed time: 1595.536\nImputing row 3901/20507 with 0 missing, elapsed time: 1595.544\nImputing row 4001/20507 with 0 missing, elapsed time: 1595.544\nImputing row 4101/20507 with 2 missing, elapsed time: 1595.552\nImputing row 4201/20507 with 0 missing, elapsed time: 1595.552\nImputing row 4301/20507 with 0 missing, elapsed time: 1595.552\nImputing row 4401/20507 with 0 missing, elapsed time: 1595.560\nImputing row 4501/20507 with 0 missing, elapsed time: 1595.560\nImputing row 4601/20507 with 0 missing, elapsed time: 1595.560\nImputing row 4701/20507 with 2 missing, elapsed time: 1595.560\nImputing row 4801/20507 with 0 missing, elapsed time: 1595.567\nImputing row 4901/20507 with 0 missing, elapsed time: 1595.567\nImputing row 5001/20507 with 0 missing, elapsed time: 1595.567\nImputing row 5101/20507 with 0 missing, elapsed time: 1595.567\nImputing row 5201/20507 with 0 missing, elapsed time: 1595.567\nImputing row 5301/20507 with 0 missing, elapsed time: 1595.575\nImputing row 5401/20507 with 0 missing, elapsed time: 1595.575\nImputing row 5501/20507 with 0 missing, elapsed time: 1595.575\nImputing row 5601/20507 with 0 missing, elapsed time: 1595.575\nImputing row 5701/20507 with 0 missing, elapsed time: 1595.583\nImputing row 5801/20507 with 0 missing, elapsed time: 1595.583\nImputing row 5901/20507 with 0 missing, elapsed time: 1595.583\nImputing row 6001/20507 with 0 missing, elapsed time: 1595.583\nImputing row 6101/20507 with 0 missing, elapsed time: 1595.591\nImputing row 6201/20507 with 2 missing, elapsed time: 1595.599\nImputing row 6301/20507 with 0 missing, elapsed time: 1595.599\nImputing row 6401/20507 with 0 missing, elapsed time: 1595.599\nImputing row 6501/20507 with 0 missing, elapsed time: 1595.599\nImputing row 6601/20507 with 0 missing, elapsed time: 1595.599\nImputing row 6701/20507 with 0 missing, elapsed time: 1595.606\nImputing row 6801/20507 with 0 missing, elapsed time: 1595.606\nImputing row 6901/20507 with 0 missing, elapsed time: 1595.614\nImputing row 7001/20507 with 0 missing, elapsed time: 1595.622\nImputing row 7101/20507 with 0 missing, elapsed time: 1595.630\nImputing row 7201/20507 with 0 missing, elapsed time: 1595.630\nImputing row 7301/20507 with 0 missing, elapsed time: 1595.630\nImputing row 7401/20507 with 0 missing, elapsed time: 1595.638\nImputing row 7501/20507 with 2 missing, elapsed time: 1595.646\nImputing row 7601/20507 with 0 missing, elapsed time: 1595.646\nImputing row 7701/20507 with 0 missing, elapsed time: 1595.646\nImputing row 7801/20507 with 0 missing, elapsed time: 1595.646\nImputing row 7901/20507 with 0 missing, elapsed time: 1595.653\nImputing row 8001/20507 with 0 missing, elapsed time: 1595.653\nImputing row 8101/20507 with 0 missing, elapsed time: 1595.653\nImputing row 8201/20507 with 2 missing, elapsed time: 1595.661\nImputing row 8301/20507 with 0 missing, elapsed time: 1595.661\nImputing row 8401/20507 with 0 missing, elapsed time: 1595.669\nImputing row 8501/20507 with 0 missing, elapsed time: 1595.669\nImputing row 8601/20507 with 0 missing, elapsed time: 1595.669\nImputing row 8701/20507 with 0 missing, elapsed time: 1595.677\nImputing row 8801/20507 with 0 missing, elapsed time: 1595.677\nImputing row 8901/20507 with 0 missing, elapsed time: 1595.677\nImputing row 9001/20507 with 0 missing, elapsed time: 1595.677\nImputing row 9101/20507 with 0 missing, elapsed time: 1595.677\nImputing row 9201/20507 with 0 missing, elapsed time: 1595.677\nImputing row 9301/20507 with 0 missing, elapsed time: 1595.685\nImputing row 9401/20507 with 0 missing, elapsed time: 1595.685\nImputing row 9501/20507 with 0 missing, elapsed time: 1595.685\nImputing row 9601/20507 with 0 missing, elapsed time: 1595.692\nImputing row 9701/20507 with 0 missing, elapsed time: 1595.692\nImputing row 9801/20507 with 0 missing, elapsed time: 1595.692\nImputing row 9901/20507 with 0 missing, elapsed time: 1595.692\nImputing row 10001/20507 with 0 missing, elapsed time: 1595.692\nImputing row 10101/20507 with 0 missing, elapsed time: 1595.700\nImputing row 10201/20507 with 0 missing, elapsed time: 1595.700\nImputing row 10301/20507 with 0 missing, elapsed time: 1595.700\nImputing row 10401/20507 with 0 missing, elapsed time: 1595.708\nImputing row 10501/20507 with 0 missing, elapsed time: 1595.716\nImputing row 10601/20507 with 0 missing, elapsed time: 1595.716\nImputing row 10701/20507 with 0 missing, elapsed time: 1595.716\nImputing row 10801/20507 with 0 missing, elapsed time: 1595.716\nImputing row 10901/20507 with 0 missing, elapsed time: 1595.724\nImputing row 11001/20507 with 0 missing, elapsed time: 1595.731\nImputing row 11101/20507 with 0 missing, elapsed time: 1595.739\nImputing row 11201/20507 with 0 missing, elapsed time: 1595.739\nImputing row 11301/20507 with 0 missing, elapsed time: 1595.747\nImputing row 11401/20507 with 0 missing, elapsed time: 1595.747\nImputing row 11501/20507 with 0 missing, elapsed time: 1595.747\nImputing row 11601/20507 with 0 missing, elapsed time: 1595.747\nImputing row 11701/20507 with 0 missing, elapsed time: 1595.755\nImputing row 11801/20507 with 0 missing, elapsed time: 1595.755\nImputing row 11901/20507 with 0 missing, elapsed time: 1595.763\nImputing row 12001/20507 with 0 missing, elapsed time: 1595.763\nImputing row 12101/20507 with 0 missing, elapsed time: 1595.771\nImputing row 12201/20507 with 0 missing, elapsed time: 1595.771\nImputing row 12301/20507 with 0 missing, elapsed time: 1595.771\nImputing row 12401/20507 with 0 missing, elapsed time: 1595.771\nImputing row 12501/20507 with 0 missing, elapsed time: 1595.771\nImputing row 12601/20507 with 0 missing, elapsed time: 1595.778\nImputing row 12701/20507 with 0 missing, elapsed time: 1595.786\nImputing row 12801/20507 with 0 missing, elapsed time: 1595.786\nImputing row 12901/20507 with 0 missing, elapsed time: 1595.794\nImputing row 13001/20507 with 0 missing, elapsed time: 1595.802\nImputing row 13101/20507 with 0 missing, elapsed time: 1595.810\nImputing row 13201/20507 with 0 missing, elapsed time: 1595.810\nImputing row 13301/20507 with 0 missing, elapsed time: 1595.817\n"
        },
        {
          "name": "stdout",
          "output_type": "stream",
          "text": "Imputing row 13401/20507 with 0 missing, elapsed time: 1595.833\nImputing row 13501/20507 with 2 missing, elapsed time: 1595.833\nImputing row 13601/20507 with 2 missing, elapsed time: 1595.841\nImputing row 13701/20507 with 0 missing, elapsed time: 1595.849\nImputing row 13801/20507 with 0 missing, elapsed time: 1595.856\nImputing row 13901/20507 with 0 missing, elapsed time: 1595.856\nImputing row 14001/20507 with 0 missing, elapsed time: 1595.856\nImputing row 14101/20507 with 0 missing, elapsed time: 1595.864\nImputing row 14201/20507 with 0 missing, elapsed time: 1595.864\nImputing row 14301/20507 with 0 missing, elapsed time: 1595.864\nImputing row 14401/20507 with 0 missing, elapsed time: 1595.864\nImputing row 14501/20507 with 0 missing, elapsed time: 1595.864\nImputing row 14601/20507 with 0 missing, elapsed time: 1595.872\nImputing row 14701/20507 with 0 missing, elapsed time: 1595.872\nImputing row 14801/20507 with 0 missing, elapsed time: 1595.880\nImputing row 14901/20507 with 0 missing, elapsed time: 1595.880\nImputing row 15001/20507 with 2 missing, elapsed time: 1595.888\nImputing row 15101/20507 with 0 missing, elapsed time: 1595.888\nImputing row 15201/20507 with 0 missing, elapsed time: 1595.888\nImputing row 15301/20507 with 0 missing, elapsed time: 1595.896\nImputing row 15401/20507 with 0 missing, elapsed time: 1595.896\nImputing row 15501/20507 with 0 missing, elapsed time: 1595.903\nImputing row 15601/20507 with 0 missing, elapsed time: 1595.911\nImputing row 15701/20507 with 2 missing, elapsed time: 1595.919\nImputing row 15801/20507 with 2 missing, elapsed time: 1595.927\nImputing row 15901/20507 with 0 missing, elapsed time: 1595.935\nImputing row 16001/20507 with 0 missing, elapsed time: 1595.942\nImputing row 16101/20507 with 2 missing, elapsed time: 1595.942\nImputing row 16201/20507 with 0 missing, elapsed time: 1595.950\nImputing row 16301/20507 with 0 missing, elapsed time: 1595.950\nImputing row 16401/20507 with 0 missing, elapsed time: 1595.950\nImputing row 16501/20507 with 0 missing, elapsed time: 1595.958\nImputing row 16601/20507 with 0 missing, elapsed time: 1595.958\nImputing row 16701/20507 with 0 missing, elapsed time: 1595.958\nImputing row 16801/20507 with 0 missing, elapsed time: 1595.958\nImputing row 16901/20507 with 0 missing, elapsed time: 1595.958\nImputing row 17001/20507 with 0 missing, elapsed time: 1595.958\nImputing row 17101/20507 with 0 missing, elapsed time: 1595.966\nImputing row 17201/20507 with 0 missing, elapsed time: 1595.966\nImputing row 17301/20507 with 0 missing, elapsed time: 1595.966\nImputing row 17401/20507 with 0 missing, elapsed time: 1595.966\nImputing row 17501/20507 with 0 missing, elapsed time: 1595.966\nImputing row 17601/20507 with 0 missing, elapsed time: 1595.966\nImputing row 17701/20507 with 0 missing, elapsed time: 1595.974\nImputing row 17801/20507 with 0 missing, elapsed time: 1595.981\nImputing row 17901/20507 with 2 missing, elapsed time: 1595.989\nImputing row 18001/20507 with 0 missing, elapsed time: 1595.989\nImputing row 18101/20507 with 0 missing, elapsed time: 1596.005\nImputing row 18201/20507 with 0 missing, elapsed time: 1596.005\nImputing row 18301/20507 with 0 missing, elapsed time: 1596.005\nImputing row 18401/20507 with 0 missing, elapsed time: 1596.013\nImputing row 18501/20507 with 2 missing, elapsed time: 1596.021\nImputing row 18601/20507 with 0 missing, elapsed time: 1596.036\nImputing row 18701/20507 with 0 missing, elapsed time: 1596.036\nImputing row 18801/20507 with 0 missing, elapsed time: 1596.044\nImputing row 18901/20507 with 0 missing, elapsed time: 1596.052\nImputing row 19001/20507 with 0 missing, elapsed time: 1596.060\nImputing row 19101/20507 with 0 missing, elapsed time: 1596.067\nImputing row 19201/20507 with 0 missing, elapsed time: 1596.083\nImputing row 19301/20507 with 0 missing, elapsed time: 1596.083\nImputing row 19401/20507 with 0 missing, elapsed time: 1596.083\nImputing row 19501/20507 with 2 missing, elapsed time: 1596.091\nImputing row 19601/20507 with 0 missing, elapsed time: 1596.099\nImputing row 19701/20507 with 0 missing, elapsed time: 1596.099\nImputing row 19801/20507 with 0 missing, elapsed time: 1596.106\nImputing row 19901/20507 with 0 missing, elapsed time: 1596.106\nImputing row 20001/20507 with 0 missing, elapsed time: 1596.106\nImputing row 20101/20507 with 0 missing, elapsed time: 1596.114\nImputing row 20201/20507 with 0 missing, elapsed time: 1596.114\nImputing row 20301/20507 with 0 missing, elapsed time: 1596.114\nImputing row 20401/20507 with 0 missing, elapsed time: 1596.122\nImputing row 20501/20507 with 0 missing, elapsed time: 1596.130\n"
        },
        {
          "name": "stderr",
          "output_type": "stream",
          "text": "D:\\Games\\Anaconda\\lib\\site-packages\\sklearn\\preprocessing\\data.py:323: DataConversionWarning: Data with input dtype int64, float64 were all converted to float64 by MinMaxScaler.\n  return self.partial_fit(X, y)\n"
        },
        {
          "name": "stdout",
          "output_type": "stream",
          "text": "Imputing row 1/17964 with 2 missing, elapsed time: 1199.960\nImputing row 101/17964 with 0 missing, elapsed time: 1199.976\nImputing row 201/17964 with 0 missing, elapsed time: 1199.991\nImputing row 301/17964 with 2 missing, elapsed time: 1199.991\nImputing row 401/17964 with 0 missing, elapsed time: 1200.007\nImputing row 501/17964 with 2 missing, elapsed time: 1200.007\nImputing row 601/17964 with 2 missing, elapsed time: 1200.022\nImputing row 701/17964 with 0 missing, elapsed time: 1200.038\nImputing row 801/17964 with 2 missing, elapsed time: 1200.054\nImputing row 901/17964 with 0 missing, elapsed time: 1200.054\nImputing row 1001/17964 with 2 missing, elapsed time: 1200.069\nImputing row 1101/17964 with 2 missing, elapsed time: 1200.069\nImputing row 1201/17964 with 2 missing, elapsed time: 1200.085\nImputing row 1301/17964 with 0 missing, elapsed time: 1200.101\nImputing row 1401/17964 with 2 missing, elapsed time: 1200.101\nImputing row 1501/17964 with 0 missing, elapsed time: 1200.116\nImputing row 1601/17964 with 0 missing, elapsed time: 1200.132\nImputing row 1701/17964 with 2 missing, elapsed time: 1200.147\nImputing row 1801/17964 with 2 missing, elapsed time: 1200.163\nImputing row 1901/17964 with 0 missing, elapsed time: 1200.179\nImputing row 2001/17964 with 0 missing, elapsed time: 1200.179\nImputing row 2101/17964 with 0 missing, elapsed time: 1200.194\nImputing row 2201/17964 with 0 missing, elapsed time: 1200.210\nImputing row 2301/17964 with 2 missing, elapsed time: 1200.210\nImputing row 2401/17964 with 2 missing, elapsed time: 1200.226\nImputing row 2501/17964 with 0 missing, elapsed time: 1200.257\nImputing row 2601/17964 with 2 missing, elapsed time: 1200.272\nImputing row 2701/17964 with 0 missing, elapsed time: 1200.288\nImputing row 2801/17964 with 2 missing, elapsed time: 1200.304\nImputing row 2901/17964 with 0 missing, elapsed time: 1200.304\nImputing row 3001/17964 with 0 missing, elapsed time: 1200.319\nImputing row 3101/17964 with 0 missing, elapsed time: 1200.319\nImputing row 3201/17964 with 0 missing, elapsed time: 1200.335\nImputing row 3301/17964 with 0 missing, elapsed time: 1200.351\nImputing row 3401/17964 with 0 missing, elapsed time: 1200.366\nImputing row 3501/17964 with 0 missing, elapsed time: 1200.366\nImputing row 3601/17964 with 0 missing, elapsed time: 1200.382\nImputing row 3701/17964 with 0 missing, elapsed time: 1200.397\nImputing row 3801/17964 with 0 missing, elapsed time: 1200.397\nImputing row 3901/17964 with 0 missing, elapsed time: 1200.413\nImputing row 4001/17964 with 0 missing, elapsed time: 1200.429\nImputing row 4101/17964 with 2 missing, elapsed time: 1200.444\nImputing row 4201/17964 with 0 missing, elapsed time: 1200.444\nImputing row 4301/17964 with 2 missing, elapsed time: 1200.460\nImputing row 4401/17964 with 2 missing, elapsed time: 1200.491\nImputing row 4501/17964 with 0 missing, elapsed time: 1200.491\nImputing row 4601/17964 with 2 missing, elapsed time: 1200.507\nImputing row 4701/17964 with 0 missing, elapsed time: 1200.507\nImputing row 4801/17964 with 0 missing, elapsed time: 1200.522\nImputing row 4901/17964 with 2 missing, elapsed time: 1200.538\nImputing row 5001/17964 with 0 missing, elapsed time: 1200.554\nImputing row 5101/17964 with 0 missing, elapsed time: 1200.554\nImputing row 5201/17964 with 0 missing, elapsed time: 1200.569\nImputing row 5301/17964 with 0 missing, elapsed time: 1200.585\nImputing row 5401/17964 with 0 missing, elapsed time: 1200.585\nImputing row 5501/17964 with 0 missing, elapsed time: 1200.601\nImputing row 5601/17964 with 0 missing, elapsed time: 1200.601\nImputing row 5701/17964 with 0 missing, elapsed time: 1200.616\nImputing row 5801/17964 with 2 missing, elapsed time: 1200.632\nImputing row 5901/17964 with 2 missing, elapsed time: 1200.647\nImputing row 6001/17964 with 2 missing, elapsed time: 1200.647\nImputing row 6101/17964 with 2 missing, elapsed time: 1200.663\nImputing row 6201/17964 with 0 missing, elapsed time: 1200.679\nImputing row 6301/17964 with 2 missing, elapsed time: 1200.694\nImputing row 6401/17964 with 0 missing, elapsed time: 1200.710\nImputing row 6501/17964 with 0 missing, elapsed time: 1200.741\nImputing row 6601/17964 with 2 missing, elapsed time: 1200.757\nImputing row 6701/17964 with 2 missing, elapsed time: 1200.772\nImputing row 6801/17964 with 2 missing, elapsed time: 1200.788\nImputing row 6901/17964 with 2 missing, elapsed time: 1200.804\nImputing row 7001/17964 with 0 missing, elapsed time: 1200.819\nImputing row 7101/17964 with 0 missing, elapsed time: 1200.835\nImputing row 7201/17964 with 0 missing, elapsed time: 1200.835\nImputing row 7301/17964 with 0 missing, elapsed time: 1200.851\nImputing row 7401/17964 with 0 missing, elapsed time: 1200.882\nImputing row 7501/17964 with 2 missing, elapsed time: 1200.897\nImputing row 7601/17964 with 2 missing, elapsed time: 1200.913\nImputing row 7701/17964 with 2 missing, elapsed time: 1200.929\nImputing row 7801/17964 with 0 missing, elapsed time: 1200.929\nImputing row 7901/17964 with 0 missing, elapsed time: 1200.944\nImputing row 8001/17964 with 0 missing, elapsed time: 1200.960\nImputing row 8101/17964 with 0 missing, elapsed time: 1200.976\nImputing row 8201/17964 with 0 missing, elapsed time: 1201.007\nImputing row 8301/17964 with 0 missing, elapsed time: 1201.022\nImputing row 8401/17964 with 0 missing, elapsed time: 1201.038\nImputing row 8501/17964 with 2 missing, elapsed time: 1201.054\nImputing row 8601/17964 with 2 missing, elapsed time: 1201.069\nImputing row 8701/17964 with 2 missing, elapsed time: 1201.085\nImputing row 8801/17964 with 0 missing, elapsed time: 1201.101\nImputing row 8901/17964 with 0 missing, elapsed time: 1201.101\nImputing row 9001/17964 with 2 missing, elapsed time: 1201.116\nImputing row 9101/17964 with 2 missing, elapsed time: 1201.116\nImputing row 9201/17964 with 2 missing, elapsed time: 1201.132\nImputing row 9301/17964 with 0 missing, elapsed time: 1201.147\nImputing row 9401/17964 with 2 missing, elapsed time: 1201.163\nImputing row 9501/17964 with 0 missing, elapsed time: 1201.179\nImputing row 9601/17964 with 2 missing, elapsed time: 1201.194\nImputing row 9701/17964 with 2 missing, elapsed time: 1201.210\nImputing row 9801/17964 with 2 missing, elapsed time: 1201.241\nImputing row 9901/17964 with 2 missing, elapsed time: 1201.241\nImputing row 10001/17964 with 0 missing, elapsed time: 1201.257\nImputing row 10101/17964 with 0 missing, elapsed time: 1201.272\nImputing row 10201/17964 with 2 missing, elapsed time: 1201.304\nImputing row 10301/17964 with 2 missing, elapsed time: 1201.319\nImputing row 10401/17964 with 0 missing, elapsed time: 1201.335\nImputing row 10501/17964 with 0 missing, elapsed time: 1201.351\nImputing row 10601/17964 with 0 missing, elapsed time: 1201.366\nImputing row 10701/17964 with 2 missing, elapsed time: 1201.382\nImputing row 10801/17964 with 2 missing, elapsed time: 1201.397\nImputing row 10901/17964 with 0 missing, elapsed time: 1201.413\nImputing row 11001/17964 with 2 missing, elapsed time: 1201.429\nImputing row 11101/17964 with 2 missing, elapsed time: 1201.444\nImputing row 11201/17964 with 2 missing, elapsed time: 1201.460\nImputing row 11301/17964 with 0 missing, elapsed time: 1201.476\nImputing row 11401/17964 with 2 missing, elapsed time: 1201.491\nImputing row 11501/17964 with 2 missing, elapsed time: 1201.491\nImputing row 11601/17964 with 2 missing, elapsed time: 1201.507\nImputing row 11701/17964 with 2 missing, elapsed time: 1201.538\nImputing row 11801/17964 with 0 missing, elapsed time: 1201.554\nImputing row 11901/17964 with 2 missing, elapsed time: 1201.569\nImputing row 12001/17964 with 2 missing, elapsed time: 1201.585\nImputing row 12101/17964 with 2 missing, elapsed time: 1201.601\nImputing row 12201/17964 with 2 missing, elapsed time: 1201.616\nImputing row 12301/17964 with 2 missing, elapsed time: 1201.647\nImputing row 12401/17964 with 2 missing, elapsed time: 1201.663\nImputing row 12501/17964 with 2 missing, elapsed time: 1201.694\nImputing row 12601/17964 with 2 missing, elapsed time: 1201.710\nImputing row 12701/17964 with 2 missing, elapsed time: 1201.726\nImputing row 12801/17964 with 0 missing, elapsed time: 1201.741\nImputing row 12901/17964 with 0 missing, elapsed time: 1201.757\nImputing row 13001/17964 with 0 missing, elapsed time: 1201.772\nImputing row 13101/17964 with 2 missing, elapsed time: 1201.788\n"
        },
        {
          "name": "stdout",
          "output_type": "stream",
          "text": "Imputing row 13201/17964 with 0 missing, elapsed time: 1201.804\nImputing row 13301/17964 with 0 missing, elapsed time: 1201.819\nImputing row 13401/17964 with 0 missing, elapsed time: 1201.835\nImputing row 13501/17964 with 2 missing, elapsed time: 1201.866\nImputing row 13601/17964 with 0 missing, elapsed time: 1201.882\nImputing row 13701/17964 with 2 missing, elapsed time: 1201.913\nImputing row 13801/17964 with 0 missing, elapsed time: 1201.929\nImputing row 13901/17964 with 0 missing, elapsed time: 1201.960\nImputing row 14001/17964 with 2 missing, elapsed time: 1201.976\nImputing row 14101/17964 with 2 missing, elapsed time: 1201.991\nImputing row 14201/17964 with 2 missing, elapsed time: 1202.022\nImputing row 14301/17964 with 2 missing, elapsed time: 1202.038\nImputing row 14401/17964 with 2 missing, elapsed time: 1202.069\nImputing row 14501/17964 with 2 missing, elapsed time: 1202.085\nImputing row 14601/17964 with 2 missing, elapsed time: 1202.101\nImputing row 14701/17964 with 2 missing, elapsed time: 1202.116\nImputing row 14801/17964 with 2 missing, elapsed time: 1202.132\nImputing row 14901/17964 with 2 missing, elapsed time: 1202.147\nImputing row 15001/17964 with 0 missing, elapsed time: 1202.163\nImputing row 15101/17964 with 2 missing, elapsed time: 1202.163\nImputing row 15201/17964 with 0 missing, elapsed time: 1202.179\nImputing row 15301/17964 with 0 missing, elapsed time: 1202.194\nImputing row 15401/17964 with 2 missing, elapsed time: 1202.210\nImputing row 15501/17964 with 0 missing, elapsed time: 1202.226\nImputing row 15601/17964 with 0 missing, elapsed time: 1202.241\nImputing row 15701/17964 with 2 missing, elapsed time: 1202.241\nImputing row 15801/17964 with 2 missing, elapsed time: 1202.257\nImputing row 15901/17964 with 2 missing, elapsed time: 1202.272\nImputing row 16001/17964 with 0 missing, elapsed time: 1202.304\nImputing row 16101/17964 with 2 missing, elapsed time: 1202.319\nImputing row 16201/17964 with 0 missing, elapsed time: 1202.335\nImputing row 16301/17964 with 0 missing, elapsed time: 1202.351\nImputing row 16401/17964 with 2 missing, elapsed time: 1202.382\nImputing row 16501/17964 with 0 missing, elapsed time: 1202.397\nImputing row 16601/17964 with 0 missing, elapsed time: 1202.413\nImputing row 16701/17964 with 2 missing, elapsed time: 1202.444\nImputing row 16801/17964 with 2 missing, elapsed time: 1202.460\nImputing row 16901/17964 with 2 missing, elapsed time: 1202.476\nImputing row 17001/17964 with 0 missing, elapsed time: 1202.507\nImputing row 17101/17964 with 2 missing, elapsed time: 1202.522\nImputing row 17201/17964 with 0 missing, elapsed time: 1202.538\nImputing row 17301/17964 with 0 missing, elapsed time: 1202.554\nImputing row 17401/17964 with 0 missing, elapsed time: 1202.569\nImputing row 17501/17964 with 2 missing, elapsed time: 1202.585\nImputing row 17601/17964 with 2 missing, elapsed time: 1202.601\nImputing row 17701/17964 with 2 missing, elapsed time: 1202.616\nImputing row 17801/17964 with 2 missing, elapsed time: 1202.647\nImputing row 17901/17964 with 0 missing, elapsed time: 1202.663\n"
        }
      ]
    },
    {
      "metadata": {
        "collapsed": true,
        "trusted": false
      },
      "cell_type": "code",
      "source": "# Drop the columns used for imputation only\nreal_estate.drop(['Population', 'Number_of_Incomes', 'Income_Per_Taxpayer', 'Income_Per_Resident'],\n                 axis = 1, inplace = True)",
      "execution_count": 72,
      "outputs": []
    },
    {
      "metadata": {},
      "cell_type": "markdown",
      "source": "## Machine Learning"
    },
    {
      "metadata": {},
      "cell_type": "markdown",
      "source": "There are a number of good algorithms we could use. Let us employ a couple and compare their performances. For this project, we settle for XGBoost (Gradient Bossted Trees), linear regression and an autoregressive model, as they do not need much tweaking and their usage is quite straightforward. As error metric, we will use root mean square error, as its unit is the same as that of the original data, which makes it easier to understand the magnitude of the error<br>\nWe predict the value of the total price, as this can be used for an estimate of the property tax, for instance<br>\nWe hold out 2014's data for making predictions"
    },
    {
      "metadata": {},
      "cell_type": "markdown",
      "source": "First of all, let us establish a baseline forecast, using the previous year's values as predictions"
    },
    {
      "metadata": {
        "collapsed": true,
        "trusted": false
      },
      "cell_type": "code",
      "source": "y2013 = real_estate.Total_Price[real_estate.Year == 2013]\ny2014 = real_estate.Total_Price[real_estate.Year == 2014]",
      "execution_count": 73,
      "outputs": []
    },
    {
      "metadata": {
        "scrolled": true,
        "trusted": false
      },
      "cell_type": "code",
      "source": "print(sqrt(mean_squared_error(y2013, y2014)))",
      "execution_count": 74,
      "outputs": [
        {
          "name": "stdout",
          "output_type": "stream",
          "text": "6425127.131284999\n"
        }
      ]
    },
    {
      "metadata": {},
      "cell_type": "markdown",
      "source": "While for the linear regression and the autoregressive model the data we have at this point is quite enough, this is not true for XGBoost.<br>\nSince we have a sort of a time series, we cannot use features from the same record to predict, as these will not be available at the time of the prediction. We need to use features from the previous records and we need to generate these features<br>\nWe have the transactions, price and area that we can use, but let us generate more<br>\nWe can group by:<br>\n1. single grouping: property type, municipality, district, province, region\n2. double grouping: property type and district, property type and province, property type and region"
    },
    {
      "metadata": {},
      "cell_type": "markdown",
      "source": "### Advanced Feature Engineering"
    },
    {
      "metadata": {
        "collapsed": true,
        "trusted": false
      },
      "cell_type": "code",
      "source": "# Single grouping\n# Generate total and mean number of transactions, total price, total area\n# Do not generate the mean price and area, as these will be non-weighted\nfor type_id in ['Property_Type', 'REFNIS', 'DSTR_REFNIS', 'PROV_REFNIS', 'RGN_REFNIS']:\n    for column_id, aggregator, aggtype in [('Total_Transactions', np.sum, 'sum'),\n                ('Total_Transactions', np.mean, 'avg'), ('Total_Price', np.sum, 'sum'),\n                ('Total_Area', np.sum, 'sum')]:\n        mean_df = real_estate[['Year', type_id, column_id]].groupby(['Year', type_id]).aggregate(aggregator).reset_index()\n        mean_df.columns = ['Year', type_id, type_id + '_' + aggtype + '_' + column_id]\n        real_estate = real_estate.merge(mean_df, on = ['Year', type_id], how = 'left')",
      "execution_count": 75,
      "outputs": []
    },
    {
      "metadata": {
        "collapsed": true,
        "trusted": false
      },
      "cell_type": "code",
      "source": "# Generate the weighted mean price and area\n# We might have no transactions for some groups, which will generate NaN values. Fill them with 0\nfor type_id in ['Property_Type', 'REFNIS', 'DSTR_REFNIS', 'PROV_REFNIS', 'RGN_REFNIS']:\n    for column_id in ['Total_Price', 'Total_Area']:\n        total_col = type_id + '_sum_' + column_id\n        trans_col = type_id + '_sum_Total_Transactions'\n        avg_col = type_id + '_avg_' + column_id\n        real_estate[avg_col] = real_estate[total_col] / real_estate[trans_col]\n        real_estate.loc[real_estate[trans_col] == 0, avg_col] = 0",
      "execution_count": 76,
      "outputs": []
    },
    {
      "metadata": {
        "collapsed": true,
        "trusted": false
      },
      "cell_type": "code",
      "source": "# Double grouping\n# Generate total and mean number of transactions, total price, total area\n# Do not generate the mean price and area, as these will be non-weighted\nfor type_id in [['Property_Type', 'DSTR_REFNIS'], ['Property_Type', 'PROV_REFNIS'],\n                ['Property_Type', 'RGN_REFNIS']]:\n    for column_id, aggregator, aggtype in [('Total_Transactions', np.sum, 'sum'),\n                ('Total_Transactions', np.mean, 'avg'), ('Total_Price', np.sum, 'sum'),\n                ('Total_Area', np.sum, 'sum')]:\n        mean_df = real_estate[['Year'] + type_id + [column_id]].groupby(['Year'] + type_id).aggregate(aggregator).reset_index()\n        mean_df.columns = ['Year'] + type_id + ['_'.join(type_id) + '_' + aggtype + '_' + column_id]\n        real_estate = real_estate.merge(mean_df, on = ['Year'] + type_id, how = 'left')",
      "execution_count": 77,
      "outputs": []
    },
    {
      "metadata": {
        "collapsed": true,
        "trusted": false
      },
      "cell_type": "code",
      "source": "# Generate the weighted mean price and area\n# We might have no transactions for some groups, which will generate NaN values. Fill them with 0\nfor type_id in [['Property_Type', 'DSTR_REFNIS'], ['Property_Type', 'PROV_REFNIS'],\n                ['Property_Type', 'RGN_REFNIS']]:\n    for column_id in ['Total_Price', 'Total_Area']:\n        total_col = '_'.join(type_id) + '_sum_' + column_id\n        trans_col = '_'.join(type_id) + '_sum_Total_Transactions'\n        avg_col = '_'.join(type_id) + '_avg_' + column_id\n        real_estate[avg_col] = real_estate[total_col] / real_estate[trans_col]\n        real_estate.loc[real_estate[trans_col] == 0, avg_col] = 0",
      "execution_count": 78,
      "outputs": []
    },
    {
      "metadata": {},
      "cell_type": "markdown",
      "source": "We have normal and aggregate values, we can generate lagged features (values for the same municipality and property type x years before, for example the number of transactions 1 year before). On top of that, we can generate lagged values for Is_Price_Imputed and Is_Area_Imputed, in order to inform the algorithm to rely less on such records"
    },
    {
      "metadata": {
        "collapsed": true,
        "trusted": false
      },
      "cell_type": "code",
      "source": "# Define the list of columns for which to create lags\ncols_for_lag = list(set(real_estate.columns) -\n                    set(['Year', 'Property_Type', 'REFNIS', 'DSTR_REFNIS', 'PROV_REFNIS', 'RGN_REFNIS',\n                         'Municipality_Name', 'Is_Area_Missing', 'Population', 'Total_Income',\n                         'Number_of_Incomes', 'Income_Per_Taxpayer', 'Income_Per_Resident']))",
      "execution_count": 79,
      "outputs": []
    },
    {
      "metadata": {
        "collapsed": true,
        "trusted": false
      },
      "cell_type": "code",
      "source": "# Generate lagged features for a lag of 1, 2, 3, 5 and 10 years\n#lags = [0, 1, 2, 3, 5, 10]\nlags = [0, 1, 2, 3, 4, 5, 6, 7, 8, 9, 10, 11, 12]\n#lags = [0, 1, 2, 3, 4]\n\nreal_estate_new_df = real_estate[['Year', 'Property_Type', 'REFNIS'] + cols_for_lag].copy()\n\nfor index in range(1, len(lags)):\n    col_names = [col + '_lag_' + str(lags[index]) for col in cols_for_lag]\n    real_estate_new_df['Year'] += (lags[index] - lags[index - 1])\n    real_estate_new_df.columns = ['Year', 'Property_Type', 'REFNIS'] + col_names\n    real_estate = real_estate.merge(real_estate_new_df, on = ['Year', 'Property_Type', 'REFNIS'],\n                                    how = 'left')",
      "execution_count": 80,
      "outputs": []
    },
    {
      "metadata": {},
      "cell_type": "markdown",
      "source": "We can also generate rolling features (aggregate values for the same municipality and property type for the previous x years, for example the total number of transactions for the previous 2 years)"
    },
    {
      "metadata": {
        "collapsed": true,
        "trusted": false
      },
      "cell_type": "code",
      "source": "# Define the list of columns for which to create rolls\n# Only the sums make sense, creating aggregate features for means is a little far fetched\ncols_for_rol = ['Total_Transactions', 'Total_Price', 'Total_Area'] + \\\n                [col for col in real_estate.columns if '_sum_' in col and '_lag_' not in col]\n# For transactions, we can compute the sum and and mean\n# For price and area, we can compute the sum, as the mean would be non-weighted\naggregations_trans = {'sum': np.sum, 'avg': np.mean}\naggregations_price_area = {'sum': np.sum}",
      "execution_count": 81,
      "outputs": []
    },
    {
      "metadata": {
        "collapsed": true,
        "trusted": false
      },
      "cell_type": "code",
      "source": "real_estate_new_df = real_estate[['Property_Type', 'REFNIS'] + cols_for_rol].copy()\ngrouped_sales = real_estate.groupby(['Property_Type', 'REFNIS'], sort = False)\n# We need to shift by 1, as the rolling function includes the current row\ngrouped_shifted_sales = grouped_sales[cols_for_rol].shift(1)",
      "execution_count": 82,
      "outputs": []
    },
    {
      "metadata": {
        "collapsed": true,
        "trusted": false
      },
      "cell_type": "code",
      "source": "# Generate rolled features for a roll of 2, 3, 4, 5 and 10 years\nrolls = [2, 3, 4, 5, 6, 7, 8, 9, 10, 11, 12]\n#rolls = [2, 3, 4]\n\nfor index in range(len(rolls)):\n    rolled_sales = grouped_shifted_sales.rolling(window = rolls[index])\n    agg_rolled_sales = rolled_sales.aggregate(list(aggregations_trans.values())).rename(columns = {'mean': 'avg'})\n    for col in cols_for_rol:\n        if '_Transactions' in col:\n            for key, value in aggregations_trans.items():\n                real_estate[col + '_' + key + '_rol_' + str(rolls[index])] = agg_rolled_sales[col][key]\n        else:\n            for key, value in aggregations_price_area.items():\n                real_estate[col + '_' + key + '_rol_' + str(rolls[index])] = agg_rolled_sales[col][key]",
      "execution_count": 83,
      "outputs": []
    },
    {
      "metadata": {
        "collapsed": true,
        "trusted": false
      },
      "cell_type": "code",
      "source": "# Generate the weighted mean price and area rolls\n# We might have no transactions for some rolls, which will generate NaN values when dividing. Fill them with 0\nfor col in [col for col in cols_for_rol if '_Transactions' not in col]:\n    for index in range(len(rolls)):\n        total_col = col + '_sum_rol_' + str(rolls[index])\n        trans_col = col[:col.find('_', -6)] + '_Transactions_sum_rol_' + str(rolls[index])\n        avg_col = col + '_avg_rol_' + str(rolls[index])\n        real_estate[avg_col] = real_estate[total_col] / real_estate[trans_col]\n        real_estate.loc[real_estate[trans_col] == 0, avg_col] = 0",
      "execution_count": 84,
      "outputs": []
    },
    {
      "metadata": {},
      "cell_type": "markdown",
      "source": "### XGBoost"
    },
    {
      "metadata": {},
      "cell_type": "markdown",
      "source": "Some records will contain NA values, since the lags and rolls cannot be computed for the oldest years. We need to drop these records, as they cannot be used for machine learning with XGBoost"
    },
    {
      "metadata": {
        "collapsed": true,
        "trusted": false
      },
      "cell_type": "code",
      "source": "real_estate_xgb = real_estate[real_estate.Year >= (1980 + np.max(rolls))]",
      "execution_count": 85,
      "outputs": []
    },
    {
      "metadata": {
        "trusted": false
      },
      "cell_type": "code",
      "source": "a = real_estate_xgb.isnull().sum()\na[a > 0]",
      "execution_count": 86,
      "outputs": [
        {
          "data": {
            "text/plain": "Series([], dtype: int64)"
          },
          "execution_count": 86,
          "metadata": {},
          "output_type": "execute_result"
        }
      ]
    },
    {
      "metadata": {
        "collapsed": true,
        "trusted": false
      },
      "cell_type": "code",
      "source": "# We cannot use most of the features for the same year, as such values are not available\n# for making predictions\nfeatures_to_exclude = [col for col in real_estate_xgb.columns if 'lag' not in col and 'rol' not in col\n                       and col not in ['Year', 'Property_Type', 'REFNIS', 'DSTR_REFNIS', 'PROV_REFNIS',\n                                       'RGN_REFNIS']]",
      "execution_count": 87,
      "outputs": []
    },
    {
      "metadata": {
        "collapsed": true,
        "trusted": false
      },
      "cell_type": "code",
      "source": "# We need to dummify the non-numeric columns, as XGBoost only works with numeric features\nX_train = real_estate_xgb.loc[real_estate.Year < 2014, [col for col in real_estate.columns\n                                                        if col not in features_to_exclude]]\nX_train = pd.get_dummies(X_train, columns = ['Property_Type', 'REFNIS', 'DSTR_REFNIS', 'PROV_REFNIS',\n                                             'RGN_REFNIS'],\n                            prefix = ['Prop', 'Mun', 'Dstr', 'Prov', 'Reg'])\ny_train = real_estate_xgb.Total_Price[real_estate.Year < 2014]",
      "execution_count": 88,
      "outputs": []
    },
    {
      "metadata": {
        "collapsed": true,
        "trusted": false
      },
      "cell_type": "code",
      "source": "X_test = real_estate_xgb.loc[real_estate.Year == 2014, [col for col in real_estate.columns\n                                                        if col not in features_to_exclude]]\nX_test = pd.get_dummies(X_test, columns = ['Property_Type', 'REFNIS', 'DSTR_REFNIS', 'PROV_REFNIS',\n                                           'RGN_REFNIS'],\n                            prefix = ['Prop', 'Mun', 'Dstr', 'Prov', 'Reg'])\ny_test = real_estate_xgb.Total_Price[real_estate.Year == 2014]",
      "execution_count": 89,
      "outputs": []
    },
    {
      "metadata": {
        "trusted": false
      },
      "cell_type": "code",
      "source": "# Fit the model\nmodel = XGBRegressor(n_estimators = 100, random_state = 0, n_jobs = 8)\nmodel.fit(X_train, y_train, eval_set = [(X_train, y_train), (X_test, y_test)])",
      "execution_count": 90,
      "outputs": [
        {
          "name": "stderr",
          "output_type": "stream",
          "text": "D:\\Games\\Anaconda\\lib\\site-packages\\xgboost\\core.py:587: FutureWarning: Series.base is deprecated and will be removed in a future version\n  if getattr(data, 'base', None) is not None and \\\n"
        },
        {
          "name": "stdout",
          "output_type": "stream",
          "text": "[0]\tvalidation_0-rmse:2.0787e+07\tvalidation_1-rmse:3.76775e+07\n[1]\tvalidation_0-rmse:1.88889e+07\tvalidation_1-rmse:3.46592e+07\n[2]\tvalidation_0-rmse:1.71771e+07\tvalidation_1-rmse:3.19196e+07\n[3]\tvalidation_0-rmse:1.56162e+07\tvalidation_1-rmse:2.9412e+07\n[4]\tvalidation_0-rmse:1.42218e+07\tvalidation_1-rmse:2.72646e+07\n[5]\tvalidation_0-rmse:1.29577e+07\tvalidation_1-rmse:2.52875e+07\n[6]\tvalidation_0-rmse:1.1824e+07\tvalidation_1-rmse:2.34296e+07\n[7]\tvalidation_0-rmse:1.0802e+07\tvalidation_1-rmse:2.18643e+07\n[8]\tvalidation_0-rmse:9.8863e+06\tvalidation_1-rmse:2.03855e+07\n[9]\tvalidation_0-rmse:9.06492e+06\tvalidation_1-rmse:1.90086e+07\n[10]\tvalidation_0-rmse:8.3282e+06\tvalidation_1-rmse:1.78211e+07\n[11]\tvalidation_0-rmse:7.65823e+06\tvalidation_1-rmse:1.67595e+07\n[12]\tvalidation_0-rmse:7.0687e+06\tvalidation_1-rmse:1.57659e+07\n[13]\tvalidation_0-rmse:6.53776e+06\tvalidation_1-rmse:1.48564e+07\n[14]\tvalidation_0-rmse:6.06956e+06\tvalidation_1-rmse:1.40389e+07\n[15]\tvalidation_0-rmse:5.64953e+06\tvalidation_1-rmse:1.33023e+07\n[16]\tvalidation_0-rmse:5.27695e+06\tvalidation_1-rmse:1.26317e+07\n[17]\tvalidation_0-rmse:4.95045e+06\tvalidation_1-rmse:1.20971e+07\n[18]\tvalidation_0-rmse:4.65803e+06\tvalidation_1-rmse:1.16239e+07\n[19]\tvalidation_0-rmse:4.40375e+06\tvalidation_1-rmse:1.11627e+07\n[20]\tvalidation_0-rmse:4.17824e+06\tvalidation_1-rmse:1.07761e+07\n[21]\tvalidation_0-rmse:3.98687e+06\tvalidation_1-rmse:1.0421e+07\n[22]\tvalidation_0-rmse:3.81857e+06\tvalidation_1-rmse:1.00601e+07\n[23]\tvalidation_0-rmse:3.67431e+06\tvalidation_1-rmse:9.70594e+06\n[24]\tvalidation_0-rmse:3.54297e+06\tvalidation_1-rmse:9.4166e+06\n[25]\tvalidation_0-rmse:3.43109e+06\tvalidation_1-rmse:9.14421e+06\n[26]\tvalidation_0-rmse:3.32828e+06\tvalidation_1-rmse:8.91181e+06\n[27]\tvalidation_0-rmse:3.23927e+06\tvalidation_1-rmse:8.72931e+06\n[28]\tvalidation_0-rmse:3.16219e+06\tvalidation_1-rmse:8.53885e+06\n[29]\tvalidation_0-rmse:3.09507e+06\tvalidation_1-rmse:8.33448e+06\n[30]\tvalidation_0-rmse:3.03562e+06\tvalidation_1-rmse:8.20011e+06\n[31]\tvalidation_0-rmse:2.98466e+06\tvalidation_1-rmse:8.07117e+06\n[32]\tvalidation_0-rmse:2.9361e+06\tvalidation_1-rmse:7.94615e+06\n[33]\tvalidation_0-rmse:2.89499e+06\tvalidation_1-rmse:7.82868e+06\n[34]\tvalidation_0-rmse:2.85804e+06\tvalidation_1-rmse:7.78998e+06\n[35]\tvalidation_0-rmse:2.82117e+06\tvalidation_1-rmse:7.74717e+06\n[36]\tvalidation_0-rmse:2.79321e+06\tvalidation_1-rmse:7.63598e+06\n[37]\tvalidation_0-rmse:2.76641e+06\tvalidation_1-rmse:7.54226e+06\n[38]\tvalidation_0-rmse:2.74074e+06\tvalidation_1-rmse:7.47425e+06\n[39]\tvalidation_0-rmse:2.71711e+06\tvalidation_1-rmse:7.43017e+06\n[40]\tvalidation_0-rmse:2.68935e+06\tvalidation_1-rmse:7.39399e+06\n[41]\tvalidation_0-rmse:2.67187e+06\tvalidation_1-rmse:7.37642e+06\n[42]\tvalidation_0-rmse:2.6567e+06\tvalidation_1-rmse:7.29543e+06\n[43]\tvalidation_0-rmse:2.63969e+06\tvalidation_1-rmse:7.24453e+06\n[44]\tvalidation_0-rmse:2.62727e+06\tvalidation_1-rmse:7.20235e+06\n[45]\tvalidation_0-rmse:2.61355e+06\tvalidation_1-rmse:7.20589e+06\n[46]\tvalidation_0-rmse:2.60403e+06\tvalidation_1-rmse:7.14982e+06\n[47]\tvalidation_0-rmse:2.58874e+06\tvalidation_1-rmse:7.11301e+06\n[48]\tvalidation_0-rmse:2.57974e+06\tvalidation_1-rmse:7.07141e+06\n[49]\tvalidation_0-rmse:2.56914e+06\tvalidation_1-rmse:7.07199e+06\n[50]\tvalidation_0-rmse:2.56271e+06\tvalidation_1-rmse:7.03108e+06\n[51]\tvalidation_0-rmse:2.55518e+06\tvalidation_1-rmse:7.00631e+06\n[52]\tvalidation_0-rmse:2.5437e+06\tvalidation_1-rmse:6.98965e+06\n[53]\tvalidation_0-rmse:2.53683e+06\tvalidation_1-rmse:6.94584e+06\n[54]\tvalidation_0-rmse:2.52247e+06\tvalidation_1-rmse:6.94768e+06\n[55]\tvalidation_0-rmse:2.51437e+06\tvalidation_1-rmse:6.94512e+06\n[56]\tvalidation_0-rmse:2.50976e+06\tvalidation_1-rmse:6.90719e+06\n[57]\tvalidation_0-rmse:2.50355e+06\tvalidation_1-rmse:6.88568e+06\n[58]\tvalidation_0-rmse:2.49392e+06\tvalidation_1-rmse:6.87951e+06\n[59]\tvalidation_0-rmse:2.48005e+06\tvalidation_1-rmse:6.87603e+06\n[60]\tvalidation_0-rmse:2.47376e+06\tvalidation_1-rmse:6.88382e+06\n[61]\tvalidation_0-rmse:2.46931e+06\tvalidation_1-rmse:6.84278e+06\n[62]\tvalidation_0-rmse:2.46547e+06\tvalidation_1-rmse:6.84014e+06\n[63]\tvalidation_0-rmse:2.45546e+06\tvalidation_1-rmse:6.84261e+06\n[64]\tvalidation_0-rmse:2.45192e+06\tvalidation_1-rmse:6.80323e+06\n[65]\tvalidation_0-rmse:2.44802e+06\tvalidation_1-rmse:6.77012e+06\n[66]\tvalidation_0-rmse:2.43985e+06\tvalidation_1-rmse:6.78005e+06\n[67]\tvalidation_0-rmse:2.43578e+06\tvalidation_1-rmse:6.76043e+06\n[68]\tvalidation_0-rmse:2.42896e+06\tvalidation_1-rmse:6.75744e+06\n[69]\tvalidation_0-rmse:2.42402e+06\tvalidation_1-rmse:6.74514e+06\n[70]\tvalidation_0-rmse:2.41954e+06\tvalidation_1-rmse:6.72896e+06\n[71]\tvalidation_0-rmse:2.41396e+06\tvalidation_1-rmse:6.73088e+06\n[72]\tvalidation_0-rmse:2.40926e+06\tvalidation_1-rmse:6.71258e+06\n[73]\tvalidation_0-rmse:2.40365e+06\tvalidation_1-rmse:6.68789e+06\n[74]\tvalidation_0-rmse:2.40062e+06\tvalidation_1-rmse:6.69198e+06\n[75]\tvalidation_0-rmse:2.39666e+06\tvalidation_1-rmse:6.69333e+06\n[76]\tvalidation_0-rmse:2.38819e+06\tvalidation_1-rmse:6.6692e+06\n[77]\tvalidation_0-rmse:2.3858e+06\tvalidation_1-rmse:6.67429e+06\n[78]\tvalidation_0-rmse:2.38033e+06\tvalidation_1-rmse:6.68022e+06\n[79]\tvalidation_0-rmse:2.37747e+06\tvalidation_1-rmse:6.67901e+06\n[80]\tvalidation_0-rmse:2.37267e+06\tvalidation_1-rmse:6.67543e+06\n[81]\tvalidation_0-rmse:2.36651e+06\tvalidation_1-rmse:6.67565e+06\n[82]\tvalidation_0-rmse:2.36356e+06\tvalidation_1-rmse:6.65232e+06\n[83]\tvalidation_0-rmse:2.35862e+06\tvalidation_1-rmse:6.65613e+06\n[84]\tvalidation_0-rmse:2.35383e+06\tvalidation_1-rmse:6.63978e+06\n[85]\tvalidation_0-rmse:2.3519e+06\tvalidation_1-rmse:6.6225e+06\n[86]\tvalidation_0-rmse:2.34112e+06\tvalidation_1-rmse:6.61946e+06\n[87]\tvalidation_0-rmse:2.33404e+06\tvalidation_1-rmse:6.62302e+06\n[88]\tvalidation_0-rmse:2.33096e+06\tvalidation_1-rmse:6.61708e+06\n[89]\tvalidation_0-rmse:2.32783e+06\tvalidation_1-rmse:6.61959e+06\n[90]\tvalidation_0-rmse:2.32389e+06\tvalidation_1-rmse:6.60534e+06\n[91]\tvalidation_0-rmse:2.32183e+06\tvalidation_1-rmse:6.60559e+06\n[92]\tvalidation_0-rmse:2.31008e+06\tvalidation_1-rmse:6.59862e+06\n[93]\tvalidation_0-rmse:2.30852e+06\tvalidation_1-rmse:6.57758e+06\n[94]\tvalidation_0-rmse:2.30663e+06\tvalidation_1-rmse:6.57654e+06\n[95]\tvalidation_0-rmse:2.30138e+06\tvalidation_1-rmse:6.57658e+06\n[96]\tvalidation_0-rmse:2.2981e+06\tvalidation_1-rmse:6.57637e+06\n[97]\tvalidation_0-rmse:2.29607e+06\tvalidation_1-rmse:6.57548e+06\n[98]\tvalidation_0-rmse:2.29469e+06\tvalidation_1-rmse:6.55592e+06\n[99]\tvalidation_0-rmse:2.29039e+06\tvalidation_1-rmse:6.56298e+06\n"
        },
        {
          "data": {
            "text/plain": "XGBRegressor(base_score=0.5, booster='gbtree', colsample_bylevel=1,\n       colsample_bytree=1, gamma=0, importance_type='gain',\n       learning_rate=0.1, max_delta_step=0, max_depth=3,\n       min_child_weight=1, missing=None, n_estimators=100, n_jobs=8,\n       nthread=None, objective='reg:linear', random_state=0, reg_alpha=0,\n       reg_lambda=1, scale_pos_weight=1, seed=None, silent=True,\n       subsample=1)"
          },
          "execution_count": 90,
          "metadata": {},
          "output_type": "execute_result"
        }
      ]
    },
    {
      "metadata": {},
      "cell_type": "markdown",
      "source": "Not a very impressive performance. The test error is"
    },
    {
      "metadata": {
        "trusted": false
      },
      "cell_type": "code",
      "source": "y_pred = model.predict(X_test)\nsqrt(mean_squared_error(y_pred, y_test))",
      "execution_count": 91,
      "outputs": [
        {
          "data": {
            "text/plain": "6562984.03156703"
          },
          "execution_count": 91,
          "metadata": {},
          "output_type": "execute_result"
        }
      ]
    },
    {
      "metadata": {},
      "cell_type": "markdown",
      "source": "while the test mean is"
    },
    {
      "metadata": {
        "trusted": false
      },
      "cell_type": "code",
      "source": "np.mean(y_test)",
      "execution_count": 92,
      "outputs": [
        {
          "data": {
            "text/plain": "13822356.586079016"
          },
          "execution_count": 92,
          "metadata": {},
          "output_type": "execute_result"
        }
      ]
    },
    {
      "metadata": {},
      "cell_type": "markdown",
      "source": "which means the error is on average close to 50% of the value to be predicted. The model clearly overfits and we could tune the large number of parameters that the algorithm possesses, but it will probably not change the performance greatly<br>\nLet us see if a simple linear regression does better"
    },
    {
      "metadata": {},
      "cell_type": "markdown",
      "source": "### Linear Regression"
    },
    {
      "metadata": {},
      "cell_type": "markdown",
      "source": "We do not unfortunately have a good independent variable. Let us artifically use the year as a predictor. We will also try to use the previous year's total income and see if this changes the results<br>\nWe could predict a big model for all the property types and municipalities, but there are large differences accross them, so the model is bound not to perform well. We will instead create a separate model for each property type and municipality and manually compute the root mean square error accross the different models"
    },
    {
      "metadata": {
        "trusted": false
      },
      "cell_type": "code",
      "source": "total_error = 0.0\nX = np.array(range(1980, 2014)).reshape(-1, 1)\nyear_to_predict = np.array(2014).reshape(-1, 1)\nfor index, row in real_estate[['Property_Type', 'REFNIS']].drop_duplicates().iterrows():\n    temp = real_estate[(real_estate.Property_Type == row['Property_Type']) &\n                       (real_estate.REFNIS == row['REFNIS'])]\n    linreg = linear_model.LinearRegression()\n    y = temp.Total_Price[temp.Year < 2014]\n    linreg.fit(X, y)\n    preds = linreg.predict(year_to_predict)\n    total_error += (preds[0] - temp.Total_Price[temp.Year == 2014].values[0]) ** 2\nprint(sqrt(total_error / real_estate[['Property_Type', 'REFNIS']].drop_duplicates().shape[0]))",
      "execution_count": 93,
      "outputs": [
        {
          "name": "stdout",
          "output_type": "stream",
          "text": "9939375.414259803\n"
        }
      ]
    },
    {
      "metadata": {},
      "cell_type": "markdown",
      "source": "The error is larger than that of XGBoost, however, this might be due to the fact that the total price does not have a linear tendency across all years (the graph from the beginning of the notebook shows this). The linear tendency might exist only for more recent years<br>\nLet us check if, by considering less years, the performance gets better"
    },
    {
      "metadata": {
        "trusted": false
      },
      "cell_type": "code",
      "source": "# Keep at least 10 years\nfor start_year in range(1981, 2005):\n    total_error = 0.0\n    X = np.array(range(start_year, 2014)).reshape(-1, 1)\n    year_to_predict = np.array(2014).reshape(-1, 1)\n    for index, row in real_estate[['Property_Type', 'REFNIS']].drop_duplicates().iterrows():\n        temp = real_estate[(real_estate.Year >= start_year) &\n                           (real_estate.Property_Type == row['Property_Type']) &\n                           (real_estate.REFNIS == row['REFNIS'])]\n        linreg = linear_model.LinearRegression()\n        y = temp.Total_Price[temp.Year < 2014]\n        linreg.fit(X, y)\n        preds = linreg.predict(year_to_predict)\n        total_error += (preds[0] - temp.Total_Price[temp.Year == 2014].values[0]) ** 2\n    print(sqrt(total_error / real_estate[['Property_Type', 'REFNIS']].drop_duplicates().shape[0]))",
      "execution_count": 94,
      "outputs": [
        {
          "name": "stdout",
          "output_type": "stream",
          "text": "9611168.497364726\n9316086.24453085\n9034336.900363205\n8778205.286952782\n8525409.15544176\n8271861.236445602\n8015736.505760839\n7775034.378921523\n7535678.796630517\n7286962.827281447\n7041206.592562818\n6788427.364318308\n6536101.223913533\n6320326.2107204795\n6108080.228644768\n5944271.870567826\n5782829.895049678\n5643638.094739548\n5528506.103580918\n5393215.620939509\n5281357.674497895\n5180525.463288527\n4950954.2555402005\n4835762.339632503\n"
        }
      ]
    },
    {
      "metadata": {},
      "cell_type": "markdown",
      "source": "The performance does get better, but we run the risk of having too little data for building the model<br>\nLet us now see how using the previous year's total income changes the results"
    },
    {
      "metadata": {
        "collapsed": true,
        "trusted": false
      },
      "cell_type": "code",
      "source": "temp = real_estate[['Year', 'Property_Type', 'REFNIS', 'Total_Income']].copy()\n\ntemp.Year += 1\ntemp.columns = ['Year', 'Property_Type', 'REFNIS', 'Total_Income_Prev_Year']\nreal_estate = real_estate.merge(temp, on = ['Year', 'Property_Type', 'REFNIS'], how = 'left')",
      "execution_count": 95,
      "outputs": []
    },
    {
      "metadata": {
        "collapsed": true,
        "trusted": false
      },
      "cell_type": "code",
      "source": "real_estate.Total_Income = real_estate.Total_Income_Prev_Year\ndel real_estate['Total_Income_Prev_Year']",
      "execution_count": 96,
      "outputs": []
    },
    {
      "metadata": {
        "trusted": false
      },
      "cell_type": "code",
      "source": "# Keep at least 10 years\nfor start_year in range(1981, 2005):\n    total_error = 0.0\n    for index, row in real_estate[['Property_Type', 'REFNIS']].drop_duplicates().iterrows():\n        temp = real_estate[(real_estate.Year >= start_year) &\n                           (real_estate.Property_Type == row['Property_Type']) &\n                           (real_estate.REFNIS == row['REFNIS'])]\n        linreg = linear_model.LinearRegression()\n        X = temp.Total_Income[temp.Year < 2014].values.reshape(-1, 1)\n        y = temp.Total_Price[temp.Year < 2014]\n        linreg.fit(X, y)\n        preds = linreg.predict(temp.Total_Income[temp.Year == 2014].values.reshape(-1, 1))\n        total_error += (preds[0] - temp.Total_Price[temp.Year == 2014].values[0]) ** 2\n    print(sqrt(total_error / real_estate[['Property_Type', 'REFNIS']].drop_duplicates().shape[0]))",
      "execution_count": 97,
      "outputs": [
        {
          "name": "stdout",
          "output_type": "stream",
          "text": "7110482.771435368\n7003103.794967594\n6900208.512972255\n6814288.53469308\n6728543.5460153455\n6635333.870237521\n6544758.984743369\n6472673.804649294\n6405077.206056703\n6353580.756759574\n6285351.290838057\n6195281.784398591\n6103508.243881518\n6024495.335745726\n5935949.745562006\n5845565.631367709\n5743198.44740072\n5642893.888132112\n5546008.899935637\n5424370.397692563\n5306063.349268821\n5221608.209180968\n5047772.083247414\n5046566.5493395645\n"
        }
      ]
    },
    {
      "metadata": {},
      "cell_type": "markdown",
      "source": "The performance starts off better than that of the model using the year as predictor, but it is surpassed when only recent years are used"
    },
    {
      "metadata": {},
      "cell_type": "markdown",
      "source": "### Autoregressive Model"
    },
    {
      "metadata": {
        "collapsed": true,
        "trusted": false
      },
      "cell_type": "code",
      "source": "# Pick a random property type and municipality to see if there is indeed autoregression\ntemp = real_estate.Total_Price[(real_estate.Property_Type == 'appartements, flats, studios') &\n                               (real_estate.REFNIS == '21018')]",
      "execution_count": 98,
      "outputs": []
    },
    {
      "metadata": {
        "trusted": false
      },
      "cell_type": "code",
      "source": "pd.plotting.lag_plot(temp)\nplt.show()",
      "execution_count": 99,
      "outputs": [
        {
          "data": {
            "image/png": "[encoded data removed]",
            "text/plain": "<Figure size 432x288 with 1 Axes>"
          },
          "metadata": {},
          "output_type": "display_data"
        }
      ]
    },
    {
      "metadata": {
        "trusted": false
      },
      "cell_type": "code",
      "source": "values = pd.DataFrame(temp.values)\ndataframe = pd.concat([values.shift(1), values], axis=1)\ndataframe.columns = ['t-1', 't']\nresult = dataframe.corr()\nprint(result)",
      "execution_count": 100,
      "outputs": [
        {
          "name": "stdout",
          "output_type": "stream",
          "text": "          t-1         t\nt-1  1.000000  0.968522\nt    0.968522  1.000000\n"
        }
      ]
    },
    {
      "metadata": {
        "trusted": false
      },
      "cell_type": "code",
      "source": "pd.plotting.autocorrelation_plot(temp)\nplt.show()",
      "execution_count": 101,
      "outputs": [
        {
          "data": {
            "image/png": "[encoded data removed]",
            "text/plain": "<Figure size 432x288 with 1 Axes>"
          },
          "metadata": {},
          "output_type": "display_data"
        }
      ]
    },
    {
      "metadata": {
        "scrolled": true,
        "trusted": false
      },
      "cell_type": "code",
      "source": "plot_acf(temp, lags=12)\nplt.show()",
      "execution_count": 102,
      "outputs": [
        {
          "data": {
            "image/png": "[encoded data removed]",
            "text/plain": "<Figure size 432x288 with 1 Axes>"
          },
          "metadata": {},
          "output_type": "display_data"
        }
      ]
    },
    {
      "metadata": {},
      "cell_type": "markdown",
      "source": "The autocorrelation seems to be quite high<br>\nWe will use the same approach of creating a separate model for each property type and municipality and manually compute the root mean square error accross the different models"
    },
    {
      "metadata": {
        "trusted": false
      },
      "cell_type": "code",
      "source": "total_error = 0.0\n# split dataset\nfor index, row in real_estate[['Property_Type', 'REFNIS']].drop_duplicates().iterrows():\n    series = real_estate.Total_Price[(real_estate.REFNIS == row['REFNIS']) &\n                                     (real_estate.Property_Type == row['Property_Type'])]\n    X = series.values\n    train, test = X[1:len(X)-1], X[len(X)-1:]\n    # train autoregression\n    model = AR(train)\n    model_fit = model.fit()\n    predictions = model_fit.predict(start=len(train), end=len(train)+len(test)-1, dynamic=False)\n    total_error += (test[0] - predictions[0]) ** 2\nprint('Test RMSE: %.3f' % sqrt(total_error / real_estate[['Property_Type', 'REFNIS']].drop_duplicates().shape[0]))",
      "execution_count": 103,
      "outputs": [
        {
          "name": "stdout",
          "output_type": "stream",
          "text": "Test RMSE: 12366690.314\n"
        }
      ]
    },
    {
      "metadata": {},
      "cell_type": "markdown",
      "source": "The performance is the worst of all the models"
    },
    {
      "metadata": {},
      "cell_type": "markdown",
      "source": "### Filtered Data"
    },
    {
      "metadata": {},
      "cell_type": "markdown",
      "source": "Since there are a lot of municipalities with no transactions for some property type during some of the years, this might adversely impact performance, as the scatterplot goes up and down somewhat randomly<br>\nLet us remove these municipality/property type combinations from the data and check the performance afterwards. We will only do this for the linear and the autoregression models"
    },
    {
      "metadata": {
        "collapsed": true,
        "trusted": false
      },
      "cell_type": "code",
      "source": "#Drop the municipality/property type combinations for which there is at least one record with less than 10 transactions\ntemp = real_estate.loc[real_estate.Total_Transactions < 10, ['Property_Type', 'REFNIS']].drop_duplicates()\nreal_estate = real_estate.merge(temp, how = 'left', indicator = True)\nreal_estate = real_estate[real_estate['_merge'] == 'left_only']\nreal_estate.drop('_merge', axis = 1, inplace = True)",
      "execution_count": 104,
      "outputs": []
    },
    {
      "metadata": {
        "trusted": false
      },
      "cell_type": "code",
      "source": "# Keep at least 10 years\nfor start_year in range(1980, 2005):\n    total_error = 0.0\n    X = np.array(range(start_year, 2014)).reshape(-1, 1)\n    year_to_predict = np.array(2014).reshape(-1, 1)\n    for index, row in real_estate[['Property_Type', 'REFNIS']].drop_duplicates().iterrows():\n        temp = real_estate[(real_estate.Year >= start_year) &\n                           (real_estate.Property_Type == row['Property_Type']) &\n                           (real_estate.REFNIS == row['REFNIS'])]\n        linreg = linear_model.LinearRegression()\n        y = temp.Total_Price[temp.Year < 2014]\n        linreg.fit(X, y)\n        preds = linreg.predict(year_to_predict)\n        total_error += (preds[0] - temp.Total_Price[temp.Year == 2014].values[0]) ** 2\n    print(sqrt(total_error / real_estate[['Property_Type', 'REFNIS']].drop_duplicates().shape[0]))",
      "execution_count": 105,
      "outputs": [
        {
          "name": "stdout",
          "output_type": "stream",
          "text": "14739806.939540448\n14242785.680203957\n13797952.09900183\n13373794.8557538\n12990095.807441952\n12611112.505535932\n12230171.630374404\n11844253.202755323\n11481648.109813686\n11120669.474024076\n10743851.580761855\n10369830.003373565\n9982219.24266359\n9593782.78637951\n9262178.602657398\n8934376.958682908\n8679870.501318099\n8431185.898931397\n8216294.8753809165\n8032901.663720967\n7813799.069859538\n7627607.460101926\n7454047.10072855\n7061678.639783175\n6845966.645330118\n"
        }
      ]
    },
    {
      "metadata": {},
      "cell_type": "markdown",
      "source": "The error is higher, however, the average now is"
    },
    {
      "metadata": {
        "trusted": false
      },
      "cell_type": "code",
      "source": "np.mean(real_estate.Total_Price[real_estate.Year == 2014])",
      "execution_count": 106,
      "outputs": [
        {
          "data": {
            "text/plain": "24561951.18022042"
          },
          "execution_count": 106,
          "metadata": {},
          "output_type": "execute_result"
        }
      ]
    },
    {
      "metadata": {},
      "cell_type": "markdown",
      "source": "so the relative error went down<br>\nHow about the model based on previous year's total income ?"
    },
    {
      "metadata": {
        "trusted": false
      },
      "cell_type": "code",
      "source": "# Keep at least 10 years\nfor start_year in range(1981, 2005):\n    total_error = 0.0\n    for index, row in real_estate[['Property_Type', 'REFNIS']].drop_duplicates().iterrows():\n        temp = real_estate[(real_estate.Year >= start_year) &\n                           (real_estate.Property_Type == row['Property_Type']) &\n                           (real_estate.REFNIS == row['REFNIS'])]\n        linreg = linear_model.LinearRegression()\n        X = temp.Total_Income[temp.Year < 2014].values.reshape(-1, 1)\n        y = temp.Total_Price[temp.Year < 2014]\n        linreg.fit(X, y)\n        preds = linreg.predict(temp.Total_Income[temp.Year == 2014].values.reshape(-1, 1))\n        total_error += (preds[0] - temp.Total_Price[temp.Year == 2014].values[0]) ** 2\n    print(sqrt(total_error / real_estate[['Property_Type', 'REFNIS']].drop_duplicates().shape[0]))",
      "execution_count": 107,
      "outputs": [
        {
          "name": "stdout",
          "output_type": "stream",
          "text": "10460705.605694834\n10299791.027509466\n10145449.428510092\n10017849.244435597\n9889938.69215486\n9749313.307627857\n9611817.417621177\n9502971.711975785\n9401245.448547835\n9324242.67709834\n9219557.530887315\n9079066.358788129\n8934843.826946447\n8810952.479484946\n8672485.851630764\n8529551.655445645\n8368782.730196029\n8211068.794160518\n8054857.14201307\n7856202.928652195\n7660007.9904777575\n7513609.752127302\n7214552.546908635\n7191069.507739999\n"
        }
      ]
    },
    {
      "metadata": {},
      "cell_type": "markdown",
      "source": "We notice the same behaviour of performance starting off better than that of the model using the year as predictor, while being surpassed when only recent years are used<br>\nLet us see how the autoregression model does on the new data"
    },
    {
      "metadata": {
        "trusted": false
      },
      "cell_type": "code",
      "source": "total_error = 0.0\n# split dataset\nfor index, row in real_estate[['Property_Type', 'REFNIS']].drop_duplicates().iterrows():\n    series = real_estate.Total_Price[(real_estate.REFNIS == row['REFNIS']) &\n                                     (real_estate.Property_Type == row['Property_Type'])]\n    X = series.values\n    train, test = X[1:len(X)-1], X[len(X)-1:]\n    # train autoregression\n    model = AR(train)\n    model_fit = model.fit()\n    predictions = model_fit.predict(start=len(train), end=len(train)+len(test)-1, dynamic=False)\n    total_error += (test[0] - predictions[0]) ** 2\nprint('Test RMSE: %.3f' % sqrt(total_error / real_estate[['Property_Type', 'REFNIS']].drop_duplicates().shape[0]))",
      "execution_count": 108,
      "outputs": [
        {
          "name": "stdout",
          "output_type": "stream",
          "text": "Test RMSE: 12760835.991\n"
        }
      ]
    },
    {
      "metadata": {},
      "cell_type": "markdown",
      "source": "The performance is still worse than that of the best linear models"
    },
    {
      "metadata": {},
      "cell_type": "markdown",
      "source": "## Conclusions"
    },
    {
      "metadata": {},
      "cell_type": "markdown",
      "source": "It seems that the best performance we can get is by using a linear regressor for about 10 years' worth of data. XGBoost and the autoregressive model do worse, which is probably due to the linear nature of the data. A simple linear model is enough to capture the tendency, while there is probably not enough data (for a municipality/property type combination) for autoregression and XGBoost is too complex for this case. Removing the municipalities with very few transactions increases the absolute error but improves the relative one"
    }
  ],
  "metadata": {
    "kernelspec": {
      "name": "python3",
      "display_name": "Python 3",
      "language": "python"
    },
    "language_info": {
      "mimetype": "text/x-python",
      "nbconvert_exporter": "python",
      "name": "python",
      "pygments_lexer": "ipython3",
      "version": "3.5.4",
      "file_extension": ".py",
      "codemirror_mode": {
        "version": 3,
        "name": "ipython"
      }
    }
  },
  "nbformat": 4,
  "nbformat_minor": 1
}